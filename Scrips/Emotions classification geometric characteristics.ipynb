{
 "cells": [
  {
   "cell_type": "code",
   "execution_count": 1,
   "metadata": {},
   "outputs": [
    {
     "name": "stderr",
     "output_type": "stream",
     "text": [
      "/home/jorgher/.virtualenvs/cv/lib/python3.5/site-packages/h5py/__init__.py:36: FutureWarning: Conversion of the second argument of issubdtype from `float` to `np.floating` is deprecated. In future, it will be treated as `np.float64 == np.dtype(float).type`.\n",
      "  from ._conv import register_converters as _register_converters\n",
      "Using TensorFlow backend.\n"
     ]
    }
   ],
   "source": [
    "import keras\n",
    "import glob\n",
    "import os\n",
    "import numpy as np\n",
    "import matplotlib.pyplot as plt\n",
    "import pandas as pd\n",
    "from sklearn.model_selection import train_test_split\n",
    "from sklearn import preprocessing\n",
    "from keras.models import Sequential\n",
    "from keras.layers import Dense, Dropout, Activation\n",
    "from keras.optimizers import *"
   ]
  },
  {
   "cell_type": "code",
   "execution_count": 2,
   "metadata": {
    "collapsed": true
   },
   "outputs": [],
   "source": [
    "path = \"/home/jorgher/Documents/faceRec/CFEE/\"\n",
    "files = sorted(glob.glob(path+'*.csv'))\n",
    "files = files[:7]\n",
    "emotions_ = [\"neutral\",'happy','sad','fearful','angry','surprised','disgusted']\n",
    "emotions = [0,1,2,3,4,5,6]\n",
    "#emotions = [0,1,2,3,4]\n",
    "n_classes = len(emotions)\n",
    "dbs = []\n",
    "for i,f in enumerate(files):\n",
    "    db = pd.read_csv(f)\n",
    "    db['file'] = db['file'].map(lambda x: str(x)[15:])\n",
    "    db['file'] = db['file'].map(lambda x: str(x)[:-4]).astype(int)\n",
    "    db['Subjet'] = db['file']\n",
    "    db['Emotions'] = emotions[i]\n",
    "    dbs.append(db)\n",
    "\n",
    "db = (pd.concat(dbs[i][:] for i in range(len(files))))\n",
    "db = db.sort_values('file')\n",
    "#df['Emotion']=df['file']\n",
    "db.drop(['file'], axis=1, inplace=True)"
   ]
  },
  {
   "cell_type": "code",
   "execution_count": 3,
   "metadata": {
    "collapsed": true
   },
   "outputs": [],
   "source": [
    "features = list(db.columns[:13])\n",
    "Etype={'neutral': 0, 'happy': 1,\n",
    "        'sad': 2,'fearful': 3,'angry': 4,\n",
    "        'surprised': 5,'disgusted': 6}\n",
    "Etype_={0:'neutral', 1: 'happy',\n",
    "         2:'sad', 3:'fearful', 4:'angry',\n",
    "         5:'surprised', 6:'disgusted'}"
   ]
  },
  {
   "cell_type": "code",
   "execution_count": 4,
   "metadata": {},
   "outputs": [
    {
     "data": {
      "text/plain": [
       "((1610, 13), (1610,))"
      ]
     },
     "execution_count": 4,
     "metadata": {},
     "output_type": "execute_result"
    }
   ],
   "source": [
    "db_data = db[features]\n",
    "db_target = db['Emotions']\n",
    "db_data.shape,db_target.shape"
   ]
  },
  {
   "cell_type": "code",
   "execution_count": 5,
   "metadata": {
    "collapsed": true
   },
   "outputs": [],
   "source": [
    "X_train, X_test, y_train, y_test = train_test_split(db_data, db_target, test_size=0.3, random_state=0)\n",
    "scaler = preprocessing.StandardScaler().fit(X_train)\n",
    "X_train_t= scaler.transform(X_train)\n",
    "y_train_t = keras.utils.to_categorical(y_train)\n",
    "X_test_t = scaler.transform(X_test)\n",
    "y_test_t = keras.utils.to_categorical(y_test)"
   ]
  },
  {
   "cell_type": "code",
   "execution_count": 6,
   "metadata": {},
   "outputs": [
    {
     "data": {
      "text/plain": [
       "((1127, 13), (1127, 7))"
      ]
     },
     "execution_count": 6,
     "metadata": {},
     "output_type": "execute_result"
    }
   ],
   "source": [
    "X_train_t.shape, y_train_t.shape"
   ]
  },
  {
   "cell_type": "code",
   "execution_count": 7,
   "metadata": {
    "collapsed": true
   },
   "outputs": [],
   "source": [
    "model = Sequential()\n",
    "# Dense(64) is a fully-connected layer with 64 hidden units.\n",
    "# in the first layer, you must specify the expected input data shape:\n",
    "# here, 13-dimensional vectors.\n",
    "model.add(Dense(64, activation='relu', input_dim=13))\n",
    "model.add(Dropout(0.5))\n",
    "model.add(Dense(64, activation='relu'))\n",
    "model.add(Dropout(0.5))\n",
    "model.add(Dense(7, activation='softmax'))"
   ]
  },
  {
   "cell_type": "code",
   "execution_count": 10,
   "metadata": {},
   "outputs": [
    {
     "name": "stdout",
     "output_type": "stream",
     "text": [
      " Optimizador: SGD\n",
      "La perdida es: 0.83, y la precision: 69.57%\n",
      "Grabando los coeficientes al archivo...\n",
      "[INFO] Predicted: 0\n",
      "La eficiencia del modelo es: 0.8278, y su precision es: 69.5652%\n",
      "\n",
      "\n",
      " Optimizador: RMSprop\n",
      "La perdida es: 0.84, y la precision: 69.77%\n",
      "Grabando los coeficientes al archivo...\n",
      "[INFO] Predicted: 0\n",
      "La eficiencia del modelo es: 0.8370, y su precision es: 69.7723%\n",
      "\n",
      "\n",
      " Optimizador: Adagrad\n",
      "La perdida es: 0.84, y la precision: 69.36%\n",
      "Grabando los coeficientes al archivo...\n",
      "[INFO] Predicted: 0\n",
      "La eficiencia del modelo es: 0.8420, y su precision es: 69.3582%\n",
      "\n",
      "\n",
      " Optimizador: Adadelta\n",
      "La perdida es: 0.84, y la precision: 69.36%\n",
      "Grabando los coeficientes al archivo...\n",
      "[INFO] Predicted: 0\n",
      "La eficiencia del modelo es: 0.8399, y su precision es: 69.3582%\n",
      "\n",
      "\n",
      " Optimizador: Adam\n",
      "La perdida es: 0.84, y la precision: 69.98%\n",
      "Grabando los coeficientes al archivo...\n",
      "[INFO] Predicted: 0\n",
      "La eficiencia del modelo es: 0.8432, y su precision es: 69.9793%\n",
      "\n",
      "\n",
      " Optimizador: Adamax\n",
      "La perdida es: 0.85, y la precision: 70.19%\n",
      "Grabando los coeficientes al archivo...\n",
      "[INFO] Predicted: 0\n",
      "La eficiencia del modelo es: 0.8464, y su precision es: 70.1863%\n",
      "\n",
      "\n",
      " Optimizador: Nadam\n",
      "La perdida es: 0.85, y la precision: 68.94%\n",
      "Grabando los coeficientes al archivo...\n",
      "[INFO] Predicted: 0\n",
      "La eficiencia del modelo es: 0.8513, y su precision es: 68.9441%\n",
      "\n",
      "\n"
     ]
    }
   ],
   "source": [
    "optimizers = [SGD(lr=0.01, decay=1e-6, momentum=0.9, nesterov=True),\n",
    "              RMSprop(lr=0.001, rho=0.9, epsilon=None, decay=0.0),\n",
    "              Adagrad(lr=0.01, epsilon=None, decay=0.0),\n",
    "              Adadelta(lr=1.0, rho=0.95, epsilon=None, decay=0.0),\n",
    "              Adam(lr=0.001, beta_1=0.9, beta_2=0.999, epsilon=None, decay=0.0),#, amsgrad=False),\n",
    "              Adamax(lr=0.002, beta_1=0.9, beta_2=0.999, epsilon=None, decay=0.0),\n",
    "              Nadam(lr=0.002, beta_1=0.9, beta_2=0.999, epsilon=None, schedule_decay=0.004)]#,TFOptimizer(optimizer)]\n",
    "\n",
    "optimizers_ = ['SGD','RMSprop','Adagrad','Adadelta','Adam','Adamax','Nadam']\n",
    "loss_ = ['mean_squared_error','mean_absolute_error','']\n",
    "\n",
    "for i,opt in enumerate(optimizers_):\n",
    "    print(' Optimizador: '+ opt)\n",
    "    model.compile(loss='categorical_crossentropy',\n",
    "              optimizer= opt,\n",
    "              metrics=['accuracy'])\n",
    "    model.fit(X_train_t, y_train_t,\n",
    "              epochs=30,verbose=0,\n",
    "              batch_size=128)\n",
    "    \n",
    "    (loss, accuracy) = model.evaluate(X_test_t, y_test_t,\n",
    "                                      batch_size=128, verbose=0)\n",
    "    print(\"La perdida es: {:.2f}, y la precision: {:.2f}%\".format(loss,accuracy * 100))\n",
    "    \n",
    "    print(\"Grabando los coeficientes al archivo...\")\n",
    "    model.save_weights('Emo_weights'+opt+'.hdf5', overwrite=True)\n",
    "   \n",
    "    ## Testing with a set of vectors coming from facerec app.\n",
    "    probs = model.predict([[ 0.39466814,  0.36386604,  0.37833949,  0.08193851,  0.08193851,  0.23204663,\n",
    "   0.70771351,  0.01217944,  0.00351996,  0.0120441,   0.00504033,  0.00701828,\n",
    "   0.01361792],[ 0.39466814,  0.36386604,  0.37833949,  0.08193851,  0.08193851,  0.23204663,\n",
    "   0.70771351,  0.01217944,  0.00351996,  0.0120441,   0.00504033,  0.00701828,\n",
    "   0.01361792],[ 0.39466814,  0.36386604,  0.37833949,  0.08193851,  0.08193851,  0.23204663,\n",
    "   0.70771351,  0.01217944,  0.00351996,  0.0120441,   0.00504033,  0.00701828,\n",
    "   0.01361792],[ 0.39466814,  0.36386604,  0.37833949,  0.08193851,  0.08193851,  0.23204663,\n",
    "   0.70771351,  0.01217944,  0.00351996,  0.0120441,   0.00504033,  0.00701828,\n",
    "   0.01361792],[ 0.39466814,  0.36386604,  0.37833949,  0.08193851,  0.08193851,  0.23204663,\n",
    "   0.70771351,  0.01217944,  0.00351996,  0.0120441,   0.00504033,  0.00701828,\n",
    "   0.01361792],[ 0.39466814,  0.36386604,  0.37833949,  0.08193851,  0.08193851,  0.23204663,\n",
    "   0.70771351,  0.01217944,  0.00351996,  0.0120441,   0.00504033,  0.00701828,\n",
    "   0.01361792],[ 0.39466814,  0.36386604,  0.37833949,  0.08193851,  0.08193851,  0.23204663,\n",
    "   0.70771351,  0.01217944,  0.00351996,  0.0120441,   0.00504033,  0.00701828,\n",
    "   0.01361792],[ 0.39466814,  0.36386604,  0.37833949,  0.08193851,  0.08193851,  0.23204663,\n",
    "   0.70771351,  0.01217944,  0.00351996,  0.0120441,   0.00504033,  0.00701828,\n",
    "   0.01361792],[ 0.39466814,  0.36386604,  0.37833949,  0.08193851,  0.08193851,  0.23204663,\n",
    "   0.70771351,  0.01217944,  0.00351996,  0.0120441,   0.00504033,  0.00701828,\n",
    "   0.01361792]])\n",
    "\n",
    "    prediction = probs.argmax(axis=1)\n",
    "    print(\"[INFO] Predicted: {}\".format(prediction[0]))\n",
    "    \n",
    "    score = model.evaluate(X_test_t, y_test_t, verbose = 0, batch_size=32)\n",
    "    print(\"La eficiencia del modelo es: {:.4f}, y su precision es: {:.4f}%\".format(score[0],score[1]*100)) \n",
    "    print()\n",
    "    print()"
   ]
  },
  {
   "cell_type": "code",
   "execution_count": null,
   "metadata": {
    "collapsed": true
   },
   "outputs": [],
   "source": []
  }
 ],
 "metadata": {
  "kernelspec": {
   "display_name": "Python 3",
   "language": "python",
   "name": "python3"
  },
  "language_info": {
   "codemirror_mode": {
    "name": "ipython",
    "version": 3
   },
   "file_extension": ".py",
   "mimetype": "text/x-python",
   "name": "python",
   "nbconvert_exporter": "python",
   "pygments_lexer": "ipython3",
   "version": "3.5.2"
  }
 },
 "nbformat": 4,
 "nbformat_minor": 2
}
