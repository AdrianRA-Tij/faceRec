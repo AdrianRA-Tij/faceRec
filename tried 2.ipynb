{
 "cells": [
  {
   "cell_type": "code",
   "execution_count": null,
   "metadata": {},
   "outputs": [],
   "source": [
    "# Modificando VGG incrementado 3 capas itermedias (CONV => RELU) * 3 => POOL"
   ]
  },
  {
   "cell_type": "code",
   "execution_count": 26,
   "metadata": {},
   "outputs": [],
   "source": [
    "from keras.models import Sequential\n",
    "from keras.layers.normalization import BatchNormalization\n",
    "from keras.layers.convolutional import Conv2D\n",
    "from keras.layers.convolutional import MaxPooling2D\n",
    "from keras.layers.core import Activation\n",
    "from keras.layers.core import Flatten\n",
    "from keras.layers.core import Dropout\n",
    "from keras.layers.core import Dense\n",
    "from keras import backend as K\n",
    "\n",
    "def build(width, height, depth, classes):\n",
    "\t# initialize the model along with the input shape to be\n",
    "\t# \"channels last\" and the channels dimension itself\n",
    "\tmodel = Sequential()\n",
    "\tinputShape = (height, width, depth)\n",
    "\tchanDim = -1\n",
    " \n",
    "\t# if we are using \"channels first\", update the input shape\n",
    "\t# and channels dimension\n",
    "\tif K.image_data_format() == \"channels_first\":\n",
    "\t\tinputShape = (depth, height, width)\n",
    "\t\tchanDim = 1\n",
    "\t# CONV => RELU => POOL\n",
    "\tmodel.add(Conv2D(32, (3, 3), padding=\"same\",\n",
    "\t\tinput_shape=inputShape))\n",
    "\tmodel.add(Activation(\"relu\"))\n",
    "\tmodel.add(BatchNormalization(axis=chanDim))\n",
    "\tmodel.add(MaxPooling2D(pool_size=(3, 3)))\n",
    "\tmodel.add(Dropout(0.25))\n",
    "\t# (CONV => RELU) * 2 => POOL\n",
    "\tmodel.add(Conv2D(64, (3, 3), padding=\"same\"))\n",
    "\tmodel.add(Activation(\"relu\"))\n",
    "\tmodel.add(BatchNormalization(axis=chanDim))\n",
    "\tmodel.add(Conv2D(64, (3, 3), padding=\"same\"))\n",
    "\tmodel.add(Activation(\"relu\"))\n",
    "\tmodel.add(BatchNormalization(axis=chanDim))\n",
    "\tmodel.add(MaxPooling2D(pool_size=(2, 2)))\n",
    "\tmodel.add(Dropout(0.25))\n",
    "    \n",
    "# (CONV => RELU) * 3 => POOL layer set\n",
    "\tmodel.add(Conv2D(128, (3, 3), padding=\"same\"))\n",
    "\tmodel.add(Activation(\"relu\"))\n",
    "\tmodel.add(BatchNormalization(axis=chanDim))\n",
    "\tmodel.add(Conv2D(128, (3, 3), padding=\"same\"))\n",
    "\tmodel.add(Activation(\"relu\"))\n",
    "\tmodel.add(BatchNormalization(axis=chanDim))\n",
    "\tmodel.add(Conv2D(128, (3, 3), padding=\"same\"))\n",
    "\tmodel.add(Activation(\"relu\"))\n",
    "\tmodel.add(BatchNormalization(axis=chanDim))\n",
    "\tmodel.add(MaxPooling2D(pool_size=(2, 2)))\n",
    "\tmodel.add(Dropout(0.25))\n",
    "\n",
    "    # first (and only) set of FC => RELU layers\n",
    "\tmodel.add(Flatten())\n",
    "\tmodel.add(Dense(512))\n",
    "\tmodel.add(Activation(\"relu\"))\n",
    "\tmodel.add(BatchNormalization())\n",
    "\tmodel.add(Dropout(0.5))\n",
    " \n",
    "\t# softmax classifier\n",
    "\tmodel.add(Dense(classes))\n",
    "\tmodel.add(Activation(\"softmax\"))\n",
    " \n",
    "\t# return the constructed network architecture\n",
    "\treturn model "
   ]
  },
  {
   "cell_type": "code",
   "execution_count": 1,
   "metadata": {},
   "outputs": [
    {
     "name": "stderr",
     "output_type": "stream",
     "text": [
      "/home/jorgel/.virtualenvs/dl4cv/lib/python3.6/site-packages/h5py/__init__.py:36: FutureWarning: Conversion of the second argument of issubdtype from `float` to `np.floating` is deprecated. In future, it will be treated as `np.float64 == np.dtype(float).type`.\n",
      "  from ._conv import register_converters as _register_converters\n",
      "Using TensorFlow backend.\n"
     ]
    },
    {
     "name": "stdout",
     "output_type": "stream",
     "text": [
      "[INFO] loading images...\n",
      "1610\n"
     ]
    }
   ],
   "source": [
    "from keras.utils import plot_model\n",
    "from keras.models import Model\n",
    "from keras.layers import Input\n",
    "from keras.layers import Dense\n",
    "from keras.layers import Flatten\n",
    "from keras.layers.core import Dropout\n",
    "from keras.layers.convolutional import Conv2D\n",
    "from keras.layers.pooling import MaxPooling2D\n",
    "from keras.preprocessing.image import ImageDataGenerator\n",
    "from keras.optimizers import Adam\n",
    "from keras.preprocessing.image import img_to_array\n",
    "from keras.models import model_from_json\n",
    "from keras.layers.pooling import AveragePooling2D\n",
    "from sklearn.preprocessing import LabelBinarizer\n",
    "from sklearn.model_selection import train_test_split\n",
    "import matplotlib.pyplot as plt\n",
    "from imutils import paths\n",
    "import numpy as np\n",
    "import argparse\n",
    "import random\n",
    "import pickle\n",
    "import cv2\n",
    "import os\n",
    "\n",
    "IMAGE_DIMS = (64, 64, 3)\n",
    "# initialize the data and labels\n",
    "data = []\n",
    "labels = []\n",
    "face_cascade = cv2.CascadeClassifier('haarcascade_frontalface_default.xml')\n",
    "\n",
    "# Convolutional Neural Network\n",
    "# grab the image paths and randomly shuffle them\n",
    "print(\"[INFO] loading images...\")\n",
    "path = '/home/jorgel/Documents/faceRec/dataset'\n",
    "imagePaths = sorted(list(paths.list_images(path)))\n",
    "print(len(imagePaths))\n",
    "random.seed(42)\n",
    "random.shuffle(imagePaths)"
   ]
  },
  {
   "cell_type": "code",
   "execution_count": 2,
   "metadata": {},
   "outputs": [],
   "source": [
    "# loop over the input images\n",
    "for imagePath in imagePaths:\n",
    "    # load the image, pre-process it, and store it in the data list\n",
    "    image = cv2.imread(imagePath)\n",
    "    face = face_cascade.detectMultiScale(image, 1.1, 7)\n",
    "    x = face[0][0]\n",
    "    y = face[0][1]\n",
    "    w = face[0][2]\n",
    "    h = face[0][3]\n",
    "    #print(x,y,h,w)\n",
    "    crop_img = image[y:y+h, x:x+w]\n",
    "    img = cv2.resize(crop_img, (IMAGE_DIMS[1], IMAGE_DIMS[0]))\n",
    "    img = img_to_array(img)    \n",
    "    data.append(img)\n",
    " \n",
    "    # extract the class label from the image path and update the\n",
    "    # labels list\n",
    "    label = imagePath.split(os.path.sep)[-2]\n",
    "    labels.append(label)\n",
    "\n",
    "data = np.array(data, dtype=\"float\") / 255\n",
    "# binarize the labels\n",
    "lb = LabelBinarizer()\n",
    "labels = lb.fit_transform(labels)"
   ]
  },
  {
   "cell_type": "code",
   "execution_count": 3,
   "metadata": {},
   "outputs": [],
   "source": [
    "# partition the data into training and testing splits using 80% of\n",
    "# the data for training and the remaining 20% for testing\n",
    "(trainX, testX, trainY, testY) = train_test_split(data,labels,test_size=0.2,random_state=42)"
   ]
  },
  {
   "cell_type": "code",
   "execution_count": 4,
   "metadata": {},
   "outputs": [
    {
     "name": "stdout",
     "output_type": "stream",
     "text": [
      "Size 1610\n",
      "(1610, 7)\n",
      "(1288, 64, 64, 3) (322, 64, 64, 3)\n",
      "(1288, 7) (322, 7)\n"
     ]
    }
   ],
   "source": [
    "print(\"Size {}\".format(len(labels)))\n",
    "print(labels.shape)\n",
    "print(trainX.shape, testX.shape)\n",
    "print(trainY.shape, testY.shape)"
   ]
  },
  {
   "cell_type": "code",
   "execution_count": 22,
   "metadata": {},
   "outputs": [],
   "source": [
    "np.savetxt(\"trainX.txt\",trainX.flatten())"
   ]
  },
  {
   "cell_type": "code",
   "execution_count": 23,
   "metadata": {},
   "outputs": [],
   "source": [
    "np.savetxt(\"TestX.txt\",testX.flatten())"
   ]
  },
  {
   "cell_type": "code",
   "execution_count": 24,
   "metadata": {},
   "outputs": [],
   "source": [
    "np.savetxt(\"TrainY.txt\",trainY.flatten())"
   ]
  },
  {
   "cell_type": "code",
   "execution_count": 25,
   "metadata": {},
   "outputs": [],
   "source": [
    "np.savetxt(\"TestY.txt\",testY.flatten())"
   ]
  },
  {
   "cell_type": "code",
   "execution_count": 27,
   "metadata": {},
   "outputs": [
    {
     "name": "stdout",
     "output_type": "stream",
     "text": [
      "[INFO] compiling model...\n"
     ]
    }
   ],
   "source": [
    "EPOCHS = 50\n",
    "INIT_LR = 1e-3\n",
    "BS = 32\n",
    "\n",
    "\n",
    "print(\"[INFO] compiling model...\")\n",
    "model = build(width=IMAGE_DIMS[1], height=IMAGE_DIMS[0],depth=IMAGE_DIMS[2], classes=7)"
   ]
  },
  {
   "cell_type": "code",
   "execution_count": 28,
   "metadata": {},
   "outputs": [
    {
     "name": "stdout",
     "output_type": "stream",
     "text": [
      "_________________________________________________________________\n",
      "Layer (type)                 Output Shape              Param #   \n",
      "=================================================================\n",
      "conv2d_4 (Conv2D)            (None, 64, 64, 32)        896       \n",
      "_________________________________________________________________\n",
      "activation_6 (Activation)    (None, 64, 64, 32)        0         \n",
      "_________________________________________________________________\n",
      "batch_normalization_5 (Batch (None, 64, 64, 32)        128       \n",
      "_________________________________________________________________\n",
      "max_pooling2d_3 (MaxPooling2 (None, 21, 21, 32)        0         \n",
      "_________________________________________________________________\n",
      "dropout_4 (Dropout)          (None, 21, 21, 32)        0         \n",
      "_________________________________________________________________\n",
      "conv2d_5 (Conv2D)            (None, 21, 21, 64)        18496     \n",
      "_________________________________________________________________\n",
      "activation_7 (Activation)    (None, 21, 21, 64)        0         \n",
      "_________________________________________________________________\n",
      "batch_normalization_6 (Batch (None, 21, 21, 64)        256       \n",
      "_________________________________________________________________\n",
      "conv2d_6 (Conv2D)            (None, 21, 21, 64)        36928     \n",
      "_________________________________________________________________\n",
      "activation_8 (Activation)    (None, 21, 21, 64)        0         \n",
      "_________________________________________________________________\n",
      "batch_normalization_7 (Batch (None, 21, 21, 64)        256       \n",
      "_________________________________________________________________\n",
      "max_pooling2d_4 (MaxPooling2 (None, 10, 10, 64)        0         \n",
      "_________________________________________________________________\n",
      "dropout_5 (Dropout)          (None, 10, 10, 64)        0         \n",
      "_________________________________________________________________\n",
      "conv2d_7 (Conv2D)            (None, 10, 10, 128)       73856     \n",
      "_________________________________________________________________\n",
      "activation_9 (Activation)    (None, 10, 10, 128)       0         \n",
      "_________________________________________________________________\n",
      "batch_normalization_8 (Batch (None, 10, 10, 128)       512       \n",
      "_________________________________________________________________\n",
      "conv2d_8 (Conv2D)            (None, 10, 10, 128)       147584    \n",
      "_________________________________________________________________\n",
      "activation_10 (Activation)   (None, 10, 10, 128)       0         \n",
      "_________________________________________________________________\n",
      "batch_normalization_9 (Batch (None, 10, 10, 128)       512       \n",
      "_________________________________________________________________\n",
      "conv2d_9 (Conv2D)            (None, 10, 10, 128)       147584    \n",
      "_________________________________________________________________\n",
      "activation_11 (Activation)   (None, 10, 10, 128)       0         \n",
      "_________________________________________________________________\n",
      "batch_normalization_10 (Batc (None, 10, 10, 128)       512       \n",
      "_________________________________________________________________\n",
      "max_pooling2d_5 (MaxPooling2 (None, 5, 5, 128)         0         \n",
      "_________________________________________________________________\n",
      "dropout_6 (Dropout)          (None, 5, 5, 128)         0         \n",
      "_________________________________________________________________\n",
      "flatten_2 (Flatten)          (None, 3200)              0         \n",
      "_________________________________________________________________\n",
      "dense_3 (Dense)              (None, 512)               1638912   \n",
      "_________________________________________________________________\n",
      "activation_12 (Activation)   (None, 512)               0         \n",
      "_________________________________________________________________\n",
      "batch_normalization_11 (Batc (None, 512)               2048      \n",
      "_________________________________________________________________\n",
      "dropout_7 (Dropout)          (None, 512)               0         \n",
      "_________________________________________________________________\n",
      "dense_4 (Dense)              (None, 7)                 3591      \n",
      "_________________________________________________________________\n",
      "activation_13 (Activation)   (None, 7)                 0         \n",
      "=================================================================\n",
      "Total params: 2,072,071\n",
      "Trainable params: 2,069,959\n",
      "Non-trainable params: 2,112\n",
      "_________________________________________________________________\n",
      "None\n"
     ]
    }
   ],
   "source": [
    "## Modelo modificado\n",
    "# summarize layers\n",
    "print(model.summary())\n",
    "# plot graph\n",
    "plot_model(model, to_file='VGG16_A.png')"
   ]
  },
  {
   "cell_type": "code",
   "execution_count": 29,
   "metadata": {},
   "outputs": [],
   "source": [
    "opt = Adam(lr=INIT_LR, decay=INIT_LR / EPOCHS)\n",
    "model.compile(loss=\"categorical_crossentropy\", optimizer=opt,metrics=[\"accuracy\"])"
   ]
  },
  {
   "cell_type": "code",
   "execution_count": 30,
   "metadata": {},
   "outputs": [],
   "source": [
    "# construct the image generator for data augmentation\n",
    "aug = ImageDataGenerator(rotation_range=25, width_shift_range=0.1,\n",
    "\theight_shift_range=0.1, shear_range=0.2, zoom_range=0.2,\n",
    "\thorizontal_flip=True, fill_mode=\"nearest\")"
   ]
  },
  {
   "cell_type": "code",
   "execution_count": 31,
   "metadata": {},
   "outputs": [
    {
     "name": "stdout",
     "output_type": "stream",
     "text": [
      "[INFO] training network...\n",
      "Epoch 1/50\n",
      "40/40 [==============================] - 29s 730ms/step - loss: 2.9995 - acc: 0.1845 - val_loss: 3.3928 - val_acc: 0.2422\n",
      "Epoch 2/50\n",
      "40/40 [==============================] - 27s 675ms/step - loss: 2.1965 - acc: 0.3016 - val_loss: 2.7948 - val_acc: 0.3385\n",
      "Epoch 3/50\n",
      "40/40 [==============================] - 27s 673ms/step - loss: 1.9811 - acc: 0.3447 - val_loss: 3.7046 - val_acc: 0.2857\n",
      "Epoch 4/50\n",
      "40/40 [==============================] - 27s 674ms/step - loss: 1.6720 - acc: 0.4155 - val_loss: 2.4931 - val_acc: 0.3696\n",
      "Epoch 5/50\n",
      "40/40 [==============================] - 27s 674ms/step - loss: 1.5922 - acc: 0.4312 - val_loss: 3.4400 - val_acc: 0.2826\n",
      "Epoch 6/50\n",
      "40/40 [==============================] - 27s 684ms/step - loss: 1.4010 - acc: 0.4640 - val_loss: 2.0689 - val_acc: 0.4627\n",
      "Epoch 7/50\n",
      "40/40 [==============================] - 27s 674ms/step - loss: 1.4233 - acc: 0.4743 - val_loss: 1.5831 - val_acc: 0.5000\n",
      "Epoch 8/50\n",
      "40/40 [==============================] - 27s 673ms/step - loss: 1.2265 - acc: 0.5274 - val_loss: 1.4174 - val_acc: 0.4845\n",
      "Epoch 9/50\n",
      "40/40 [==============================] - 27s 674ms/step - loss: 1.2619 - acc: 0.5234 - val_loss: 1.2354 - val_acc: 0.5404\n",
      "Epoch 10/50\n",
      "40/40 [==============================] - 27s 680ms/step - loss: 1.1893 - acc: 0.5423 - val_loss: 1.6013 - val_acc: 0.4938\n",
      "Epoch 11/50\n",
      "40/40 [==============================] - 27s 687ms/step - loss: 1.1091 - acc: 0.5914 - val_loss: 1.8553 - val_acc: 0.5093\n",
      "Epoch 12/50\n",
      "40/40 [==============================] - 28s 699ms/step - loss: 1.2182 - acc: 0.5405 - val_loss: 2.4264 - val_acc: 0.4255\n",
      "Epoch 13/50\n",
      "40/40 [==============================] - 26s 657ms/step - loss: 1.1037 - acc: 0.5766 - val_loss: 1.1580 - val_acc: 0.6118\n",
      "Epoch 14/50\n",
      "40/40 [==============================] - 27s 676ms/step - loss: 1.0359 - acc: 0.5938 - val_loss: 1.0696 - val_acc: 0.6335\n",
      "Epoch 15/50\n",
      "40/40 [==============================] - 27s 681ms/step - loss: 1.1262 - acc: 0.5673 - val_loss: 1.1917 - val_acc: 0.5932\n",
      "Epoch 16/50\n",
      "40/40 [==============================] - 30s 739ms/step - loss: 1.0433 - acc: 0.5781 - val_loss: 1.7998 - val_acc: 0.4441\n",
      "Epoch 17/50\n",
      "40/40 [==============================] - 29s 724ms/step - loss: 0.9614 - acc: 0.6336 - val_loss: 1.1630 - val_acc: 0.5994\n",
      "Epoch 18/50\n",
      "40/40 [==============================] - 26s 655ms/step - loss: 0.9196 - acc: 0.6624 - val_loss: 1.6787 - val_acc: 0.4938\n",
      "Epoch 19/50\n",
      "40/40 [==============================] - 27s 667ms/step - loss: 0.9319 - acc: 0.6397 - val_loss: 1.9713 - val_acc: 0.4472\n",
      "Epoch 20/50\n",
      "40/40 [==============================] - 28s 691ms/step - loss: 0.8862 - acc: 0.6525 - val_loss: 1.3016 - val_acc: 0.5559\n",
      "Epoch 21/50\n",
      "40/40 [==============================] - 28s 690ms/step - loss: 0.9169 - acc: 0.6524 - val_loss: 5.0170 - val_acc: 0.2578\n",
      "Epoch 22/50\n",
      "40/40 [==============================] - 28s 697ms/step - loss: 0.8758 - acc: 0.6656 - val_loss: 2.1043 - val_acc: 0.4286\n",
      "Epoch 23/50\n",
      "40/40 [==============================] - 28s 706ms/step - loss: 0.9055 - acc: 0.6657 - val_loss: 1.4337 - val_acc: 0.5714\n",
      "Epoch 24/50\n",
      "40/40 [==============================] - 27s 678ms/step - loss: 0.8557 - acc: 0.6594 - val_loss: 1.2255 - val_acc: 0.5590\n",
      "Epoch 25/50\n",
      "40/40 [==============================] - 27s 677ms/step - loss: 0.7970 - acc: 0.6945 - val_loss: 1.2353 - val_acc: 0.5776\n",
      "Epoch 26/50\n",
      "40/40 [==============================] - 27s 677ms/step - loss: 0.8679 - acc: 0.6593 - val_loss: 0.8611 - val_acc: 0.7112\n",
      "Epoch 27/50\n",
      "40/40 [==============================] - 27s 683ms/step - loss: 0.7812 - acc: 0.7116 - val_loss: 0.9548 - val_acc: 0.6491\n",
      "Epoch 28/50\n",
      "40/40 [==============================] - 27s 673ms/step - loss: 0.7422 - acc: 0.7008 - val_loss: 0.8274 - val_acc: 0.7143\n",
      "Epoch 29/50\n",
      "40/40 [==============================] - 31s 781ms/step - loss: 0.7881 - acc: 0.7015 - val_loss: 2.4132 - val_acc: 0.3292\n",
      "Epoch 30/50\n",
      "40/40 [==============================] - 28s 694ms/step - loss: 0.7163 - acc: 0.7203 - val_loss: 0.6939 - val_acc: 0.7298\n",
      "Epoch 31/50\n",
      "40/40 [==============================] - 30s 741ms/step - loss: 0.7498 - acc: 0.7110 - val_loss: 1.1120 - val_acc: 0.6056\n",
      "Epoch 32/50\n",
      "40/40 [==============================] - 30s 744ms/step - loss: 0.7211 - acc: 0.7267 - val_loss: 0.7884 - val_acc: 0.7360\n",
      "Epoch 33/50\n",
      "40/40 [==============================] - 30s 746ms/step - loss: 0.7267 - acc: 0.7344 - val_loss: 0.9879 - val_acc: 0.6584\n",
      "Epoch 34/50\n",
      "40/40 [==============================] - 26s 661ms/step - loss: 0.7217 - acc: 0.7344 - val_loss: 1.2500 - val_acc: 0.6211\n",
      "Epoch 35/50\n",
      "40/40 [==============================] - 26s 662ms/step - loss: 0.6908 - acc: 0.7414 - val_loss: 0.7459 - val_acc: 0.7422\n",
      "Epoch 36/50\n",
      "40/40 [==============================] - 28s 691ms/step - loss: 0.6770 - acc: 0.7383 - val_loss: 1.5164 - val_acc: 0.5342\n",
      "Epoch 37/50\n",
      "40/40 [==============================] - 27s 674ms/step - loss: 0.6536 - acc: 0.7437 - val_loss: 0.8927 - val_acc: 0.7050\n",
      "Epoch 38/50\n",
      "40/40 [==============================] - 27s 682ms/step - loss: 0.6438 - acc: 0.7554 - val_loss: 0.6812 - val_acc: 0.7826\n",
      "Epoch 39/50\n",
      "40/40 [==============================] - 28s 689ms/step - loss: 0.6523 - acc: 0.7538 - val_loss: 1.0266 - val_acc: 0.6429\n",
      "Epoch 40/50\n",
      "40/40 [==============================] - 31s 765ms/step - loss: 0.6342 - acc: 0.7609 - val_loss: 1.1707 - val_acc: 0.5621\n",
      "Epoch 41/50\n",
      "40/40 [==============================] - 28s 709ms/step - loss: 0.6342 - acc: 0.7640 - val_loss: 1.1461 - val_acc: 0.6522\n",
      "Epoch 42/50\n",
      "40/40 [==============================] - 28s 708ms/step - loss: 0.6354 - acc: 0.7563 - val_loss: 0.9649 - val_acc: 0.6584\n",
      "Epoch 43/50\n",
      "40/40 [==============================] - 29s 727ms/step - loss: 0.6297 - acc: 0.7657 - val_loss: 0.7877 - val_acc: 0.7205\n",
      "Epoch 44/50\n",
      "40/40 [==============================] - 31s 772ms/step - loss: 0.5456 - acc: 0.7929 - val_loss: 2.7437 - val_acc: 0.4099\n",
      "Epoch 45/50\n",
      "40/40 [==============================] - 30s 743ms/step - loss: 0.5970 - acc: 0.7782 - val_loss: 1.1247 - val_acc: 0.6739\n",
      "Epoch 46/50\n",
      "40/40 [==============================] - 28s 702ms/step - loss: 0.6167 - acc: 0.7781 - val_loss: 1.7754 - val_acc: 0.4317\n",
      "Epoch 47/50\n",
      "40/40 [==============================] - 32s 798ms/step - loss: 0.6193 - acc: 0.7750 - val_loss: 0.8595 - val_acc: 0.7236\n",
      "Epoch 48/50\n",
      "40/40 [==============================] - 28s 707ms/step - loss: 0.5889 - acc: 0.7781 - val_loss: 1.0506 - val_acc: 0.6925\n",
      "Epoch 49/50\n",
      "40/40 [==============================] - 27s 681ms/step - loss: 0.5291 - acc: 0.7946 - val_loss: 1.4183 - val_acc: 0.5062\n",
      "Epoch 50/50\n",
      "40/40 [==============================] - 27s 683ms/step - loss: 0.6165 - acc: 0.7734 - val_loss: 1.0011 - val_acc: 0.6925\n"
     ]
    }
   ],
   "source": [
    "# train the network\n",
    "print(\"[INFO] training network...\")\n",
    "H = model.fit_generator(\n",
    "\taug.flow(trainX, trainY, batch_size=BS),\n",
    "\tvalidation_data=(testX, testY),\n",
    "\tsteps_per_epoch=len(trainX) // BS,\n",
    "\tepochs=EPOCHS, verbose=1)"
   ]
  },
  {
   "cell_type": "code",
   "execution_count": 34,
   "metadata": {},
   "outputs": [
    {
     "name": "stderr",
     "output_type": "stream",
     "text": [
      "/home/jorgel/.virtualenvs/dl4cv/lib/python3.6/site-packages/ipykernel_launcher.py:2: UserWarning: \n",
      "This call to matplotlib.use() has no effect because the backend has already\n",
      "been chosen; matplotlib.use() must be called *before* pylab, matplotlib.pyplot,\n",
      "or matplotlib.backends is imported for the first time.\n",
      "\n",
      "The backend was *originally* set to 'module://ipykernel.pylab.backend_inline' by the following code:\n",
      "  File \"/usr/lib/python3.6/runpy.py\", line 193, in _run_module_as_main\n",
      "    \"__main__\", mod_spec)\n",
      "  File \"/usr/lib/python3.6/runpy.py\", line 85, in _run_code\n",
      "    exec(code, run_globals)\n",
      "  File \"/home/jorgel/.virtualenvs/dl4cv/lib/python3.6/site-packages/ipykernel_launcher.py\", line 16, in <module>\n",
      "    app.launch_new_instance()\n",
      "  File \"/home/jorgel/.virtualenvs/dl4cv/lib/python3.6/site-packages/traitlets/config/application.py\", line 658, in launch_instance\n",
      "    app.start()\n",
      "  File \"/home/jorgel/.virtualenvs/dl4cv/lib/python3.6/site-packages/ipykernel/kernelapp.py\", line 486, in start\n",
      "    self.io_loop.start()\n",
      "  File \"/home/jorgel/.virtualenvs/dl4cv/lib/python3.6/site-packages/tornado/platform/asyncio.py\", line 112, in start\n",
      "    self.asyncio_loop.run_forever()\n",
      "  File \"/usr/lib/python3.6/asyncio/base_events.py\", line 421, in run_forever\n",
      "    self._run_once()\n",
      "  File \"/usr/lib/python3.6/asyncio/base_events.py\", line 1426, in _run_once\n",
      "    handle._run()\n",
      "  File \"/usr/lib/python3.6/asyncio/events.py\", line 127, in _run\n",
      "    self._callback(*self._args)\n",
      "  File \"/home/jorgel/.virtualenvs/dl4cv/lib/python3.6/site-packages/tornado/platform/asyncio.py\", line 102, in _handle_events\n",
      "    handler_func(fileobj, events)\n",
      "  File \"/home/jorgel/.virtualenvs/dl4cv/lib/python3.6/site-packages/tornado/stack_context.py\", line 276, in null_wrapper\n",
      "    return fn(*args, **kwargs)\n",
      "  File \"/home/jorgel/.virtualenvs/dl4cv/lib/python3.6/site-packages/zmq/eventloop/zmqstream.py\", line 450, in _handle_events\n",
      "    self._handle_recv()\n",
      "  File \"/home/jorgel/.virtualenvs/dl4cv/lib/python3.6/site-packages/zmq/eventloop/zmqstream.py\", line 480, in _handle_recv\n",
      "    self._run_callback(callback, msg)\n",
      "  File \"/home/jorgel/.virtualenvs/dl4cv/lib/python3.6/site-packages/zmq/eventloop/zmqstream.py\", line 432, in _run_callback\n",
      "    callback(*args, **kwargs)\n",
      "  File \"/home/jorgel/.virtualenvs/dl4cv/lib/python3.6/site-packages/tornado/stack_context.py\", line 276, in null_wrapper\n",
      "    return fn(*args, **kwargs)\n",
      "  File \"/home/jorgel/.virtualenvs/dl4cv/lib/python3.6/site-packages/ipykernel/kernelbase.py\", line 283, in dispatcher\n",
      "    return self.dispatch_shell(stream, msg)\n",
      "  File \"/home/jorgel/.virtualenvs/dl4cv/lib/python3.6/site-packages/ipykernel/kernelbase.py\", line 233, in dispatch_shell\n",
      "    handler(stream, idents, msg)\n",
      "  File \"/home/jorgel/.virtualenvs/dl4cv/lib/python3.6/site-packages/ipykernel/kernelbase.py\", line 399, in execute_request\n",
      "    user_expressions, allow_stdin)\n",
      "  File \"/home/jorgel/.virtualenvs/dl4cv/lib/python3.6/site-packages/ipykernel/ipkernel.py\", line 208, in do_execute\n",
      "    res = shell.run_cell(code, store_history=store_history, silent=silent)\n",
      "  File \"/home/jorgel/.virtualenvs/dl4cv/lib/python3.6/site-packages/ipykernel/zmqshell.py\", line 537, in run_cell\n",
      "    return super(ZMQInteractiveShell, self).run_cell(*args, **kwargs)\n",
      "  File \"/home/jorgel/.virtualenvs/dl4cv/lib/python3.6/site-packages/IPython/core/interactiveshell.py\", line 2739, in run_cell\n",
      "    self.events.trigger('post_run_cell')\n",
      "  File \"/home/jorgel/.virtualenvs/dl4cv/lib/python3.6/site-packages/IPython/core/events.py\", line 73, in trigger\n",
      "    func(*args, **kwargs)\n",
      "  File \"/home/jorgel/.virtualenvs/dl4cv/lib/python3.6/site-packages/ipykernel/pylab/backend_inline.py\", line 160, in configure_once\n",
      "    activate_matplotlib(backend)\n",
      "  File \"/home/jorgel/.virtualenvs/dl4cv/lib/python3.6/site-packages/IPython/core/pylabtools.py\", line 308, in activate_matplotlib\n",
      "    matplotlib.pyplot.switch_backend(backend)\n",
      "  File \"/home/jorgel/.virtualenvs/dl4cv/lib/python3.6/site-packages/matplotlib/pyplot.py\", line 231, in switch_backend\n",
      "    matplotlib.use(newbackend, warn=False, force=True)\n",
      "  File \"/home/jorgel/.virtualenvs/dl4cv/lib/python3.6/site-packages/matplotlib/__init__.py\", line 1410, in use\n",
      "    reload(sys.modules['matplotlib.backends'])\n",
      "  File \"/home/jorgel/.virtualenvs/dl4cv/lib/python3.6/importlib/__init__.py\", line 166, in reload\n",
      "    _bootstrap._exec(spec, module)\n",
      "  File \"/home/jorgel/.virtualenvs/dl4cv/lib/python3.6/site-packages/matplotlib/backends/__init__.py\", line 16, in <module>\n",
      "    line for line in traceback.format_stack()\n",
      "\n",
      "\n",
      "  \n"
     ]
    },
    {
     "data": {
      "image/png": "[encoded data removed]",
      "text/plain": [
       "<Figure size 432x288 with 1 Axes>"
      ]
     },
     "metadata": {},
     "output_type": "display_data"
    }
   ],
   "source": [
    "import matplotlib\n",
    "matplotlib.use(\"Agg\")\n",
    "# plot the training loss and accuracy\n",
    "plt.style.use(\"ggplot\")\n",
    "plt.figure()\n",
    "N = EPOCHS\n",
    "plt.plot(np.arange(0, N), H.history[\"loss\"], label=\"train_loss\")\n",
    "plt.plot(np.arange(0, N), H.history[\"val_loss\"], label=\"val_loss\")\n",
    "plt.plot(np.arange(0, N), H.history[\"acc\"], label=\"train_acc\")\n",
    "plt.plot(np.arange(0, N), H.history[\"val_acc\"], label=\"val_acc\")\n",
    "plt.title(\"Training Loss and Accuracy\")\n",
    "plt.xlabel(\"Epoch #\")\n",
    "plt.ylabel(\"Loss/Accuracy\")\n",
    "plt.legend(loc=\"upper left\")\n",
    "plt.savefig(\"EmoTrain_1.png\")\n",
    "plt.show()"
   ]
  },
  {
   "cell_type": "code",
   "execution_count": 33,
   "metadata": {},
   "outputs": [
    {
     "name": "stdout",
     "output_type": "stream",
     "text": [
      "acc: 72.28%\n"
     ]
    }
   ],
   "source": [
    "scores = model.evaluate(trainX, trainY, verbose=0)\n",
    "print(\"%s: %.2f%%\" % (model.metrics_names[1], scores[1]*100))"
   ]
  },
  {
   "cell_type": "code",
   "execution_count": null,
   "metadata": {},
   "outputs": [],
   "source": []
  }
 ],
 "metadata": {
  "kernelspec": {
   "display_name": "Python 3",
   "language": "python",
   "name": "python3"
  },
  "language_info": {
   "codemirror_mode": {
    "name": "ipython",
    "version": 3
   },
   "file_extension": ".py",
   "mimetype": "text/x-python",
   "name": "python",
   "nbconvert_exporter": "python",
   "pygments_lexer": "ipython3",
   "version": "3.6.3"
  }
 },
 "nbformat": 4,
 "nbformat_minor": 2
}
