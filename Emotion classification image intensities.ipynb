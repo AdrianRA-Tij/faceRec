{
 "cells": [
  {
   "cell_type": "code",
   "execution_count": 1,
   "metadata": {},
   "outputs": [
    {
     "name": "stderr",
     "output_type": "stream",
     "text": [
      "/home/jorgher/.virtualenvs/cv/lib/python3.5/site-packages/sklearn/cross_validation.py:41: DeprecationWarning: This module was deprecated in version 0.18 in favor of the model_selection module into which all the refactored classes and functions are moved. Also note that the interface of the new CV iterators are different from that of this module. This module will be removed in 0.20.\n",
      "  \"This module will be removed in 0.20.\", DeprecationWarning)\n",
      "/home/jorgher/.virtualenvs/cv/lib/python3.5/site-packages/h5py/__init__.py:36: FutureWarning: Conversion of the second argument of issubdtype from `float` to `np.floating` is deprecated. In future, it will be treated as `np.float64 == np.dtype(float).type`.\n",
      "  from ._conv import register_converters as _register_converters\n",
      "Using TensorFlow backend.\n"
     ]
    }
   ],
   "source": [
    "# import the necessary packages\n",
    "from sklearn.preprocessing import LabelEncoder\n",
    "from sklearn.cross_validation import train_test_split\n",
    "from keras.models import Sequential\n",
    "from keras.layers import Activation\n",
    "from keras.optimizers import SGD\n",
    "from keras.layers import Dense\n",
    "from keras.utils import np_utils\n",
    "from imutils import paths\n",
    "import numpy as np\n",
    "import argparse\n",
    "import glob\n",
    "import cv2\n",
    "import os\n",
    "import matplotlib.pyplot as plt\n",
    "#matplotlib.use(\"Agg\")\n"
   ]
  },
  {
   "cell_type": "code",
   "execution_count": 2,
   "metadata": {
    "collapsed": true
   },
   "outputs": [],
   "source": [
    "def image_to_feature_vector(image, size=(128, 128)):\n",
    "    # resize the image to a fixed size, then flatten the image into\n",
    "    # a list of raw pixel intensities\n",
    "    return cv2.resize(image, size).flatten()"
   ]
  },
  {
   "cell_type": "code",
   "execution_count": 3,
   "metadata": {
    "collapsed": true
   },
   "outputs": [],
   "source": [
    "path = \"/home/jorgher/Documents/faceRec/CFEE/train/\"\n",
    "directories = [x for x in os.walk(path)]\n",
    "direc = sorted(directories)\n",
    "# initialize the data matrix and labels list\n",
    "data = []\n",
    "\n",
    "for i in range(1,8):\n",
    "    for j in range(0,230-1):\n",
    "        imagepaths = path+'Emo_0'+str(i)+\"/\"+direc[i][2][j]\n",
    "        data.append(imagepaths)\n"
   ]
  },
  {
   "cell_type": "code",
   "execution_count": 4,
   "metadata": {},
   "outputs": [
    {
     "name": "stdout",
     "output_type": "stream",
     "text": [
      "[INFO] construyendo vectores de inensidad...\n"
     ]
    }
   ],
   "source": [
    "print(\"[INFO] construyendo vectores de intensidad...\")\n",
    "# loop over the input images\n",
    "dat = []\n",
    "labels = []\n",
    "for imagePath in data[0:1602]:\n",
    "    # load the image and extract the class label (assuming that our\n",
    "    # path as the format: /path/to/dataset/{class}.{image_num}.jpg\n",
    "    image = cv2.imread(imagePath,0)\n",
    "    \n",
    "    \n",
    "    label = imagePath.split(os.path.sep)[-2].split(\"_\")[1]\n",
    " \n",
    "    # construct a feature vector raw pixel intensities, then update\n",
    "    # the data matrix and labels list\n",
    "    features = image_to_feature_vector(image)\n",
    "    dat.append(features)\n",
    "    labels.append(label)\n"
   ]
  },
  {
   "cell_type": "code",
   "execution_count": 5,
   "metadata": {},
   "outputs": [
    {
     "name": "stdout",
     "output_type": "stream",
     "text": [
      "[INFO] generando training/testing data...\n"
     ]
    }
   ],
   "source": [
    "# encode the labels, converting them from strings to integers\n",
    "le = LabelEncoder()\n",
    "labels = le.fit_transform(labels)\n",
    " \n",
    "# scale the input image pixels to the range [0, 1], then transform\n",
    "# the labels into vectors in the range [0, num_classes] -- this\n",
    "# generates a vector for each label where the index of the label\n",
    "# is set to `1` and all other entries to `0`\n",
    "data = np.array(dat) / 255.0\n",
    "labels = np_utils.to_categorical(labels, 7)\n",
    " \n",
    "# partition the data into training and testing splits, using 75%\n",
    "# of the data for training and the remaining 25% for testing\n",
    "print(\"[INFO] generando training/testing data...\")\n",
    "(trainData, testData, trainLabels, testLabels) = train_test_split(data, labels, test_size=0.25, random_state=42)"
   ]
  },
  {
   "cell_type": "code",
   "execution_count": 6,
   "metadata": {},
   "outputs": [
    {
     "data": {
      "text/plain": [
       "((1201, 16384), (1201, 7))"
      ]
     },
     "execution_count": 6,
     "metadata": {},
     "output_type": "execute_result"
    }
   ],
   "source": [
    "trainData.shape,trainLabels.shape"
   ]
  },
  {
   "cell_type": "code",
   "execution_count": 7,
   "metadata": {
    "collapsed": true
   },
   "outputs": [],
   "source": [
    "# define the architecture of the network\n",
    "model = Sequential()\n",
    "model.add(Dense(3000, input_dim=16384, kernel_initializer=\"uniform\", activation=\"relu\"))\n",
    "model.add(Dense(500, kernel_initializer=\"uniform\", activation=\"relu\"))\n",
    "model.add(Dense(7))\n",
    "model.add(Activation(\"softmax\"))"
   ]
  },
  {
   "cell_type": "code",
   "execution_count": 8,
   "metadata": {},
   "outputs": [
    {
     "name": "stdout",
     "output_type": "stream",
     "text": [
      "[INFO] compilando el modelo...\n",
      "Train on 804 samples, validate on 397 samples\n",
      "Epoch 1/10\n",
      "804/804 [==============================] - 8s 10ms/step - loss: 0.7109 - acc: 0.8133 - val_loss: 1.3985 - val_acc: 0.7632\n",
      "Epoch 2/10\n",
      "804/804 [==============================] - 7s 8ms/step - loss: 3.0575 - acc: 0.7573 - val_loss: 3.9519 - val_acc: 0.7531\n",
      "Epoch 3/10\n",
      "804/804 [==============================] - 7s 8ms/step - loss: 3.0338 - acc: 0.7523 - val_loss: 1.6311 - val_acc: 0.7478\n",
      "Epoch 4/10\n",
      "804/804 [==============================] - 7s 9ms/step - loss: 1.2404 - acc: 0.7706 - val_loss: 1.0303 - val_acc: 0.7661\n",
      "Epoch 5/10\n",
      "804/804 [==============================] - 7s 8ms/step - loss: 0.6772 - acc: 0.8351 - val_loss: 0.4440 - val_acc: 0.8568\n",
      "Epoch 6/10\n",
      "804/804 [==============================] - 7s 8ms/step - loss: 0.4220 - acc: 0.8571 - val_loss: 0.4240 - val_acc: 0.8571\n",
      "Epoch 7/10\n",
      "804/804 [==============================] - 7s 9ms/step - loss: 0.4127 - acc: 0.8571 - val_loss: 0.4296 - val_acc: 0.8571\n",
      "Epoch 8/10\n",
      "804/804 [==============================] - 7s 9ms/step - loss: 0.4118 - acc: 0.8571 - val_loss: 0.4179 - val_acc: 0.8571\n",
      "Epoch 9/10\n",
      "804/804 [==============================] - 7s 8ms/step - loss: 0.4089 - acc: 0.8571 - val_loss: 0.4239 - val_acc: 0.8571\n",
      "Epoch 10/10\n",
      "804/804 [==============================] - 7s 9ms/step - loss: 0.4077 - acc: 0.8571 - val_loss: 0.4235 - val_acc: 0.8571\n"
     ]
    }
   ],
   "source": [
    "# train the model using SGD\n",
    "print(\"[INFO] compilando el modelo...\")\n",
    "sgd = SGD(lr=0.01)\n",
    "model.compile(loss=\"binary_crossentropy\", optimizer=sgd,metrics=[\"accuracy\"])\n",
    "H = model.fit(trainData, trainLabels, validation_split=0.33, epochs=10, batch_size=128, verbose=1)"
   ]
  },
  {
   "cell_type": "code",
   "execution_count": 9,
   "metadata": {},
   "outputs": [
    {
     "name": "stdout",
     "output_type": "stream",
     "text": [
      "[INFO] evaluating on testing set...\n",
      "401/401 [==============================] - 1s 3ms/step\n",
      "[INFO] loss=0.4257, accuracy: 85.7143%\n"
     ]
    }
   ],
   "source": [
    "# show the accuracy on the testing set\n",
    "print(\"[INFO] evaluating on testing set...\")\n",
    "(loss, accuracy) = model.evaluate(testData, testLabels,batch_size=128, verbose=1)\n",
    "print(\"[INFO] loss={:.4f}, accuracy: {:.4f}%\".format(loss, accuracy * 100))"
   ]
  },
  {
   "cell_type": "code",
   "execution_count": 10,
   "metadata": {},
   "outputs": [
    {
     "name": "stdout",
     "output_type": "stream",
     "text": [
      "Grabando los coeficientes al archivo...\n"
     ]
    }
   ],
   "source": [
    "print(\"Grabando los coeficientes al archivo...\")\n",
    "model.save_weights('Emo_weights.hdf5', overwrite=True)"
   ]
  },
  {
   "cell_type": "code",
   "execution_count": 11,
   "metadata": {
    "collapsed": true
   },
   "outputs": [],
   "source": [
    "# plot the training loss and accuracy\n",
    "plt.style.use(\"ggplot\")\n",
    "plt.figure()\n",
    "N = 10\n",
    "plt.plot(np.arange(0, N), H.history[\"loss\"], label=\"train_loss\")\n",
    "plt.plot(np.arange(0, N), H.history[\"val_loss\"], label=\"val_loss\")\n",
    "plt.plot(np.arange(0, N), H.history[\"acc\"], label=\"train_acc\")\n",
    "plt.plot(np.arange(0, N), H.history[\"val_acc\"], label=\"val_acc\")\n",
    "plt.title(\"Training Loss and Accuracy on Emotion Classification\")\n",
    "plt.xlabel(\"Epoch #\")\n",
    "plt.ylabel(\"Loss/Accuracy\")\n",
    "plt.legend(loc=\"lower left\")\n",
    "plt.savefig(\"ClasEMo.png\")\n"
   ]
  },
  {
   "cell_type": "code",
   "execution_count": 12,
   "metadata": {},
   "outputs": [
    {
     "data": {
      "image/png": "[encoded data removed]",
      "text/plain": [
       "<matplotlib.figure.Figure at 0x7f6e8008d278>"
      ]
     },
     "metadata": {},
     "output_type": "display_data"
    }
   ],
   "source": [
    "plt.show()"
   ]
  },
  {
   "cell_type": "code",
   "execution_count": null,
   "metadata": {
    "collapsed": true
   },
   "outputs": [],
   "source": []
  }
 ],
 "metadata": {
  "kernelspec": {
   "display_name": "Python 3",
   "language": "python",
   "name": "python3"
  },
  "language_info": {
   "codemirror_mode": {
    "name": "ipython",
    "version": 3
   },
   "file_extension": ".py",
   "mimetype": "text/x-python",
   "name": "python",
   "nbconvert_exporter": "python",
   "pygments_lexer": "ipython3",
   "version": "3.5.2"
  }
 },
 "nbformat": 4,
 "nbformat_minor": 2
}
