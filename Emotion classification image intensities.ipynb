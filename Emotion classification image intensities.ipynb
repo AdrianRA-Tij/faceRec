{
 "cells": [
  {
   "cell_type": "code",
   "execution_count": 1,
   "metadata": {},
   "outputs": [
    {
     "name": "stderr",
     "output_type": "stream",
     "text": [
      "/home/jorgher/.virtualenvs/cv/lib/python3.5/site-packages/sklearn/cross_validation.py:41: DeprecationWarning: This module was deprecated in version 0.18 in favor of the model_selection module into which all the refactored classes and functions are moved. Also note that the interface of the new CV iterators are different from that of this module. This module will be removed in 0.20.\n",
      "  \"This module will be removed in 0.20.\", DeprecationWarning)\n",
      "/home/jorgher/.virtualenvs/cv/lib/python3.5/site-packages/h5py/__init__.py:36: FutureWarning: Conversion of the second argument of issubdtype from `float` to `np.floating` is deprecated. In future, it will be treated as `np.float64 == np.dtype(float).type`.\n",
      "  from ._conv import register_converters as _register_converters\n",
      "Using TensorFlow backend.\n"
     ]
    }
   ],
   "source": [
    "# import the necessary packages\n",
    "from sklearn.preprocessing import LabelEncoder\n",
    "from sklearn.cross_validation import train_test_split\n",
    "from keras.models import Sequential\n",
    "from keras.layers import Activation\n",
    "from keras.optimizers import SGD\n",
    "from keras.layers import Dense\n",
    "from keras.utils import np_utils\n",
    "from imutils import paths\n",
    "import numpy as np\n",
    "import argparse\n",
    "import glob\n",
    "import cv2\n",
    "import os\n"
   ]
  },
  {
   "cell_type": "code",
   "execution_count": 2,
   "metadata": {
    "collapsed": true
   },
   "outputs": [],
   "source": [
    "def image_to_feature_vector(image, size=(32, 32)):\n",
    "    # resize the image to a fixed size, then flatten the image into\n",
    "    # a list of raw pixel intensities\n",
    "    return cv2.resize(image, size).flatten()"
   ]
  },
  {
   "cell_type": "code",
   "execution_count": 3,
   "metadata": {},
   "outputs": [],
   "source": [
    "path = \"/home/jorgher/Documents/faceRec/CFEE/train/\"\n",
    "directories = [x for x in os.walk(path)]\n",
    "direc = sorted(directories)\n",
    "# initialize the data matrix and labels list\n",
    "data = []\n",
    "\n",
    "for i in range(1,8):\n",
    "    for j in range(0,230-1):\n",
    "        imagepaths = path+'Emo_0'+str(i)+\"/\"+direc[i][2][j]\n",
    "        data.append(imagepaths)\n"
   ]
  },
  {
   "cell_type": "code",
   "execution_count": 5,
   "metadata": {},
   "outputs": [
    {
     "name": "stdout",
     "output_type": "stream",
     "text": [
      "[INFO] construyendo vectores de inensidad...\n"
     ]
    }
   ],
   "source": [
    "print(\"[INFO] construyendo vectores de inensidad...\")\n",
    "# loop over the input images\n",
    "dat = []\n",
    "labels = []\n",
    "for imagePath in data[0:1602]:\n",
    "    # load the image and extract the class label (assuming that our\n",
    "    # path as the format: /path/to/dataset/{class}.{image_num}.jpg\n",
    "    image = cv2.imread(imagePath)\n",
    "    label = imagePath.split(os.path.sep)[-2].split(\"_\")[1]\n",
    " \n",
    "    # construct a feature vector raw pixel intensities, then update\n",
    "    # the data matrix and labels list\n",
    "    features = image_to_feature_vector(image)\n",
    "    dat.append(features)\n",
    "    labels.append(label)\n"
   ]
  },
  {
   "cell_type": "code",
   "execution_count": 6,
   "metadata": {},
   "outputs": [
    {
     "name": "stdout",
     "output_type": "stream",
     "text": [
      "[INFO] generando training/testing data...\n"
     ]
    }
   ],
   "source": [
    "# encode the labels, converting them from strings to integers\n",
    "le = LabelEncoder()\n",
    "labels = le.fit_transform(labels)\n",
    " \n",
    "# scale the input image pixels to the range [0, 1], then transform\n",
    "# the labels into vectors in the range [0, num_classes] -- this\n",
    "# generates a vector for each label where the index of the label\n",
    "# is set to `1` and all other entries to `0`\n",
    "data = np.array(dat) / 255.0\n",
    "labels = np_utils.to_categorical(labels, 7)\n",
    " \n",
    "# partition the data into training and testing splits, using 75%\n",
    "# of the data for training and the remaining 25% for testing\n",
    "print(\"[INFO] generando training/testing data...\")\n",
    "(trainData, testData, trainLabels, testLabels) = train_test_split(data, labels, test_size=0.25, random_state=42)"
   ]
  },
  {
   "cell_type": "code",
   "execution_count": 9,
   "metadata": {},
   "outputs": [
    {
     "data": {
      "text/plain": [
       "((1201, 3072), (1201, 7))"
      ]
     },
     "execution_count": 9,
     "metadata": {},
     "output_type": "execute_result"
    }
   ],
   "source": [
    "trainData.shape,trainLabels.shape"
   ]
  },
  {
   "cell_type": "code",
   "execution_count": 10,
   "metadata": {
    "collapsed": true
   },
   "outputs": [],
   "source": [
    "# define the architecture of the network\n",
    "model = Sequential()\n",
    "model.add(Dense(768, input_dim=3072, kernel_initializer=\"uniform\", activation=\"relu\"))\n",
    "model.add(Dense(384, kernel_initializer=\"uniform\", activation=\"relu\"))\n",
    "model.add(Dense(7))\n",
    "model.add(Activation(\"softmax\"))"
   ]
  },
  {
   "cell_type": "code",
   "execution_count": 11,
   "metadata": {},
   "outputs": [
    {
     "name": "stdout",
     "output_type": "stream",
     "text": [
      "[INFO] compilando el modelo...\n",
      "Epoch 1/50\n",
      "1201/1201 [==============================] - 2s 1ms/step - loss: 0.4179 - acc: 0.8571\n",
      "Epoch 2/50\n",
      "1201/1201 [==============================] - 1s 566us/step - loss: 0.4115 - acc: 0.8571\n",
      "Epoch 3/50\n",
      "1201/1201 [==============================] - 1s 627us/step - loss: 0.4111 - acc: 0.8571\n",
      "Epoch 4/50\n",
      "1201/1201 [==============================] - 1s 808us/step - loss: 0.4107 - acc: 0.8571\n",
      "Epoch 5/50\n",
      "1201/1201 [==============================] - 1s 615us/step - loss: 0.4105 - acc: 0.8571\n",
      "Epoch 6/50\n",
      "1201/1201 [==============================] - 1s 596us/step - loss: 0.4102 - acc: 0.8571\n",
      "Epoch 7/50\n",
      "1201/1201 [==============================] - 1s 615us/step - loss: 0.4099 - acc: 0.8571\n",
      "Epoch 8/50\n",
      "1201/1201 [==============================] - 1s 620us/step - loss: 0.4096 - acc: 0.8571\n",
      "Epoch 9/50\n",
      "1201/1201 [==============================] - 1s 607us/step - loss: 0.4092 - acc: 0.8571\n",
      "Epoch 10/50\n",
      "1201/1201 [==============================] - 1s 609us/step - loss: 0.4091 - acc: 0.8571\n",
      "Epoch 11/50\n",
      "1201/1201 [==============================] - 1s 616us/step - loss: 0.4088 - acc: 0.8571\n",
      "Epoch 12/50\n",
      "1201/1201 [==============================] - 1s 618us/step - loss: 0.4087 - acc: 0.8571\n",
      "Epoch 13/50\n",
      "1201/1201 [==============================] - 1s 636us/step - loss: 0.4084 - acc: 0.8571\n",
      "Epoch 14/50\n",
      "1201/1201 [==============================] - 1s 625us/step - loss: 0.4084 - acc: 0.8571\n",
      "Epoch 15/50\n",
      "1201/1201 [==============================] - 1s 605us/step - loss: 0.4083 - acc: 0.8571\n",
      "Epoch 16/50\n",
      "1201/1201 [==============================] - 1s 640us/step - loss: 0.4080 - acc: 0.8571\n",
      "Epoch 17/50\n",
      "1201/1201 [==============================] - 1s 831us/step - loss: 0.4078 - acc: 0.8571\n",
      "Epoch 18/50\n",
      "1201/1201 [==============================] - 1s 624us/step - loss: 0.4075 - acc: 0.8571\n",
      "Epoch 19/50\n",
      "1201/1201 [==============================] - 1s 768us/step - loss: 0.4074 - acc: 0.8571\n",
      "Epoch 20/50\n",
      "1201/1201 [==============================] - 1s 662us/step - loss: 0.4073 - acc: 0.8571\n",
      "Epoch 21/50\n",
      "1201/1201 [==============================] - 1s 813us/step - loss: 0.4073 - acc: 0.8571\n",
      "Epoch 22/50\n",
      "1201/1201 [==============================] - 1s 595us/step - loss: 0.4071 - acc: 0.8571\n",
      "Epoch 23/50\n",
      "1201/1201 [==============================] - 1s 533us/step - loss: 0.4068 - acc: 0.8571\n",
      "Epoch 24/50\n",
      "1201/1201 [==============================] - 1s 593us/step - loss: 0.4067 - acc: 0.8571\n",
      "Epoch 25/50\n",
      "1201/1201 [==============================] - 1s 604us/step - loss: 0.4065 - acc: 0.8571\n",
      "Epoch 26/50\n",
      "1201/1201 [==============================] - 1s 633us/step - loss: 0.4065 - acc: 0.8571\n",
      "Epoch 27/50\n",
      "1201/1201 [==============================] - 1s 637us/step - loss: 0.4061 - acc: 0.8571\n",
      "Epoch 28/50\n",
      "1201/1201 [==============================] - 1s 678us/step - loss: 0.4065 - acc: 0.8571\n",
      "Epoch 29/50\n",
      "1201/1201 [==============================] - 1s 660us/step - loss: 0.4062 - acc: 0.8571\n",
      "Epoch 30/50\n",
      "1201/1201 [==============================] - 1s 826us/step - loss: 0.4060 - acc: 0.8571\n",
      "Epoch 31/50\n",
      "1201/1201 [==============================] - 1s 684us/step - loss: 0.4059 - acc: 0.8571\n",
      "Epoch 32/50\n",
      "1201/1201 [==============================] - 1s 818us/step - loss: 0.4056 - acc: 0.8571\n",
      "Epoch 33/50\n",
      "1201/1201 [==============================] - 1s 704us/step - loss: 0.4057 - acc: 0.8571\n",
      "Epoch 34/50\n",
      "1201/1201 [==============================] - 1s 650us/step - loss: 0.4057 - acc: 0.8571\n",
      "Epoch 35/50\n",
      "1201/1201 [==============================] - 1s 643us/step - loss: 0.4053 - acc: 0.8571\n",
      "Epoch 36/50\n",
      "1201/1201 [==============================] - 1s 621us/step - loss: 0.4053 - acc: 0.8571\n",
      "Epoch 37/50\n",
      "1201/1201 [==============================] - 1s 874us/step - loss: 0.4053 - acc: 0.8571\n",
      "Epoch 38/50\n",
      "1201/1201 [==============================] - 1s 882us/step - loss: 0.4048 - acc: 0.8571\n",
      "Epoch 39/50\n",
      "1201/1201 [==============================] - 1s 816us/step - loss: 0.4048 - acc: 0.8571\n",
      "Epoch 40/50\n",
      "1201/1201 [==============================] - 1s 747us/step - loss: 0.4050 - acc: 0.8571\n",
      "Epoch 41/50\n",
      "1201/1201 [==============================] - 1s 632us/step - loss: 0.4046 - acc: 0.8571\n",
      "Epoch 42/50\n",
      "1201/1201 [==============================] - 1s 630us/step - loss: 0.4046 - acc: 0.8571\n",
      "Epoch 43/50\n",
      "1201/1201 [==============================] - 1s 637us/step - loss: 0.4047 - acc: 0.8571\n",
      "Epoch 44/50\n",
      "1201/1201 [==============================] - 1s 649us/step - loss: 0.4044 - acc: 0.8571\n",
      "Epoch 45/50\n",
      "1201/1201 [==============================] - 1s 732us/step - loss: 0.4044 - acc: 0.8571\n",
      "Epoch 46/50\n",
      "1201/1201 [==============================] - 1s 681us/step - loss: 0.4039 - acc: 0.8571\n",
      "Epoch 47/50\n",
      "1201/1201 [==============================] - 1s 639us/step - loss: 0.4041 - acc: 0.8571\n",
      "Epoch 48/50\n",
      "1201/1201 [==============================] - 1s 643us/step - loss: 0.4039 - acc: 0.8571\n",
      "Epoch 49/50\n",
      "1201/1201 [==============================] - 1s 656us/step - loss: 0.4036 - acc: 0.8571\n",
      "Epoch 50/50\n",
      "1201/1201 [==============================] - 1s 644us/step - loss: 0.4035 - acc: 0.8571\n"
     ]
    },
    {
     "data": {
      "text/plain": [
       "<keras.callbacks.History at 0x7fb807947160>"
      ]
     },
     "execution_count": 11,
     "metadata": {},
     "output_type": "execute_result"
    }
   ],
   "source": [
    "# train the model using SGD\n",
    "print(\"[INFO] compilando el modelo...\")\n",
    "sgd = SGD(lr=0.01)\n",
    "model.compile(loss=\"binary_crossentropy\", optimizer=sgd,metrics=[\"accuracy\"])\n",
    "model.fit(trainData, trainLabels, epochs=50, batch_size=128, verbose=1)"
   ]
  },
  {
   "cell_type": "code",
   "execution_count": 12,
   "metadata": {},
   "outputs": [
    {
     "name": "stdout",
     "output_type": "stream",
     "text": [
      "[INFO] evaluating on testing set...\n",
      "401/401 [==============================] - 0s 354us/step\n",
      "[INFO] loss=0.4119, accuracy: 85.7143%\n"
     ]
    }
   ],
   "source": [
    "# show the accuracy on the testing set\n",
    "print(\"[INFO] evaluating on testing set...\")\n",
    "(loss, accuracy) = model.evaluate(testData, testLabels,batch_size=128, verbose=1)\n",
    "print(\"[INFO] loss={:.4f}, accuracy: {:.4f}%\".format(loss, accuracy * 100))"
   ]
  },
  {
   "cell_type": "code",
   "execution_count": 13,
   "metadata": {},
   "outputs": [
    {
     "name": "stdout",
     "output_type": "stream",
     "text": [
      "Grabando los coeficientes al archivo...\n"
     ]
    }
   ],
   "source": [
    "print(\"Grabando los coeficientes al archivo...\")\n",
    "model.save_weights('Emo_weights.hdf5', overwrite=True)"
   ]
  },
  {
   "cell_type": "code",
   "execution_count": null,
   "metadata": {
    "collapsed": true
   },
   "outputs": [],
   "source": []
  }
 ],
 "metadata": {
  "kernelspec": {
   "display_name": "Python 3",
   "language": "python",
   "name": "python3"
  },
  "language_info": {
   "codemirror_mode": {
    "name": "ipython",
    "version": 3
   },
   "file_extension": ".py",
   "mimetype": "text/x-python",
   "name": "python",
   "nbconvert_exporter": "python",
   "pygments_lexer": "ipython3",
   "version": "3.5.2"
  }
 },
 "nbformat": 4,
 "nbformat_minor": 2
}
