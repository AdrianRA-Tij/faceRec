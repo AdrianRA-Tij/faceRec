{
 "cells": [
  {
   "cell_type": "code",
   "execution_count": 7,
   "metadata": {},
   "outputs": [
    {
     "data": {
      "image/png": "[encoded data removed]",
      "text/plain": [
       "<matplotlib.figure.Figure at 0x7f8230365cf8>"
      ]
     },
     "metadata": {},
     "output_type": "display_data"
    }
   ],
   "source": [
    "# numpy.random.RandomState.wald,Draw samples from a Wald, or Inverse Gaussian, distribution.\n",
    "#As the scale approaches infinity, the distribution becomes more like a Gaussian. \n",
    "#RandomState.wald(mean, scale, size=None)\n",
    "#mean : scalar\n",
    "#Distribution mean, should be > 0.\n",
    "#scale : scalar\n",
    "#Scale parameter, should be >= 0.\n",
    "#size : int or tuple of ints, optional\n",
    "import numpy as np\n",
    "import matplotlib.pyplot as plt\n",
    "h = plt.hist(np.random.wald(10, 100, 100000), bins=200, normed=True)\n",
    "plt.show()"
   ]
  },
  {
   "cell_type": "code",
   "execution_count": 23,
   "metadata": {},
   "outputs": [
    {
     "name": "stdout",
     "output_type": "stream",
     "text": [
      "\n",
      "[[ 0  1  2  3]\n",
      " [ 4  5  6  7]\n",
      " [ 8  9 10 11]\n",
      " [12 13 14 15]]\n",
      "\n",
      "(4, 4)\n",
      "\n",
      "(4, 3, 3)\n",
      "\n",
      "[[ 0  1  2]\n",
      " [ 4  5  6]\n",
      " [ 8  9 10]]\n",
      "\n",
      "[[ 1  2  3]\n",
      " [ 5  6  7]\n",
      " [ 9 10 11]]\n",
      "\n",
      "[[ 5  6  7]\n",
      " [ 9 10 11]\n",
      " [13 14 15]]\n"
     ]
    }
   ],
   "source": [
    "from sklearn.feature_extraction import image\n",
    "one_image = np.arange(16).reshape((4, 4))\n",
    "print()\n",
    "print(one_image)\n",
    "print()\n",
    "print(one_image.shape)\n",
    "print()\n",
    "patches = image.extract_patches_2d(one_image, (3, 3))\n",
    "print(patches.shape)\n",
    "print()\n",
    "print(patches[0])\n",
    "print()\n",
    "print(patches[1])\n",
    "print()\n",
    "print(patches[3])\n"
   ]
  },
  {
   "cell_type": "code",
   "execution_count": 26,
   "metadata": {},
   "outputs": [
    {
     "name": "stdout",
     "output_type": "stream",
     "text": [
      "[[1 2 3]\n",
      " [4 5 6]]\n",
      "\n",
      "[1 2 3 4 5 6]\n",
      "\n",
      "[1 4 2 5 3 6]\n",
      "\n",
      "[[1 2]\n",
      " [3 4]\n",
      " [5 6]]\n"
     ]
    }
   ],
   "source": [
    "#numpy.reshape\n",
    "#numpy.reshape(a, newshape, order='C')  order = {‘C’, ‘F’, ‘A’}, optional\n",
    "#\n",
    "\n",
    "a = np.array([[1,2,3], [4,5,6]])\n",
    "print(a)\n",
    "print()\n",
    "print(np.reshape(a, 6))\n",
    "print()\n",
    "print(np.reshape(a, 6, order='F')) # Fortran-like index ordering\n",
    "print()\n",
    "print(np.reshape(a, (3,-1)))       # the unspecified value is inferred to be 2"
   ]
  },
  {
   "cell_type": "code",
   "execution_count": 30,
   "metadata": {},
   "outputs": [
    {
     "name": "stdout",
     "output_type": "stream",
     "text": [
      "[[1 2]\n",
      " [3 4]]\n",
      "\n",
      "[[5 6]]\n",
      "\n",
      "[[1 2]\n",
      " [3 4]\n",
      " [5 6]]\n",
      "\n",
      "[[1 2 5]\n",
      " [3 4 6]]\n"
     ]
    }
   ],
   "source": [
    "#numpy.concatenate((a1, a2, ...), axis=0)\n",
    "\n",
    "a = np.array([[1, 2], [3, 4]])\n",
    "print(a)\n",
    "print()\n",
    "b = np.array([[5, 6]])\n",
    "print(b)\n",
    "print()\n",
    "print(np.concatenate((a, b), axis=0)) #por columnas\n",
    "print()\n",
    "print(np.concatenate((a, b.T), axis=1)) #por renglones"
   ]
  },
  {
   "cell_type": "code",
   "execution_count": 36,
   "metadata": {},
   "outputs": [
    {
     "name": "stdout",
     "output_type": "stream",
     "text": [
      "[0 1 2]\n",
      "\n",
      "--\n",
      "\n",
      "[2 3 4]\n",
      "\n",
      "[0 1 2 2 3 4]\n",
      "\n",
      "[0 -- 2 2 3 4]\n"
     ]
    }
   ],
   "source": [
    "a = np.ma.arange(3)\n",
    "print(a)\n",
    "print()\n",
    "a[1] = np.ma.masked\n",
    "print(a[1])\n",
    "print()\n",
    "b = np.arange(2, 5)\n",
    "print(b)\n",
    "print()\n",
    "print(np.concatenate([a, b]))\n",
    "print()\n",
    "print(np.ma.concatenate([a, b]))"
   ]
  },
  {
   "cell_type": "code",
   "execution_count": 37,
   "metadata": {},
   "outputs": [
    {
     "name": "stdout",
     "output_type": "stream",
     "text": [
      "[[1 2]\n",
      " [3 4]]\n",
      "\n",
      "2.5\n",
      "\n",
      "[ 2.  3.]\n",
      "\n",
      "[ 1.5  3.5]\n"
     ]
    }
   ],
   "source": [
    "a = np.array([[1, 2], [3, 4]])\n",
    "print(a)\n",
    "print()\n",
    "print(np.mean(a))\n",
    "print()\n",
    "print(np.mean(a, axis=0)) #calcula la media de las columnas\n",
    "print()\n",
    "print(np.mean(a, axis=1)) #calcula la media de los renglones"
   ]
  },
  {
   "cell_type": "code",
   "execution_count": null,
   "metadata": {
    "collapsed": true
   },
   "outputs": [],
   "source": []
  }
 ],
 "metadata": {
  "kernelspec": {
   "display_name": "Python 3",
   "language": "python",
   "name": "python3"
  },
  "language_info": {
   "codemirror_mode": {
    "name": "ipython",
    "version": 3
   },
   "file_extension": ".py",
   "mimetype": "text/x-python",
   "name": "python",
   "nbconvert_exporter": "python",
   "pygments_lexer": "ipython3",
   "version": "3.5.2"
  }
 },
 "nbformat": 4,
 "nbformat_minor": 2
}
