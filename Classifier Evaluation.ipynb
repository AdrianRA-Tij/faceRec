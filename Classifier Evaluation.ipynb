{
 "cells": [
  {
   "cell_type": "code",
   "execution_count": 44,
   "metadata": {
    "collapsed": true
   },
   "outputs": [],
   "source": [
    "import glob\n",
    "import os\n",
    "import numpy as np\n",
    "import matplotlib.pyplot as plt\n",
    "import pandas as pd\n",
    "from sklearn import tree\n",
    "from sklearn.tree import DecisionTreeClassifier, export_graphviz\n",
    "from matplotlib.colors import ListedColormap\n",
    "from sklearn.model_selection import train_test_split\n",
    "from sklearn.preprocessing import StandardScaler\n",
    "from sklearn.datasets import make_moons, make_circles, make_classification\n",
    "from sklearn.neural_network import MLPClassifier\n",
    "from sklearn.neighbors import KNeighborsClassifier\n",
    "from sklearn.svm import SVC\n",
    "from sklearn.gaussian_process import GaussianProcessClassifier\n",
    "from sklearn.gaussian_process.kernels import RBF\n",
    "from sklearn.tree import DecisionTreeClassifier\n",
    "from sklearn.ensemble import RandomForestClassifier, AdaBoostClassifier\n",
    "from sklearn.naive_bayes import GaussianNB\n",
    "from sklearn.discriminant_analysis import QuadraticDiscriminantAnalysis\n",
    "from sklearn.model_selection import cross_val_score\n",
    "from sklearn.model_selection import ShuffleSplit\n",
    "from sklearn import preprocessing\n",
    "from sklearn.pipeline import make_pipeline"
   ]
  },
  {
   "cell_type": "code",
   "execution_count": 45,
   "metadata": {
    "collapsed": true
   },
   "outputs": [],
   "source": [
    "names = [\"Naive Bayes\", \"QDA\",\"Decision Tree\", \"Random Forest\", \"Neural Net\", \"AdaBoost\",\"Nearest Neighbors\", \"Linear SVM\", \"RBF SVM\"]\n",
    "classifiers =[GaussianNB(),QuadraticDiscriminantAnalysis(),DecisionTreeClassifier(max_depth=5),\n",
    "    RandomForestClassifier(max_depth=5, n_estimators=10, max_features=5),\n",
    "    MLPClassifier(alpha=1),\n",
    "    AdaBoostClassifier(),KNeighborsClassifier(5),\n",
    "    SVC(kernel=\"linear\", C=0.025),\n",
    "    SVC(gamma=2, C=1)]\n",
    "classifiers_A =[GaussianNB(),QuadraticDiscriminantAnalysis(),DecisionTreeClassifier(),\n",
    "    RandomForestClassifier(),\n",
    "    MLPClassifier(activation='logistic',alpha=0.01),\n",
    "    AdaBoostClassifier(),KNeighborsClassifier(n_neighbors=5, weights='distance', algorithm='kd_tree'),\n",
    "    SVC(kernel=\"linear\", C=1),\n",
    "    SVC(gamma=2, C=1)]"
   ]
  },
  {
   "cell_type": "code",
   "execution_count": 46,
   "metadata": {
    "collapsed": true
   },
   "outputs": [],
   "source": [
    "path = \"/home/jorgher/Documents/faceRec/CFEE/\"\n",
    "files = sorted(glob.glob(path+'*.csv'))\n",
    "files = files[:7]"
   ]
  },
  {
   "cell_type": "code",
   "execution_count": 47,
   "metadata": {},
   "outputs": [],
   "source": [
    "path = \"/home/jorgher/Documents/faceRec/CFEE/\"\n",
    "files = sorted(glob.glob(path+'*.csv'))\n",
    "files = files[:5]\n",
    "#emotions = [\"neutral\",'happy','sad','fearful','angry','surprised','disgusted']\n",
    "#emotions = [0,1,2,3,4,5,6]\n",
    "emotions = [0,1,2,3,4]\n",
    "dbs = []\n",
    "for i,f in enumerate(files):\n",
    "    db = pd.read_csv(f)\n",
    "    db['file'] = db['file'].map(lambda x: str(x)[15:])\n",
    "    db['file'] = db['file'].map(lambda x: str(x)[:-4]).astype(int)\n",
    "    db['Subjet'] = db['file']\n",
    "    db['Emotions'] = emotions[i]\n",
    "    dbs.append(db)\n",
    "\n",
    "db = (pd.concat(dbs[i][:] for i in range(len(files))))\n",
    "db = db.sort_values('file')\n",
    "#df['Emotion']=df['file']\n",
    "db.drop(['file'], axis=1, inplace=True)"
   ]
  },
  {
   "cell_type": "code",
   "execution_count": 48,
   "metadata": {},
   "outputs": [
    {
     "data": {
      "text/html": [
       "<div>\n",
       "<style>\n",
       "    .dataframe thead tr:only-child th {\n",
       "        text-align: right;\n",
       "    }\n",
       "\n",
       "    .dataframe thead th {\n",
       "        text-align: left;\n",
       "    }\n",
       "\n",
       "    .dataframe tbody tr th {\n",
       "        vertical-align: top;\n",
       "    }\n",
       "</style>\n",
       "<table border=\"1\" class=\"dataframe\">\n",
       "  <thead>\n",
       "    <tr style=\"text-align: right;\">\n",
       "      <th></th>\n",
       "      <th>D1</th>\n",
       "      <th>D2</th>\n",
       "      <th>D3</th>\n",
       "      <th>D4</th>\n",
       "      <th>D5</th>\n",
       "      <th>D6</th>\n",
       "      <th>D7</th>\n",
       "      <th>A0</th>\n",
       "      <th>A1</th>\n",
       "      <th>A2</th>\n",
       "      <th>A3</th>\n",
       "      <th>A4</th>\n",
       "      <th>A5</th>\n",
       "      <th>Subjet</th>\n",
       "      <th>Emotions</th>\n",
       "    </tr>\n",
       "  </thead>\n",
       "  <tbody>\n",
       "    <tr>\n",
       "      <th>45</th>\n",
       "      <td>22.360680</td>\n",
       "      <td>21.213203</td>\n",
       "      <td>25.298221</td>\n",
       "      <td>12.041595</td>\n",
       "      <td>14.035669</td>\n",
       "      <td>40.000000</td>\n",
       "      <td>91.049437</td>\n",
       "      <td>1.058044</td>\n",
       "      <td>0.294076</td>\n",
       "      <td>1.067170</td>\n",
       "      <td>0.278944</td>\n",
       "      <td>0.752528</td>\n",
       "      <td>1.219925</td>\n",
       "      <td>1</td>\n",
       "      <td>3</td>\n",
       "    </tr>\n",
       "    <tr>\n",
       "      <th>216</th>\n",
       "      <td>22.090722</td>\n",
       "      <td>20.024984</td>\n",
       "      <td>24.041631</td>\n",
       "      <td>9.000000</td>\n",
       "      <td>8.246211</td>\n",
       "      <td>18.110770</td>\n",
       "      <td>64.124878</td>\n",
       "      <td>0.971679</td>\n",
       "      <td>0.320525</td>\n",
       "      <td>1.165202</td>\n",
       "      <td>0.291506</td>\n",
       "      <td>0.526344</td>\n",
       "      <td>1.059376</td>\n",
       "      <td>1</td>\n",
       "      <td>4</td>\n",
       "    </tr>\n",
       "    <tr>\n",
       "      <th>92</th>\n",
       "      <td>33.241540</td>\n",
       "      <td>28.160256</td>\n",
       "      <td>32.310989</td>\n",
       "      <td>9.000000</td>\n",
       "      <td>9.055385</td>\n",
       "      <td>39.012818</td>\n",
       "      <td>94.191295</td>\n",
       "      <td>1.053966</td>\n",
       "      <td>0.262995</td>\n",
       "      <td>1.089529</td>\n",
       "      <td>0.408097</td>\n",
       "      <td>0.731317</td>\n",
       "      <td>1.121536</td>\n",
       "      <td>1</td>\n",
       "      <td>1</td>\n",
       "    </tr>\n",
       "    <tr>\n",
       "      <th>36</th>\n",
       "      <td>32.140317</td>\n",
       "      <td>28.017851</td>\n",
       "      <td>32.572995</td>\n",
       "      <td>12.000000</td>\n",
       "      <td>11.180340</td>\n",
       "      <td>35.014283</td>\n",
       "      <td>71.028163</td>\n",
       "      <td>1.178367</td>\n",
       "      <td>0.280184</td>\n",
       "      <td>1.011086</td>\n",
       "      <td>0.392952</td>\n",
       "      <td>0.869221</td>\n",
       "      <td>1.264622</td>\n",
       "      <td>1</td>\n",
       "      <td>0</td>\n",
       "    </tr>\n",
       "    <tr>\n",
       "      <th>68</th>\n",
       "      <td>21.095023</td>\n",
       "      <td>27.018512</td>\n",
       "      <td>30.364453</td>\n",
       "      <td>11.000000</td>\n",
       "      <td>10.049876</td>\n",
       "      <td>31.016125</td>\n",
       "      <td>70.178344</td>\n",
       "      <td>1.060248</td>\n",
       "      <td>0.344625</td>\n",
       "      <td>1.020170</td>\n",
       "      <td>0.261044</td>\n",
       "      <td>0.740912</td>\n",
       "      <td>1.250330</td>\n",
       "      <td>1</td>\n",
       "      <td>2</td>\n",
       "    </tr>\n",
       "  </tbody>\n",
       "</table>\n",
       "</div>"
      ],
      "text/plain": [
       "            D1         D2         D3         D4         D5         D6  \\\n",
       "45   22.360680  21.213203  25.298221  12.041595  14.035669  40.000000   \n",
       "216  22.090722  20.024984  24.041631   9.000000   8.246211  18.110770   \n",
       "92   33.241540  28.160256  32.310989   9.000000   9.055385  39.012818   \n",
       "36   32.140317  28.017851  32.572995  12.000000  11.180340  35.014283   \n",
       "68   21.095023  27.018512  30.364453  11.000000  10.049876  31.016125   \n",
       "\n",
       "            D7        A0        A1        A2        A3        A4        A5  \\\n",
       "45   91.049437  1.058044  0.294076  1.067170  0.278944  0.752528  1.219925   \n",
       "216  64.124878  0.971679  0.320525  1.165202  0.291506  0.526344  1.059376   \n",
       "92   94.191295  1.053966  0.262995  1.089529  0.408097  0.731317  1.121536   \n",
       "36   71.028163  1.178367  0.280184  1.011086  0.392952  0.869221  1.264622   \n",
       "68   70.178344  1.060248  0.344625  1.020170  0.261044  0.740912  1.250330   \n",
       "\n",
       "     Subjet  Emotions  \n",
       "45        1         3  \n",
       "216       1         4  \n",
       "92        1         1  \n",
       "36        1         0  \n",
       "68        1         2  "
      ]
     },
     "execution_count": 48,
     "metadata": {},
     "output_type": "execute_result"
    }
   ],
   "source": [
    "db.head()"
   ]
  },
  {
   "cell_type": "code",
   "execution_count": 49,
   "metadata": {
    "collapsed": true
   },
   "outputs": [],
   "source": [
    "features = list(db.columns[:13])\n",
    "Etype={'neutral': 0, 'happy': 1,\n",
    "        'sad': 2,'fearful': 3,'angry': 4,\n",
    "        'surprised': 5,'disgusted': 6}"
   ]
  },
  {
   "cell_type": "code",
   "execution_count": 50,
   "metadata": {
    "collapsed": true
   },
   "outputs": [],
   "source": [
    "db_data = db[features]"
   ]
  },
  {
   "cell_type": "code",
   "execution_count": 51,
   "metadata": {
    "collapsed": true
   },
   "outputs": [],
   "source": [
    "db_target = db['Emotions']"
   ]
  },
  {
   "cell_type": "code",
   "execution_count": 57,
   "metadata": {
    "collapsed": true
   },
   "outputs": [],
   "source": [
    "X_train, X_test, y_train, y_test = train_test_split(db_data, db_target, test_size=0.3, random_state=0)"
   ]
  },
  {
   "cell_type": "code",
   "execution_count": 58,
   "metadata": {},
   "outputs": [
    {
     "data": {
      "text/plain": [
       "((805, 13), (805,))"
      ]
     },
     "execution_count": 58,
     "metadata": {},
     "output_type": "execute_result"
    }
   ],
   "source": [
    "X_train.shape, y_train.shape"
   ]
  },
  {
   "cell_type": "code",
   "execution_count": 59,
   "metadata": {},
   "outputs": [
    {
     "data": {
      "text/plain": [
       "((345, 13), (345,))"
      ]
     },
     "execution_count": 59,
     "metadata": {},
     "output_type": "execute_result"
    }
   ],
   "source": [
    "X_test.shape, y_test.shape"
   ]
  },
  {
   "cell_type": "code",
   "execution_count": 60,
   "metadata": {},
   "outputs": [
    {
     "name": "stdout",
     "output_type": "stream",
     "text": [
      "Naive Bayes\n",
      "[ 0.66086957  0.64057971  0.61449275  0.59710145  0.64057971  0.62318841\n",
      "  0.64637681  0.60869565  0.5884058   0.60869565]\n",
      "Accuracy: 0.62 (+/- 0.04)\n",
      "QDA\n",
      "[ 0.67246377  0.71014493  0.66956522  0.68115942  0.68405797  0.66376812\n",
      "  0.70144928  0.66376812  0.67246377  0.68985507]\n",
      "Accuracy: 0.68 (+/- 0.03)\n",
      "Decision Tree\n",
      "[ 0.57971014  0.50144928  0.53623188  0.51594203  0.56231884  0.50144928\n",
      "  0.53043478  0.53333333  0.50724638  0.56811594]\n",
      "Accuracy: 0.53 (+/- 0.05)\n",
      "Random Forest\n",
      "[ 0.64347826  0.63768116  0.5942029   0.60869565  0.65217391  0.5942029\n",
      "  0.6173913   0.6173913   0.59130435  0.63768116]\n",
      "Accuracy: 0.62 (+/- 0.04)\n",
      "Neural Net\n",
      "[ 0.57391304  0.62318841  0.57681159  0.60289855  0.64927536  0.57971014\n",
      "  0.64347826  0.57101449  0.5942029   0.56521739]\n",
      "Accuracy: 0.60 (+/- 0.06)\n",
      "AdaBoost\n",
      "[ 0.62898551  0.62318841  0.6115942   0.6115942   0.62608696  0.59710145\n",
      "  0.61449275  0.55362319  0.56521739  0.6057971 ]\n",
      "Accuracy: 0.60 (+/- 0.05)\n",
      "Nearest Neighbors\n",
      "[ 0.5826087   0.62028986  0.57391304  0.6115942   0.59710145  0.56231884\n",
      "  0.59130435  0.59130435  0.56521739  0.57391304]\n",
      "Accuracy: 0.59 (+/- 0.04)\n",
      "Linear SVM\n",
      "[ 0.66956522  0.67826087  0.64057971  0.65217391  0.71594203  0.6115942\n",
      "  0.65797101  0.63478261  0.64927536  0.65217391]\n",
      "Accuracy: 0.66 (+/- 0.05)\n",
      "RBF SVM\n",
      "[ 0.1884058   0.1942029   0.1942029   0.18550725  0.1942029   0.17681159\n",
      "  0.17971014  0.14782609  0.1826087   0.17391304]\n",
      "Accuracy: 0.18 (+/- 0.03)\n"
     ]
    }
   ],
   "source": [
    "for name, clf in zip(names, classifiers_A):\n",
    "        print(name)\n",
    "        clf.fit(X_train, y_train)\n",
    "        cv = ShuffleSplit(n_splits=10, test_size=0.3, random_state=0)\n",
    "        scores = cross_val_score(clf, db_data, db_target, cv=cv)\n",
    "        print(scores)\n",
    "        print(\"Accuracy: %0.2f (+/- %0.2f)\" % (scores.mean(), scores.std() * 2))"
   ]
  },
  {
   "cell_type": "code",
   "execution_count": 20,
   "metadata": {},
   "outputs": [
    {
     "data": {
      "text/plain": [
       "0.64906832298136641"
      ]
     },
     "execution_count": 20,
     "metadata": {},
     "output_type": "execute_result"
    }
   ],
   "source": [
    "from sklearn import preprocessing\n",
    "X_train, X_test, y_train, y_test = train_test_split(\n",
    "    db_data, db_target, test_size=0.4, random_state=0)\n",
    "scaler = preprocessing.StandardScaler().fit(X_train)\n",
    "X_train_transformed = scaler.transform(X_train)\n",
    "clf = SVC(C=1).fit(X_train_transformed, y_train)\n",
    "X_test_transformed = scaler.transform(X_test)\n",
    "clf.score(X_test_transformed, y_test)  "
   ]
  },
  {
   "cell_type": "code",
   "execution_count": 21,
   "metadata": {},
   "outputs": [
    {
     "data": {
      "text/plain": [
       "array([ 0.6252588 ,  0.65010352,  0.6563147 ])"
      ]
     },
     "execution_count": 21,
     "metadata": {},
     "output_type": "execute_result"
    }
   ],
   "source": [
    "from sklearn.pipeline import make_pipeline\n",
    "clf = make_pipeline(preprocessing.StandardScaler(), SVC(C=1))\n",
    "cross_val_score(clf, db_data, db_target, cv=cv)  "
   ]
  },
  {
   "cell_type": "code",
   "execution_count": 100,
   "metadata": {
    "collapsed": true
   },
   "outputs": [],
   "source": [
    "from keras.models import Sequential\n",
    "from keras.layers import Dense"
   ]
  },
  {
   "cell_type": "code",
   "execution_count": 101,
   "metadata": {
    "collapsed": true
   },
   "outputs": [],
   "source": [
    "df_data = db_data.values"
   ]
  },
  {
   "cell_type": "code",
   "execution_count": 102,
   "metadata": {
    "collapsed": true
   },
   "outputs": [],
   "source": [
    "df_target = db_target.values"
   ]
  },
  {
   "cell_type": "code",
   "execution_count": 103,
   "metadata": {
    "collapsed": true
   },
   "outputs": [],
   "source": [
    "X_train, X_test, y_train, y_test = train_test_split(df_data, df_target, test_size=0.2, random_state=0)"
   ]
  },
  {
   "cell_type": "code",
   "execution_count": 104,
   "metadata": {
    "collapsed": true
   },
   "outputs": [],
   "source": [
    "nFeatures = X_train.shape[1]"
   ]
  },
  {
   "cell_type": "code",
   "execution_count": 105,
   "metadata": {},
   "outputs": [
    {
     "data": {
      "text/plain": [
       "((1288, 13), (1288,))"
      ]
     },
     "execution_count": 105,
     "metadata": {},
     "output_type": "execute_result"
    }
   ],
   "source": [
    "X_train.shape, y_train.shape"
   ]
  },
  {
   "cell_type": "code",
   "execution_count": 114,
   "metadata": {},
   "outputs": [
    {
     "name": "stdout",
     "output_type": "stream",
     "text": [
      "Epoch 1/10\n",
      "1288/1288 [==============================] - 0s 300us/step - loss: 81.0106 - mean_squared_error: 81.0106 - mean_absolute_error: 7.0310\n",
      "Epoch 2/10\n",
      "1288/1288 [==============================] - 0s 270us/step - loss: 47.8545 - mean_squared_error: 47.8545 - mean_absolute_error: 5.1812\n",
      "Epoch 3/10\n",
      "1288/1288 [==============================] - 0s 288us/step - loss: 31.4269 - mean_squared_error: 31.4269 - mean_absolute_error: 4.3035\n",
      "Epoch 4/10\n",
      "1288/1288 [==============================] - 0s 291us/step - loss: 19.1027 - mean_squared_error: 19.1027 - mean_absolute_error: 3.4324\n",
      "Epoch 5/10\n",
      "1288/1288 [==============================] - 0s 308us/step - loss: 11.2079 - mean_squared_error: 11.2079 - mean_absolute_error: 2.7358\n",
      "Epoch 6/10\n",
      "1288/1288 [==============================] - 0s 309us/step - loss: 6.8415 - mean_squared_error: 6.8415 - mean_absolute_error: 2.2251\n",
      "Epoch 7/10\n",
      "1288/1288 [==============================] - 0s 304us/step - loss: 5.0330 - mean_squared_error: 5.0330 - mean_absolute_error: 1.9453\n",
      "Epoch 8/10\n",
      "1288/1288 [==============================] - 0s 331us/step - loss: 4.3736 - mean_squared_error: 4.3736 - mean_absolute_error: 1.7832\n",
      "Epoch 9/10\n",
      "1288/1288 [==============================] - 0s 294us/step - loss: 4.1309 - mean_squared_error: 4.1309 - mean_absolute_error: 1.7096\n",
      "Epoch 10/10\n",
      "1288/1288 [==============================] - 0s 319us/step - loss: 4.0459 - mean_squared_error: 4.0459 - mean_absolute_error: 1.6752\n"
     ]
    },
    {
     "data": {
      "text/plain": [
       "<keras.callbacks.History at 0x7f874c5c83c8>"
      ]
     },
     "execution_count": 114,
     "metadata": {},
     "output_type": "execute_result"
    }
   ],
   "source": [
    "model = Sequential()\n",
    "model.add(Dense(1, input_shape=(nFeatures,), activation='linear'))\n",
    "model.compile(optimizer='rmsprop', loss='mse', metrics=['mse', 'mae'])\n",
    "model.fit(X_train, y_train, batch_size=4, epochs=10)"
   ]
  },
  {
   "cell_type": "code",
   "execution_count": 115,
   "metadata": {},
   "outputs": [
    {
     "name": "stdout",
     "output_type": "stream",
     "text": [
      "322/322 [==============================] - 0s 106us/step\n",
      "[0 2 5 5 4 4 3 3 0 0 2 5 2 2 3 6 0 2 2 2 4 1 2 3 6 4 6 1 5 1 6 6 1 0 5 2 1\n",
      " 6 6 0 0 6 5 1 6 5 2 5 0 0 3 5 0 2 0 6 6 3 5 6 4 6 3 5 3 0 5 2 3 2 1 1 3 3\n",
      " 1 6 0 6 2 3 1 4 6 3 6 2 6 2 5 0 3 4 2 3 4 1 2 2 1 2 4 0 0 0 6]\n",
      "[ 3.04274964  2.30423665  2.45283818  3.35602188  2.01643443  2.4916954\n",
      "  3.80829525  3.42440128  2.39008474  1.78134203  2.37755656  2.81837034\n",
      "  3.26857042  2.54032063  2.60203481  2.2454617   2.98602223  2.46677923\n",
      "  3.76599479  2.45642447  1.81260169  2.03013349  2.89533758  2.96203685\n",
      "  2.7417357   2.96631026  2.49348044  3.51639557  3.60466743  2.82926083\n",
      "  3.13466811  2.93079257  3.15185404  1.619946    4.89413023  2.40237784\n",
      "  2.53554845  2.89060855  2.24780416  2.95551038  1.19763958  2.23965454\n",
      "  4.73595476  2.59525752  2.46345162  3.54252362  3.55461907  3.64510846\n",
      "  1.98691618  2.87121606  2.88041186  3.96967196  1.57686269  4.2185874\n",
      "  2.2618475   2.79303575  2.14500117  3.52320027  3.56730962  2.23066831\n",
      "  1.31199777  2.74132156  3.31203485  4.0255599   3.15407109  2.74574542\n",
      "  3.78661895  3.32007051  2.70995045  3.31358123  2.28996634  2.40737534\n",
      "  3.46358728  4.11366415  2.69458008  2.90636706  1.8384403   2.29564118\n",
      "  2.57951188  3.75367403  2.41858649  2.13246226  1.46333659  4.47508574\n",
      "  2.59387493  2.00585675  2.24320936  2.40735245  3.53676963  2.14247298\n",
      "  3.39508653  2.7459619   2.90807462  2.87402892  2.50709844  2.85091949\n",
      "  3.77939081  3.14448285  3.09901285  2.63223004  2.38189101  2.49298453\n",
      "  1.77374613  2.26167059  2.43721271]\n"
     ]
    }
   ],
   "source": [
    "model.evaluate(X_test, y_test, verbose=True)\n",
    " \n",
    "Y_pred = model.predict(X_test)\n",
    " \n",
    "print( y_test[:10] )\n",
    "print( Y_pred[:10,0] )"
   ]
  },
  {
   "cell_type": "code",
   "execution_count": 125,
   "metadata": {
    "collapsed": true
   },
   "outputs": [],
   "source": [
    "error = Y_pred-y_test"
   ]
  },
  {
   "cell_type": "code",
   "execution_count": 126,
   "metadata": {},
   "outputs": [
    {
     "name": "stdout",
     "output_type": "stream",
     "text": [
      "[[ 3.04274964  1.04274964 -1.95725036 ...,  3.04274964 -0.95725036\n",
      "   1.04274964]\n",
      " [ 2.30423665  0.30423665 -2.69576335 ...,  2.30423665 -1.69576335\n",
      "   0.30423665]\n",
      " [ 2.45283818  0.45283818 -2.54716182 ...,  2.45283818 -1.54716182\n",
      "   0.45283818]\n",
      " ..., \n",
      " [ 2.79338765  0.79338765 -2.20661235 ...,  2.79338765 -1.20661235\n",
      "   0.79338765]\n",
      " [ 2.32718182  0.32718182 -2.67281818 ...,  2.32718182 -1.67281818\n",
      "   0.32718182]\n",
      " [ 3.15378833  1.15378833 -1.84621167 ...,  3.15378833 -0.84621167\n",
      "   1.15378833]]\n"
     ]
    }
   ],
   "source": [
    "print(error)"
   ]
  },
  {
   "cell_type": "code",
   "execution_count": null,
   "metadata": {
    "collapsed": true
   },
   "outputs": [],
   "source": []
  }
 ],
 "metadata": {
  "kernelspec": {
   "display_name": "Python 3",
   "language": "python",
   "name": "python3"
  },
  "language_info": {
   "codemirror_mode": {
    "name": "ipython",
    "version": 3
   },
   "file_extension": ".py",
   "mimetype": "text/x-python",
   "name": "python",
   "nbconvert_exporter": "python",
   "pygments_lexer": "ipython3",
   "version": "3.5.2"
  }
 },
 "nbformat": 4,
 "nbformat_minor": 2
}
