{
 "cells": [
  {
   "cell_type": "code",
   "execution_count": 68,
   "metadata": {
    "collapsed": true
   },
   "outputs": [],
   "source": [
    "import glob\n",
    "import os\n",
    "import numpy as np\n",
    "import matplotlib.pyplot as plt\n",
    "import pandas as pd\n",
    "from sklearn import tree\n",
    "from sklearn.tree import DecisionTreeClassifier, export_graphviz\n",
    "from matplotlib.colors import ListedColormap\n",
    "from sklearn.model_selection import train_test_split\n",
    "from sklearn.preprocessing import StandardScaler\n",
    "from sklearn.datasets import make_moons, make_circles, make_classification\n",
    "from sklearn.neural_network import MLPClassifier\n",
    "from sklearn.neighbors import KNeighborsClassifier\n",
    "from sklearn.svm import SVC\n",
    "from sklearn.gaussian_process import GaussianProcessClassifier\n",
    "from sklearn.gaussian_process.kernels import RBF\n",
    "from sklearn.tree import DecisionTreeClassifier\n",
    "from sklearn.ensemble import RandomForestClassifier, AdaBoostClassifier\n",
    "from sklearn.naive_bayes import GaussianNB\n",
    "from sklearn.discriminant_analysis import QuadraticDiscriminantAnalysis\n",
    "from sklearn.model_selection import cross_val_score"
   ]
  },
  {
   "cell_type": "code",
   "execution_count": 69,
   "metadata": {
    "collapsed": true
   },
   "outputs": [],
   "source": [
    "names = [\"Naive Bayes\", \"QDA\",\"Decision Tree\", \"Random Forest\", \"Neural Net\", \"AdaBoost\",\"Nearest Neighbors\", \"Linear SVM\", \"RBF SVM\"]\n",
    "classifiers =[GaussianNB(),QuadraticDiscriminantAnalysis(),DecisionTreeClassifier(max_depth=5),\n",
    "    RandomForestClassifier(max_depth=5, n_estimators=10, max_features=5),\n",
    "    MLPClassifier(alpha=1),\n",
    "    AdaBoostClassifier(),KNeighborsClassifier(3),\n",
    "    SVC(kernel=\"linear\", C=0.025),\n",
    "    SVC(gamma=2, C=1)] "
   ]
  },
  {
   "cell_type": "code",
   "execution_count": 70,
   "metadata": {
    "collapsed": true
   },
   "outputs": [],
   "source": [
    "path = \"/home/jorgher/Documents/faceRec/CFEE/\"\n",
    "files = sorted(glob.glob(path+'*.csv'))\n",
    "files = files[:7]"
   ]
  },
  {
   "cell_type": "code",
   "execution_count": 71,
   "metadata": {
    "collapsed": true
   },
   "outputs": [],
   "source": [
    "path = \"/home/jorgher/Documents/faceRec/CFEE/\"\n",
    "files = sorted(glob.glob(path+'*.csv'))\n",
    "files = files[:7]\n",
    "#emotions = [\"neutral\",'happy','sad','fearful','angry','surprised','disgusted']\n",
    "emotions = [0,1,2,3,4,5,6]\n",
    "dbs = []\n",
    "for i,f in enumerate(files):\n",
    "    db = pd.read_csv(f)\n",
    "    db['file'] = db['file'].map(lambda x: str(x)[15:])\n",
    "    db['file'] = db['file'].map(lambda x: str(x)[:-4]).astype(int)\n",
    "    db['Subjet'] = db['file']\n",
    "    db['Emotions'] = emotions[i]\n",
    "    dbs.append(db)\n",
    "\n",
    "db = (pd.concat(dbs[i][:] for i in range(len(files))))\n",
    "db = db.sort_values('file')\n",
    "#df['Emotion']=df['file']\n",
    "db.drop(['file'], axis=1, inplace=True)"
   ]
  },
  {
   "cell_type": "code",
   "execution_count": 72,
   "metadata": {},
   "outputs": [],
   "source": [
    "#db.head()"
   ]
  },
  {
   "cell_type": "code",
   "execution_count": 73,
   "metadata": {
    "collapsed": true
   },
   "outputs": [],
   "source": [
    "features = list(db.columns[:13])\n",
    "Etype={'neutral': 0, 'happy': 1,\n",
    "        'sad': 2,'fearful': 3,'angry': 4,\n",
    "        'surprised': 5,'disgusted': 6}"
   ]
  },
  {
   "cell_type": "code",
   "execution_count": 74,
   "metadata": {
    "collapsed": true
   },
   "outputs": [],
   "source": [
    "db_data = db[features]"
   ]
  },
  {
   "cell_type": "code",
   "execution_count": 75,
   "metadata": {
    "collapsed": true
   },
   "outputs": [],
   "source": [
    "db_target = db['Emotions']"
   ]
  },
  {
   "cell_type": "code",
   "execution_count": 76,
   "metadata": {
    "collapsed": true
   },
   "outputs": [],
   "source": [
    "X_train, X_test, y_train, y_test = train_test_split(db_data, db_target, test_size=0.2, random_state=0)"
   ]
  },
  {
   "cell_type": "code",
   "execution_count": 77,
   "metadata": {},
   "outputs": [
    {
     "data": {
      "text/plain": [
       "((1288, 13), (1288,))"
      ]
     },
     "execution_count": 77,
     "metadata": {},
     "output_type": "execute_result"
    }
   ],
   "source": [
    "X_train.shape, y_train.shape"
   ]
  },
  {
   "cell_type": "code",
   "execution_count": 78,
   "metadata": {},
   "outputs": [
    {
     "data": {
      "text/plain": [
       "((322, 13), (322,))"
      ]
     },
     "execution_count": 78,
     "metadata": {},
     "output_type": "execute_result"
    }
   ],
   "source": [
    "X_test.shape, y_test.shape"
   ]
  },
  {
   "cell_type": "code",
   "execution_count": 14,
   "metadata": {},
   "outputs": [
    {
     "name": "stdout",
     "output_type": "stream",
     "text": [
      "Naive Bayes\n",
      "[ 0.68944099  0.62111801  0.61490683  0.65217391  0.62732919  0.63354037\n",
      "  0.70186335  0.50310559  0.52173913  0.53416149]\n",
      "Accuracy: 0.61 (+/- 0.13)\n",
      "QDA\n",
      "[ 0.72670807  0.68944099  0.68322981  0.70807453  0.66459627  0.63354037\n",
      "  0.72670807  0.59006211  0.63975155  0.61490683]\n",
      "Accuracy: 0.67 (+/- 0.09)\n",
      "Decision Tree\n",
      "[ 0.55279503  0.55900621  0.55279503  0.56521739  0.53416149  0.57142857\n",
      "  0.57142857  0.44099379  0.51552795  0.39751553]\n",
      "Accuracy: 0.53 (+/- 0.11)\n",
      "Random Forest\n",
      "[ 0.62111801  0.58385093  0.65838509  0.67080745  0.62111801  0.63354037\n",
      "  0.68322981  0.49689441  0.52795031  0.50310559]\n",
      "Accuracy: 0.60 (+/- 0.13)\n",
      "Neural Net\n",
      "[ 0.67080745  0.52173913  0.59006211  0.64596273  0.62111801  0.58385093\n",
      "  0.65217391  0.49068323  0.55900621  0.53416149]\n",
      "Accuracy: 0.59 (+/- 0.11)\n",
      "AdaBoost\n",
      "[ 0.54658385  0.49689441  0.55900621  0.58385093  0.52173913  0.54037267\n",
      "  0.59627329  0.49068323  0.50931677  0.39130435]\n",
      "Accuracy: 0.52 (+/- 0.11)\n",
      "Nearest Neighbors\n",
      "[ 0.58385093  0.57142857  0.52173913  0.54658385  0.54037267  0.49068323\n",
      "  0.56521739  0.47826087  0.54037267  0.47826087]\n",
      "Accuracy: 0.53 (+/- 0.07)\n",
      "Linear SVM\n",
      "[ 0.66459627  0.63354037  0.62111801  0.66459627  0.62732919  0.59006211\n",
      "  0.68944099  0.50931677  0.54658385  0.50931677]\n",
      "Accuracy: 0.61 (+/- 0.12)\n",
      "RBF SVM\n",
      "[ 0.16149068  0.1552795   0.14906832  0.18012422  0.1552795   0.14906832\n",
      "  0.17391304  0.16770186  0.17391304  0.1552795 ]\n",
      "Accuracy: 0.16 (+/- 0.02)\n"
     ]
    }
   ],
   "source": [
    "for name, clf in zip(names, classifiers):\n",
    "        print(name)\n",
    "        clf.fit(X_train, y_train)\n",
    "        scores = cross_val_score(clf, db_data, db_target, cv=10)\n",
    "        print(scores)\n",
    "        print(\"Accuracy: %0.2f (+/- %0.2f)\" % (scores.mean(), scores.std() * 2))"
   ]
  },
  {
   "cell_type": "code",
   "execution_count": 15,
   "metadata": {
    "collapsed": true
   },
   "outputs": [],
   "source": [
    "clf = SVC(kernel='linear', C=1).fit(X_train, y_train)"
   ]
  },
  {
   "cell_type": "code",
   "execution_count": 16,
   "metadata": {
    "collapsed": true
   },
   "outputs": [],
   "source": [
    "scores = cross_val_score(clf, db_data, db_target, cv=10)"
   ]
  },
  {
   "cell_type": "code",
   "execution_count": 17,
   "metadata": {},
   "outputs": [
    {
     "data": {
      "text/plain": [
       "array([ 0.72670807,  0.68944099,  0.64596273,  0.70186335,  0.62111801,\n",
       "        0.62111801,  0.73913043,  0.51552795,  0.57763975,  0.54037267])"
      ]
     },
     "execution_count": 17,
     "metadata": {},
     "output_type": "execute_result"
    }
   ],
   "source": [
    "scores"
   ]
  },
  {
   "cell_type": "code",
   "execution_count": 18,
   "metadata": {},
   "outputs": [
    {
     "name": "stdout",
     "output_type": "stream",
     "text": [
      "Accuracy: 0.64 (+/- 0.15)\n"
     ]
    }
   ],
   "source": [
    "print(\"Accuracy: %0.2f (+/- %0.2f)\" % (scores.mean(), scores.std() * 2))"
   ]
  },
  {
   "cell_type": "code",
   "execution_count": 19,
   "metadata": {},
   "outputs": [
    {
     "data": {
      "text/plain": [
       "array([ 0.64596273,  0.65010352,  0.63561077])"
      ]
     },
     "execution_count": 19,
     "metadata": {},
     "output_type": "execute_result"
    }
   ],
   "source": [
    "from sklearn.model_selection import ShuffleSplit\n",
    "n_samples = db_data.shape[0]\n",
    "cv = ShuffleSplit(n_splits=3, test_size=0.3, random_state=0)\n",
    "cross_val_score(clf, db_data, db_target, cv=cv)"
   ]
  },
  {
   "cell_type": "code",
   "execution_count": 20,
   "metadata": {},
   "outputs": [
    {
     "data": {
      "text/plain": [
       "0.64906832298136641"
      ]
     },
     "execution_count": 20,
     "metadata": {},
     "output_type": "execute_result"
    }
   ],
   "source": [
    "from sklearn import preprocessing\n",
    "X_train, X_test, y_train, y_test = train_test_split(\n",
    "    db_data, db_target, test_size=0.4, random_state=0)\n",
    "scaler = preprocessing.StandardScaler().fit(X_train)\n",
    "X_train_transformed = scaler.transform(X_train)\n",
    "clf = SVC(C=1).fit(X_train_transformed, y_train)\n",
    "X_test_transformed = scaler.transform(X_test)\n",
    "clf.score(X_test_transformed, y_test)  "
   ]
  },
  {
   "cell_type": "code",
   "execution_count": 21,
   "metadata": {},
   "outputs": [
    {
     "data": {
      "text/plain": [
       "array([ 0.6252588 ,  0.65010352,  0.6563147 ])"
      ]
     },
     "execution_count": 21,
     "metadata": {},
     "output_type": "execute_result"
    }
   ],
   "source": [
    "from sklearn.pipeline import make_pipeline\n",
    "clf = make_pipeline(preprocessing.StandardScaler(), SVC(C=1))\n",
    "cross_val_score(clf, db_data, db_target, cv=cv)  "
   ]
  },
  {
   "cell_type": "code",
   "execution_count": 100,
   "metadata": {},
   "outputs": [],
   "source": [
    "from keras.models import Sequential\n",
    "from keras.layers import Dense"
   ]
  },
  {
   "cell_type": "code",
   "execution_count": 101,
   "metadata": {},
   "outputs": [],
   "source": [
    "df_data = db_data.values"
   ]
  },
  {
   "cell_type": "code",
   "execution_count": 102,
   "metadata": {
    "collapsed": true
   },
   "outputs": [],
   "source": [
    "df_target = db_target.values"
   ]
  },
  {
   "cell_type": "code",
   "execution_count": 103,
   "metadata": {
    "collapsed": true
   },
   "outputs": [],
   "source": [
    "X_train, X_test, y_train, y_test = train_test_split(df_data, df_target, test_size=0.2, random_state=0)"
   ]
  },
  {
   "cell_type": "code",
   "execution_count": 104,
   "metadata": {},
   "outputs": [],
   "source": [
    "nFeatures = X_train.shape[1]"
   ]
  },
  {
   "cell_type": "code",
   "execution_count": 105,
   "metadata": {},
   "outputs": [
    {
     "data": {
      "text/plain": [
       "((1288, 13), (1288,))"
      ]
     },
     "execution_count": 105,
     "metadata": {},
     "output_type": "execute_result"
    }
   ],
   "source": [
    "X_train.shape, y_train.shape"
   ]
  },
  {
   "cell_type": "code",
   "execution_count": 114,
   "metadata": {},
   "outputs": [
    {
     "name": "stdout",
     "output_type": "stream",
     "text": [
      "Epoch 1/10\n",
      "1288/1288 [==============================] - 0s 300us/step - loss: 81.0106 - mean_squared_error: 81.0106 - mean_absolute_error: 7.0310\n",
      "Epoch 2/10\n",
      "1288/1288 [==============================] - 0s 270us/step - loss: 47.8545 - mean_squared_error: 47.8545 - mean_absolute_error: 5.1812\n",
      "Epoch 3/10\n",
      "1288/1288 [==============================] - 0s 288us/step - loss: 31.4269 - mean_squared_error: 31.4269 - mean_absolute_error: 4.3035\n",
      "Epoch 4/10\n",
      "1288/1288 [==============================] - 0s 291us/step - loss: 19.1027 - mean_squared_error: 19.1027 - mean_absolute_error: 3.4324\n",
      "Epoch 5/10\n",
      "1288/1288 [==============================] - 0s 308us/step - loss: 11.2079 - mean_squared_error: 11.2079 - mean_absolute_error: 2.7358\n",
      "Epoch 6/10\n",
      "1288/1288 [==============================] - 0s 309us/step - loss: 6.8415 - mean_squared_error: 6.8415 - mean_absolute_error: 2.2251\n",
      "Epoch 7/10\n",
      "1288/1288 [==============================] - 0s 304us/step - loss: 5.0330 - mean_squared_error: 5.0330 - mean_absolute_error: 1.9453\n",
      "Epoch 8/10\n",
      "1288/1288 [==============================] - 0s 331us/step - loss: 4.3736 - mean_squared_error: 4.3736 - mean_absolute_error: 1.7832\n",
      "Epoch 9/10\n",
      "1288/1288 [==============================] - 0s 294us/step - loss: 4.1309 - mean_squared_error: 4.1309 - mean_absolute_error: 1.7096\n",
      "Epoch 10/10\n",
      "1288/1288 [==============================] - 0s 319us/step - loss: 4.0459 - mean_squared_error: 4.0459 - mean_absolute_error: 1.6752\n"
     ]
    },
    {
     "data": {
      "text/plain": [
       "<keras.callbacks.History at 0x7f874c5c83c8>"
      ]
     },
     "execution_count": 114,
     "metadata": {},
     "output_type": "execute_result"
    }
   ],
   "source": [
    "model = Sequential()\n",
    "model.add(Dense(1, input_shape=(nFeatures,), activation='linear'))\n",
    "model.compile(optimizer='rmsprop', loss='mse', metrics=['mse', 'mae'])\n",
    "model.fit(X_train, y_train, batch_size=4, epochs=10)"
   ]
  },
  {
   "cell_type": "code",
   "execution_count": 115,
   "metadata": {},
   "outputs": [
    {
     "name": "stdout",
     "output_type": "stream",
     "text": [
      "322/322 [==============================] - 0s 106us/step\n",
      "[0 2 5 5 4 4 3 3 0 0 2 5 2 2 3 6 0 2 2 2 4 1 2 3 6 4 6 1 5 1 6 6 1 0 5 2 1\n",
      " 6 6 0 0 6 5 1 6 5 2 5 0 0 3 5 0 2 0 6 6 3 5 6 4 6 3 5 3 0 5 2 3 2 1 1 3 3\n",
      " 1 6 0 6 2 3 1 4 6 3 6 2 6 2 5 0 3 4 2 3 4 1 2 2 1 2 4 0 0 0 6]\n",
      "[ 3.04274964  2.30423665  2.45283818  3.35602188  2.01643443  2.4916954\n",
      "  3.80829525  3.42440128  2.39008474  1.78134203  2.37755656  2.81837034\n",
      "  3.26857042  2.54032063  2.60203481  2.2454617   2.98602223  2.46677923\n",
      "  3.76599479  2.45642447  1.81260169  2.03013349  2.89533758  2.96203685\n",
      "  2.7417357   2.96631026  2.49348044  3.51639557  3.60466743  2.82926083\n",
      "  3.13466811  2.93079257  3.15185404  1.619946    4.89413023  2.40237784\n",
      "  2.53554845  2.89060855  2.24780416  2.95551038  1.19763958  2.23965454\n",
      "  4.73595476  2.59525752  2.46345162  3.54252362  3.55461907  3.64510846\n",
      "  1.98691618  2.87121606  2.88041186  3.96967196  1.57686269  4.2185874\n",
      "  2.2618475   2.79303575  2.14500117  3.52320027  3.56730962  2.23066831\n",
      "  1.31199777  2.74132156  3.31203485  4.0255599   3.15407109  2.74574542\n",
      "  3.78661895  3.32007051  2.70995045  3.31358123  2.28996634  2.40737534\n",
      "  3.46358728  4.11366415  2.69458008  2.90636706  1.8384403   2.29564118\n",
      "  2.57951188  3.75367403  2.41858649  2.13246226  1.46333659  4.47508574\n",
      "  2.59387493  2.00585675  2.24320936  2.40735245  3.53676963  2.14247298\n",
      "  3.39508653  2.7459619   2.90807462  2.87402892  2.50709844  2.85091949\n",
      "  3.77939081  3.14448285  3.09901285  2.63223004  2.38189101  2.49298453\n",
      "  1.77374613  2.26167059  2.43721271]\n"
     ]
    }
   ],
   "source": [
    "model.evaluate(X_test, y_test, verbose=True)\n",
    " \n",
    "Y_pred = model.predict(X_test)\n",
    " \n",
    "print( y_test[:105] )\n",
    "print( Y_pred[:105,0] )"
   ]
  },
  {
   "cell_type": "code",
   "execution_count": 125,
   "metadata": {},
   "outputs": [],
   "source": [
    "error = Y_pred-y_test"
   ]
  },
  {
   "cell_type": "code",
   "execution_count": 126,
   "metadata": {},
   "outputs": [
    {
     "name": "stdout",
     "output_type": "stream",
     "text": [
      "[[ 3.04274964  1.04274964 -1.95725036 ...,  3.04274964 -0.95725036\n",
      "   1.04274964]\n",
      " [ 2.30423665  0.30423665 -2.69576335 ...,  2.30423665 -1.69576335\n",
      "   0.30423665]\n",
      " [ 2.45283818  0.45283818 -2.54716182 ...,  2.45283818 -1.54716182\n",
      "   0.45283818]\n",
      " ..., \n",
      " [ 2.79338765  0.79338765 -2.20661235 ...,  2.79338765 -1.20661235\n",
      "   0.79338765]\n",
      " [ 2.32718182  0.32718182 -2.67281818 ...,  2.32718182 -1.67281818\n",
      "   0.32718182]\n",
      " [ 3.15378833  1.15378833 -1.84621167 ...,  3.15378833 -0.84621167\n",
      "   1.15378833]]\n"
     ]
    }
   ],
   "source": [
    "print(error)"
   ]
  },
  {
   "cell_type": "code",
   "execution_count": null,
   "metadata": {
    "collapsed": true
   },
   "outputs": [],
   "source": []
  }
 ],
 "metadata": {
  "kernelspec": {
   "display_name": "Python 3",
   "language": "python",
   "name": "python3"
  },
  "language_info": {
   "codemirror_mode": {
    "name": "ipython",
    "version": 3
   },
   "file_extension": ".py",
   "mimetype": "text/x-python",
   "name": "python",
   "nbconvert_exporter": "python",
   "pygments_lexer": "ipython3",
   "version": "3.5.2"
  }
 },
 "nbformat": 4,
 "nbformat_minor": 2
}
