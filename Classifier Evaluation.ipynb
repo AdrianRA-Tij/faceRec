{
 "cells": [
  {
   "cell_type": "code",
   "execution_count": 114,
   "metadata": {
    "collapsed": true
   },
   "outputs": [],
   "source": [
    "import glob\n",
    "import os\n",
    "import numpy as np\n",
    "import matplotlib.pyplot as plt\n",
    "import pandas as pd\n",
    "from sklearn import tree\n",
    "from sklearn.tree import DecisionTreeClassifier, export_graphviz\n",
    "from matplotlib.colors import ListedColormap\n",
    "from sklearn.model_selection import train_test_split\n",
    "from sklearn.preprocessing import StandardScaler\n",
    "from sklearn.datasets import make_moons, make_circles, make_classification\n",
    "from sklearn.neural_network import MLPClassifier\n",
    "from sklearn.neighbors import KNeighborsClassifier\n",
    "from sklearn.svm import SVC\n",
    "from sklearn.gaussian_process import GaussianProcessClassifier\n",
    "from sklearn.gaussian_process.kernels import RBF\n",
    "from sklearn.tree import DecisionTreeClassifier\n",
    "from sklearn.ensemble import RandomForestClassifier, AdaBoostClassifier\n",
    "from sklearn.naive_bayes import GaussianNB\n",
    "from sklearn.discriminant_analysis import QuadraticDiscriminantAnalysis\n",
    "from sklearn.model_selection import cross_val_score\n",
    "from sklearn.model_selection import ShuffleSplit\n",
    "from sklearn import preprocessing\n",
    "from sklearn.pipeline import make_pipeline"
   ]
  },
  {
   "cell_type": "code",
   "execution_count": 115,
   "metadata": {
    "collapsed": true
   },
   "outputs": [],
   "source": [
    "names = [\"Naive Bayes\", \"QDA\",\"Decision Tree\", \"Random Forest\", \"Neural Net\", \"AdaBoost\",\"Nearest Neighbors\", \"Linear SVM\", \"RBF SVM\"]\n",
    "classifiers =[GaussianNB(),QuadraticDiscriminantAnalysis(),DecisionTreeClassifier(max_depth=5),\n",
    "    RandomForestClassifier(max_depth=5, n_estimators=10, max_features=5),\n",
    "    MLPClassifier(alpha=1),\n",
    "    AdaBoostClassifier(),KNeighborsClassifier(5),\n",
    "    SVC(kernel=\"linear\", C=0.025),\n",
    "    SVC(gamma=2, C=1)]\n",
    "classifiers_A =[GaussianNB(),QuadraticDiscriminantAnalysis(),DecisionTreeClassifier(),\n",
    "    RandomForestClassifier(),\n",
    "    MLPClassifier(activation='relu',alpha=.1),\n",
    "    AdaBoostClassifier(),KNeighborsClassifier(n_neighbors=5, weights='distance', algorithm='kd_tree'),\n",
    "    SVC(kernel=\"linear\", C=1),\n",
    "    SVC(gamma=2, C=1)]"
   ]
  },
  {
   "cell_type": "code",
   "execution_count": 116,
   "metadata": {
    "collapsed": true
   },
   "outputs": [],
   "source": [
    "path = \"/home/jorgher/Documents/faceRec/CFEE/\"\n",
    "files = sorted(glob.glob(path+'*.csv'))\n",
    "files = files[:7]"
   ]
  },
  {
   "cell_type": "code",
   "execution_count": 117,
   "metadata": {
    "collapsed": true
   },
   "outputs": [],
   "source": [
    "path = \"/home/jorgher/Documents/faceRec/CFEE/\"\n",
    "files = sorted(glob.glob(path+'*.csv'))\n",
    "files = files[:5]\n",
    "#emotions = [\"neutral\",'happy','sad','fearful','angry','surprised','disgusted']\n",
    "#emotions = [0,1,2,3,4,5,6]\n",
    "emotions = [0,1,2,3,4]\n",
    "dbs = []\n",
    "for i,f in enumerate(files):\n",
    "    db = pd.read_csv(f)\n",
    "    db['file'] = db['file'].map(lambda x: str(x)[15:])\n",
    "    db['file'] = db['file'].map(lambda x: str(x)[:-4]).astype(int)\n",
    "    db['Subjet'] = db['file']\n",
    "    db['Emotions'] = emotions[i]\n",
    "    dbs.append(db)\n",
    "\n",
    "db = (pd.concat(dbs[i][:] for i in range(len(files))))\n",
    "db = db.sort_values('file')\n",
    "#df['Emotion']=df['file']\n",
    "db.drop(['file'], axis=1, inplace=True)"
   ]
  },
  {
   "cell_type": "code",
   "execution_count": 118,
   "metadata": {},
   "outputs": [
    {
     "data": {
      "text/html": [
       "<div>\n",
       "<style>\n",
       "    .dataframe thead tr:only-child th {\n",
       "        text-align: right;\n",
       "    }\n",
       "\n",
       "    .dataframe thead th {\n",
       "        text-align: left;\n",
       "    }\n",
       "\n",
       "    .dataframe tbody tr th {\n",
       "        vertical-align: top;\n",
       "    }\n",
       "</style>\n",
       "<table border=\"1\" class=\"dataframe\">\n",
       "  <thead>\n",
       "    <tr style=\"text-align: right;\">\n",
       "      <th></th>\n",
       "      <th>D1</th>\n",
       "      <th>D2</th>\n",
       "      <th>D3</th>\n",
       "      <th>D4</th>\n",
       "      <th>D5</th>\n",
       "      <th>D6</th>\n",
       "      <th>D7</th>\n",
       "      <th>A0</th>\n",
       "      <th>A1</th>\n",
       "      <th>A2</th>\n",
       "      <th>A3</th>\n",
       "      <th>A4</th>\n",
       "      <th>A5</th>\n",
       "      <th>Subjet</th>\n",
       "      <th>Emotions</th>\n",
       "    </tr>\n",
       "  </thead>\n",
       "  <tbody>\n",
       "    <tr>\n",
       "      <th>45</th>\n",
       "      <td>22.360680</td>\n",
       "      <td>21.213203</td>\n",
       "      <td>25.298221</td>\n",
       "      <td>12.041595</td>\n",
       "      <td>14.035669</td>\n",
       "      <td>40.000000</td>\n",
       "      <td>91.049437</td>\n",
       "      <td>1.058044</td>\n",
       "      <td>0.294076</td>\n",
       "      <td>1.067170</td>\n",
       "      <td>0.278944</td>\n",
       "      <td>0.752528</td>\n",
       "      <td>1.219925</td>\n",
       "      <td>1</td>\n",
       "      <td>3</td>\n",
       "    </tr>\n",
       "    <tr>\n",
       "      <th>216</th>\n",
       "      <td>22.090722</td>\n",
       "      <td>20.024984</td>\n",
       "      <td>24.041631</td>\n",
       "      <td>9.000000</td>\n",
       "      <td>8.246211</td>\n",
       "      <td>18.110770</td>\n",
       "      <td>64.124878</td>\n",
       "      <td>0.971679</td>\n",
       "      <td>0.320525</td>\n",
       "      <td>1.165202</td>\n",
       "      <td>0.291506</td>\n",
       "      <td>0.526344</td>\n",
       "      <td>1.059376</td>\n",
       "      <td>1</td>\n",
       "      <td>4</td>\n",
       "    </tr>\n",
       "    <tr>\n",
       "      <th>92</th>\n",
       "      <td>33.241540</td>\n",
       "      <td>28.160256</td>\n",
       "      <td>32.310989</td>\n",
       "      <td>9.000000</td>\n",
       "      <td>9.055385</td>\n",
       "      <td>39.012818</td>\n",
       "      <td>94.191295</td>\n",
       "      <td>1.053966</td>\n",
       "      <td>0.262995</td>\n",
       "      <td>1.089529</td>\n",
       "      <td>0.408097</td>\n",
       "      <td>0.731317</td>\n",
       "      <td>1.121536</td>\n",
       "      <td>1</td>\n",
       "      <td>1</td>\n",
       "    </tr>\n",
       "    <tr>\n",
       "      <th>36</th>\n",
       "      <td>32.140317</td>\n",
       "      <td>28.017851</td>\n",
       "      <td>32.572995</td>\n",
       "      <td>12.000000</td>\n",
       "      <td>11.180340</td>\n",
       "      <td>35.014283</td>\n",
       "      <td>71.028163</td>\n",
       "      <td>1.178367</td>\n",
       "      <td>0.280184</td>\n",
       "      <td>1.011086</td>\n",
       "      <td>0.392952</td>\n",
       "      <td>0.869221</td>\n",
       "      <td>1.264622</td>\n",
       "      <td>1</td>\n",
       "      <td>0</td>\n",
       "    </tr>\n",
       "    <tr>\n",
       "      <th>68</th>\n",
       "      <td>21.095023</td>\n",
       "      <td>27.018512</td>\n",
       "      <td>30.364453</td>\n",
       "      <td>11.000000</td>\n",
       "      <td>10.049876</td>\n",
       "      <td>31.016125</td>\n",
       "      <td>70.178344</td>\n",
       "      <td>1.060248</td>\n",
       "      <td>0.344625</td>\n",
       "      <td>1.020170</td>\n",
       "      <td>0.261044</td>\n",
       "      <td>0.740912</td>\n",
       "      <td>1.250330</td>\n",
       "      <td>1</td>\n",
       "      <td>2</td>\n",
       "    </tr>\n",
       "  </tbody>\n",
       "</table>\n",
       "</div>"
      ],
      "text/plain": [
       "            D1         D2         D3         D4         D5         D6  \\\n",
       "45   22.360680  21.213203  25.298221  12.041595  14.035669  40.000000   \n",
       "216  22.090722  20.024984  24.041631   9.000000   8.246211  18.110770   \n",
       "92   33.241540  28.160256  32.310989   9.000000   9.055385  39.012818   \n",
       "36   32.140317  28.017851  32.572995  12.000000  11.180340  35.014283   \n",
       "68   21.095023  27.018512  30.364453  11.000000  10.049876  31.016125   \n",
       "\n",
       "            D7        A0        A1        A2        A3        A4        A5  \\\n",
       "45   91.049437  1.058044  0.294076  1.067170  0.278944  0.752528  1.219925   \n",
       "216  64.124878  0.971679  0.320525  1.165202  0.291506  0.526344  1.059376   \n",
       "92   94.191295  1.053966  0.262995  1.089529  0.408097  0.731317  1.121536   \n",
       "36   71.028163  1.178367  0.280184  1.011086  0.392952  0.869221  1.264622   \n",
       "68   70.178344  1.060248  0.344625  1.020170  0.261044  0.740912  1.250330   \n",
       "\n",
       "     Subjet  Emotions  \n",
       "45        1         3  \n",
       "216       1         4  \n",
       "92        1         1  \n",
       "36        1         0  \n",
       "68        1         2  "
      ]
     },
     "execution_count": 118,
     "metadata": {},
     "output_type": "execute_result"
    }
   ],
   "source": [
    "db.head()"
   ]
  },
  {
   "cell_type": "code",
   "execution_count": 119,
   "metadata": {
    "collapsed": true
   },
   "outputs": [],
   "source": [
    "features = list(db.columns[:13])\n",
    "Etype={'neutral': 0, 'happy': 1,\n",
    "        'sad': 2,'fearful': 3,'angry': 4,\n",
    "        'surprised': 5,'disgusted': 6}"
   ]
  },
  {
   "cell_type": "code",
   "execution_count": 120,
   "metadata": {
    "collapsed": true
   },
   "outputs": [],
   "source": [
    "db_data = db[features]"
   ]
  },
  {
   "cell_type": "code",
   "execution_count": 121,
   "metadata": {
    "collapsed": true
   },
   "outputs": [],
   "source": [
    "db_target = db['Emotions']"
   ]
  },
  {
   "cell_type": "code",
   "execution_count": 122,
   "metadata": {
    "collapsed": true
   },
   "outputs": [],
   "source": [
    "X_train, X_test, y_train, y_test = train_test_split(db_data, db_target, test_size=0.3, random_state=0)\n",
    "scaler = preprocessing.StandardScaler().fit(X_train)\n",
    "X_train_transformed = scaler.transform(X_train)\n",
    "X_test_transformed = scaler.transform(X_test)"
   ]
  },
  {
   "cell_type": "code",
   "execution_count": 123,
   "metadata": {},
   "outputs": [
    {
     "data": {
      "text/plain": [
       "((805, 13), (805,))"
      ]
     },
     "execution_count": 123,
     "metadata": {},
     "output_type": "execute_result"
    }
   ],
   "source": [
    "X_train_transformed.shape, y_train.shape"
   ]
  },
  {
   "cell_type": "code",
   "execution_count": 124,
   "metadata": {},
   "outputs": [
    {
     "data": {
      "text/plain": [
       "((345, 13), (345,))"
      ]
     },
     "execution_count": 124,
     "metadata": {},
     "output_type": "execute_result"
    }
   ],
   "source": [
    "X_test_transformed.shape, y_test.shape"
   ]
  },
  {
   "cell_type": "code",
   "execution_count": 125,
   "metadata": {},
   "outputs": [
    {
     "name": "stdout",
     "output_type": "stream",
     "text": [
      "\n",
      "Naive Bayes\n",
      "[ 0.64423077  0.60576923  0.625       0.63461538  0.56730769  0.60576923\n",
      "  0.67307692  0.66346154  0.65384615  0.65384615]\n",
      "Accuracy: 0.63 (+/- 0.06)\n",
      "Porcentaje exito 60.0 %\n",
      "\n",
      "QDA\n",
      "[ 0.66346154  0.54807692  0.61538462  0.57692308  0.57692308  0.65384615\n",
      "  0.625       0.61538462  0.55769231  0.53846154]\n",
      "Accuracy: 0.60 (+/- 0.08)\n",
      "Porcentaje exito 70.0 %\n",
      "\n",
      "Decision Tree\n",
      "[ 0.51923077  0.5         0.49038462  0.55769231  0.52884615  0.53846154\n",
      "  0.54807692  0.57692308  0.625       0.50961538]\n",
      "Accuracy: 0.54 (+/- 0.08)\n",
      "Porcentaje exito 60.0 %\n",
      "\n",
      "Random Forest\n",
      "[ 0.60576923  0.58653846  0.60576923  0.60576923  0.55769231  0.55769231\n",
      "  0.58653846  0.63461538  0.54807692  0.61538462]\n",
      "Accuracy: 0.59 (+/- 0.05)\n",
      "Porcentaje exito 60.0 %\n",
      "\n",
      "Neural Net\n"
     ]
    },
    {
     "name": "stderr",
     "output_type": "stream",
     "text": [
      "/home/jorgher/.virtualenvs/cv/lib/python3.5/site-packages/sklearn/neural_network/multilayer_perceptron.py:564: ConvergenceWarning: Stochastic Optimizer: Maximum iterations (200) reached and the optimization hasn't converged yet.\n",
      "  % self.max_iter, ConvergenceWarning)\n",
      "/home/jorgher/.virtualenvs/cv/lib/python3.5/site-packages/sklearn/neural_network/multilayer_perceptron.py:564: ConvergenceWarning: Stochastic Optimizer: Maximum iterations (200) reached and the optimization hasn't converged yet.\n",
      "  % self.max_iter, ConvergenceWarning)\n",
      "/home/jorgher/.virtualenvs/cv/lib/python3.5/site-packages/sklearn/neural_network/multilayer_perceptron.py:564: ConvergenceWarning: Stochastic Optimizer: Maximum iterations (200) reached and the optimization hasn't converged yet.\n",
      "  % self.max_iter, ConvergenceWarning)\n",
      "/home/jorgher/.virtualenvs/cv/lib/python3.5/site-packages/sklearn/neural_network/multilayer_perceptron.py:564: ConvergenceWarning: Stochastic Optimizer: Maximum iterations (200) reached and the optimization hasn't converged yet.\n",
      "  % self.max_iter, ConvergenceWarning)\n",
      "/home/jorgher/.virtualenvs/cv/lib/python3.5/site-packages/sklearn/neural_network/multilayer_perceptron.py:564: ConvergenceWarning: Stochastic Optimizer: Maximum iterations (200) reached and the optimization hasn't converged yet.\n",
      "  % self.max_iter, ConvergenceWarning)\n",
      "/home/jorgher/.virtualenvs/cv/lib/python3.5/site-packages/sklearn/neural_network/multilayer_perceptron.py:564: ConvergenceWarning: Stochastic Optimizer: Maximum iterations (200) reached and the optimization hasn't converged yet.\n",
      "  % self.max_iter, ConvergenceWarning)\n",
      "/home/jorgher/.virtualenvs/cv/lib/python3.5/site-packages/sklearn/neural_network/multilayer_perceptron.py:564: ConvergenceWarning: Stochastic Optimizer: Maximum iterations (200) reached and the optimization hasn't converged yet.\n",
      "  % self.max_iter, ConvergenceWarning)\n",
      "/home/jorgher/.virtualenvs/cv/lib/python3.5/site-packages/sklearn/neural_network/multilayer_perceptron.py:564: ConvergenceWarning: Stochastic Optimizer: Maximum iterations (200) reached and the optimization hasn't converged yet.\n",
      "  % self.max_iter, ConvergenceWarning)\n",
      "/home/jorgher/.virtualenvs/cv/lib/python3.5/site-packages/sklearn/neural_network/multilayer_perceptron.py:564: ConvergenceWarning: Stochastic Optimizer: Maximum iterations (200) reached and the optimization hasn't converged yet.\n",
      "  % self.max_iter, ConvergenceWarning)\n",
      "/home/jorgher/.virtualenvs/cv/lib/python3.5/site-packages/sklearn/neural_network/multilayer_perceptron.py:564: ConvergenceWarning: Stochastic Optimizer: Maximum iterations (200) reached and the optimization hasn't converged yet.\n",
      "  % self.max_iter, ConvergenceWarning)\n"
     ]
    },
    {
     "name": "stdout",
     "output_type": "stream",
     "text": [
      "[ 0.75        0.63461538  0.66346154  0.58653846  0.61538462  0.67307692\n",
      "  0.70192308  0.72115385  0.66346154  0.67307692]\n",
      "Accuracy: 0.67 (+/- 0.09)\n",
      "Porcentaje exito 90.0 %\n",
      "\n",
      "AdaBoost\n",
      "[ 0.41346154  0.59615385  0.55769231  0.53846154  0.48076923  0.56730769\n",
      "  0.55769231  0.55769231  0.5         0.39423077]\n",
      "Accuracy: 0.52 (+/- 0.13)\n",
      "Porcentaje exito 80.0 %\n",
      "\n",
      "Nearest Neighbors\n",
      "[ 0.60576923  0.53846154  0.53846154  0.64423077  0.55769231  0.59615385\n",
      "  0.59615385  0.69230769  0.66346154  0.63461538]\n",
      "Accuracy: 0.61 (+/- 0.10)\n",
      "Porcentaje exito 50.0 %\n",
      "\n",
      "Linear SVM\n",
      "[ 0.67307692  0.66346154  0.65384615  0.625       0.61538462  0.65384615\n",
      "  0.70192308  0.68269231  0.625       0.64423077]\n",
      "Accuracy: 0.65 (+/- 0.05)\n",
      "Porcentaje exito 60.0 %\n",
      "\n",
      "RBF SVM\n",
      "[ 0.21153846  0.16346154  0.20192308  0.26923077  0.25        0.20192308\n",
      "  0.25        0.18269231  0.18269231  0.19230769]\n",
      "Accuracy: 0.21 (+/- 0.07)\n",
      "Porcentaje exito 40.0 %\n"
     ]
    }
   ],
   "source": [
    "for name, clf in zip(names, classifiers_A):\n",
    "    print()\n",
    "    print(name)\n",
    "    clf.fit(X_train_transformed, y_train)\n",
    "    cv = ShuffleSplit(n_splits=10, test_size=0.3, random_state=0)\n",
    "    scores = cross_val_score(clf, X_test_transformed, y_test, cv=cv)\n",
    "    print(scores)\n",
    "    print(\"Accuracy: %0.2f (+/- %0.2f)\" % (scores.mean(), scores.std() * 2))\n",
    "    Y_pred = clf.predict(X_test_transformed)\n",
    "    exito = (list(y_test[:10]-Y_pred[:10]).count(0)/10)\n",
    "    print(\"Porcentaje exito {} %\".format(exito*100) )"
   ]
  },
  {
   "cell_type": "code",
   "execution_count": 101,
   "metadata": {},
   "outputs": [
    {
     "name": "stdout",
     "output_type": "stream",
     "text": [
      "  col1     col2     col3  \n",
      "   1        2        3    \n"
     ]
    }
   ],
   "source": [
    "# create some column headers\n",
    "col_headers = [\"col{}\".format(i) for i in range(1, 4)]\n",
    "aligned_row = [\"{:^8}\".format(i) for i in range(1, 4)]\n",
    "\n",
    "# print the column headers first\n",
    "print(\"{:^8} {:^8} {:^8}\".format(*col_headers))\n",
    "print(\"{:^8} {:^8} {:^8}\".format(*aligned_row))"
   ]
  },
  {
   "cell_type": "code",
   "execution_count": null,
   "metadata": {
    "collapsed": true
   },
   "outputs": [],
   "source": []
  }
 ],
 "metadata": {
  "kernelspec": {
   "display_name": "Python 3",
   "language": "python",
   "name": "python3"
  },
  "language_info": {
   "codemirror_mode": {
    "name": "ipython",
    "version": 3
   },
   "file_extension": ".py",
   "mimetype": "text/x-python",
   "name": "python",
   "nbconvert_exporter": "python",
   "pygments_lexer": "ipython3",
   "version": "3.5.2"
  }
 },
 "nbformat": 4,
 "nbformat_minor": 2
}
