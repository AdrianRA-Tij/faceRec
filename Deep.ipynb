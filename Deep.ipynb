{
 "cells": [
  {
   "cell_type": "code",
   "execution_count": 1,
   "metadata": {
    "collapsed": true
   },
   "outputs": [],
   "source": [
    "import glob\n",
    "import os\n",
    "import numpy as np\n",
    "import pandas as pd\n",
    "from sklearn import tree\n",
    "from sklearn.tree import DecisionTreeClassifier, export_graphviz"
   ]
  },
  {
   "cell_type": "code",
   "execution_count": 18,
   "metadata": {},
   "outputs": [
    {
     "name": "stdout",
     "output_type": "stream",
     "text": [
      "1.0\n"
     ]
    }
   ],
   "source": [
    "path = \"/home/jorgher/Documents/faceRec/CFEE/\"\n",
    "files = sorted(glob.glob(path+'*.csv'))\n",
    "files = files[:7]\n",
    "emotions = [\"neutral\",'happy','sad','fearful','angry','surprised','disgusted']\n",
    "dbs = []\n",
    "for i,f in enumerate(files):\n",
    "    db = pd.read_csv(f)\n",
    "    db = db[['D1','D2','D3','D4','D5','D6','D7','A0','A1','A2','A3','A4','A5']]\n",
    "    db['Emotions'] = emotions[i]\n",
    "    dbs.append(db)\n",
    "    \n",
    "db_Train = (pd.concat(dbs[i][:130] for i in range(len(files))))\n",
    "db_Test = (pd.concat(dbs[i][130:230] for i in range(len(files))))\n",
    "db = (pd.concat(dbs[i][:] for i in range(len(files))))\n",
    "X = db_Train[['D1','D2','D3','D4','D5','D6','D7','A0','A1','A2','A3','A4','A5']]\n",
    "Y = db_Train['Emotions']\n",
    "#X_Norm =(X-X.mean())/X.std()\n",
    "#X_Cov = np.cov(X_Norm)\n",
    "clf = tree.DecisionTreeClassifier()\n",
    "clf = clf.fit(X, Y)\n",
    "score = clf.score(X,Y)\n",
    "print(score)"
   ]
  },
  {
   "cell_type": "code",
   "execution_count": 19,
   "metadata": {
    "collapsed": true
   },
   "outputs": [],
   "source": [
    "# Randomly sample 70% of your dataframe\n",
    "db_0_7 = db_Test.sample(frac=0.7)\n",
    "# Randomly sample 7 elements from your dataframe\n",
    "db_7 = db_Test.sample(n=7)\n",
    "#For either approach above, you can get the rest of the rows by doing:\n",
    "db_rest = db.loc[~db.index.isin(db_0_7.index)]"
   ]
  },
  {
   "cell_type": "code",
   "execution_count": 20,
   "metadata": {},
   "outputs": [
    {
     "data": {
      "text/html": [
       "<div>\n",
       "<style>\n",
       "    .dataframe thead tr:only-child th {\n",
       "        text-align: right;\n",
       "    }\n",
       "\n",
       "    .dataframe thead th {\n",
       "        text-align: left;\n",
       "    }\n",
       "\n",
       "    .dataframe tbody tr th {\n",
       "        vertical-align: top;\n",
       "    }\n",
       "</style>\n",
       "<table border=\"1\" class=\"dataframe\">\n",
       "  <thead>\n",
       "    <tr style=\"text-align: right;\">\n",
       "      <th></th>\n",
       "      <th>D1</th>\n",
       "      <th>D2</th>\n",
       "      <th>D3</th>\n",
       "      <th>D4</th>\n",
       "      <th>D5</th>\n",
       "      <th>D6</th>\n",
       "      <th>D7</th>\n",
       "      <th>A0</th>\n",
       "      <th>A1</th>\n",
       "      <th>A2</th>\n",
       "      <th>A3</th>\n",
       "      <th>A4</th>\n",
       "      <th>A5</th>\n",
       "      <th>Emotions</th>\n",
       "    </tr>\n",
       "  </thead>\n",
       "  <tbody>\n",
       "    <tr>\n",
       "      <th>135</th>\n",
       "      <td>16.278821</td>\n",
       "      <td>31.780497</td>\n",
       "      <td>34.481879</td>\n",
       "      <td>7.071068</td>\n",
       "      <td>6.082763</td>\n",
       "      <td>27.294688</td>\n",
       "      <td>57.428216</td>\n",
       "      <td>1.206290</td>\n",
       "      <td>0.348865</td>\n",
       "      <td>0.900236</td>\n",
       "      <td>0.234416</td>\n",
       "      <td>0.902678</td>\n",
       "      <td>1.206290</td>\n",
       "      <td>surprised</td>\n",
       "    </tr>\n",
       "    <tr>\n",
       "      <th>186</th>\n",
       "      <td>23.086793</td>\n",
       "      <td>23.194827</td>\n",
       "      <td>24.166092</td>\n",
       "      <td>10.049876</td>\n",
       "      <td>10.000000</td>\n",
       "      <td>25.000000</td>\n",
       "      <td>47.042534</td>\n",
       "      <td>1.302935</td>\n",
       "      <td>0.334156</td>\n",
       "      <td>1.075892</td>\n",
       "      <td>0.360940</td>\n",
       "      <td>0.927295</td>\n",
       "      <td>1.302935</td>\n",
       "      <td>sad</td>\n",
       "    </tr>\n",
       "    <tr>\n",
       "      <th>178</th>\n",
       "      <td>31.256999</td>\n",
       "      <td>16.124515</td>\n",
       "      <td>23.853721</td>\n",
       "      <td>7.000000</td>\n",
       "      <td>8.062258</td>\n",
       "      <td>26.019224</td>\n",
       "      <td>81.024688</td>\n",
       "      <td>0.786464</td>\n",
       "      <td>0.280015</td>\n",
       "      <td>1.327977</td>\n",
       "      <td>0.462090</td>\n",
       "      <td>0.565149</td>\n",
       "      <td>0.786464</td>\n",
       "      <td>happy</td>\n",
       "    </tr>\n",
       "    <tr>\n",
       "      <th>188</th>\n",
       "      <td>30.000000</td>\n",
       "      <td>30.265492</td>\n",
       "      <td>29.154759</td>\n",
       "      <td>9.000000</td>\n",
       "      <td>9.000000</td>\n",
       "      <td>30.149627</td>\n",
       "      <td>71.253070</td>\n",
       "      <td>1.238293</td>\n",
       "      <td>0.265548</td>\n",
       "      <td>1.015677</td>\n",
       "      <td>0.363653</td>\n",
       "      <td>0.798756</td>\n",
       "      <td>1.238293</td>\n",
       "      <td>neutral</td>\n",
       "    </tr>\n",
       "    <tr>\n",
       "      <th>173</th>\n",
       "      <td>28.071338</td>\n",
       "      <td>25.000000</td>\n",
       "      <td>31.384710</td>\n",
       "      <td>13.038405</td>\n",
       "      <td>13.152946</td>\n",
       "      <td>43.011626</td>\n",
       "      <td>55.009090</td>\n",
       "      <td>1.702593</td>\n",
       "      <td>0.209856</td>\n",
       "      <td>0.973620</td>\n",
       "      <td>0.360146</td>\n",
       "      <td>1.281293</td>\n",
       "      <td>1.702593</td>\n",
       "      <td>surprised</td>\n",
       "    </tr>\n",
       "    <tr>\n",
       "      <th>178</th>\n",
       "      <td>29.000000</td>\n",
       "      <td>16.124515</td>\n",
       "      <td>21.095023</td>\n",
       "      <td>9.055385</td>\n",
       "      <td>8.000000</td>\n",
       "      <td>17.029386</td>\n",
       "      <td>59.033889</td>\n",
       "      <td>0.942785</td>\n",
       "      <td>0.277694</td>\n",
       "      <td>1.327977</td>\n",
       "      <td>0.408023</td>\n",
       "      <td>0.561291</td>\n",
       "      <td>0.942785</td>\n",
       "      <td>disgusted</td>\n",
       "    </tr>\n",
       "    <tr>\n",
       "      <th>141</th>\n",
       "      <td>29.154759</td>\n",
       "      <td>26.172505</td>\n",
       "      <td>30.870698</td>\n",
       "      <td>14.000000</td>\n",
       "      <td>14.035669</td>\n",
       "      <td>33.060551</td>\n",
       "      <td>58.034473</td>\n",
       "      <td>1.499993</td>\n",
       "      <td>0.272957</td>\n",
       "      <td>1.081622</td>\n",
       "      <td>0.340728</td>\n",
       "      <td>1.128422</td>\n",
       "      <td>1.499993</td>\n",
       "      <td>surprised</td>\n",
       "    </tr>\n",
       "  </tbody>\n",
       "</table>\n",
       "</div>"
      ],
      "text/plain": [
       "            D1         D2         D3         D4         D5         D6  \\\n",
       "135  16.278821  31.780497  34.481879   7.071068   6.082763  27.294688   \n",
       "186  23.086793  23.194827  24.166092  10.049876  10.000000  25.000000   \n",
       "178  31.256999  16.124515  23.853721   7.000000   8.062258  26.019224   \n",
       "188  30.000000  30.265492  29.154759   9.000000   9.000000  30.149627   \n",
       "173  28.071338  25.000000  31.384710  13.038405  13.152946  43.011626   \n",
       "178  29.000000  16.124515  21.095023   9.055385   8.000000  17.029386   \n",
       "141  29.154759  26.172505  30.870698  14.000000  14.035669  33.060551   \n",
       "\n",
       "            D7        A0        A1        A2        A3        A4        A5  \\\n",
       "135  57.428216  1.206290  0.348865  0.900236  0.234416  0.902678  1.206290   \n",
       "186  47.042534  1.302935  0.334156  1.075892  0.360940  0.927295  1.302935   \n",
       "178  81.024688  0.786464  0.280015  1.327977  0.462090  0.565149  0.786464   \n",
       "188  71.253070  1.238293  0.265548  1.015677  0.363653  0.798756  1.238293   \n",
       "173  55.009090  1.702593  0.209856  0.973620  0.360146  1.281293  1.702593   \n",
       "178  59.033889  0.942785  0.277694  1.327977  0.408023  0.561291  0.942785   \n",
       "141  58.034473  1.499993  0.272957  1.081622  0.340728  1.128422  1.499993   \n",
       "\n",
       "      Emotions  \n",
       "135  surprised  \n",
       "186        sad  \n",
       "178      happy  \n",
       "188    neutral  \n",
       "173  surprised  \n",
       "178  disgusted  \n",
       "141  surprised  "
      ]
     },
     "execution_count": 20,
     "metadata": {},
     "output_type": "execute_result"
    }
   ],
   "source": [
    "db_7"
   ]
  },
  {
   "cell_type": "code",
   "execution_count": 21,
   "metadata": {},
   "outputs": [
    {
     "name": "stdout",
     "output_type": "stream",
     "text": [
      "['fearful']\n",
      "['neutral']\n",
      "['happy']\n",
      "['fearful']\n",
      "['surprised']\n",
      "['neutral']\n",
      "['surprised']\n"
     ]
    }
   ],
   "source": [
    "test = db_7[['D1','D2','D3','D4','D5','D6','D7','A0','A1','A2','A3','A4','A5']]\n",
    "for i in range(len(test)):\n",
    "    #print(test.iloc[[i]])\n",
    "    print(clf.predict(test.iloc[[i]]))\n",
    "    #print(clf.predict_proba(test.iloc[[i]]))\n",
    "    \n",
    "   "
   ]
  },
  {
   "cell_type": "markdown",
   "metadata": {},
   "source": [
    "## Generando el arbol"
   ]
  },
  {
   "cell_type": "code",
   "execution_count": 22,
   "metadata": {
    "collapsed": true
   },
   "outputs": [],
   "source": [
    "def encode_target(df, target_column):\n",
    "    \"\"\"Add column to df with integers for the target.\n",
    "\n",
    "    Args\n",
    "    ----\n",
    "    df -- pandas DataFrame.\n",
    "    target_column -- column to map to int, producing\n",
    "                     new Target column.\n",
    "\n",
    "    Returns\n",
    "    -------\n",
    "    df_mod -- modified DataFrame.\n",
    "    targets -- list of target names.\n",
    "    \"\"\"\n",
    "    df_mod = df.copy()\n",
    "    targets = df_mod[target_column].unique()\n",
    "    map_to_int = {name: n for n, name in enumerate(targets)}\n",
    "    df_mod[\"Target\"] = df_mod[target_column].replace(map_to_int)\n",
    "\n",
    "    return (df_mod, targets)\n",
    "    "
   ]
  },
  {
   "cell_type": "code",
   "execution_count": 23,
   "metadata": {},
   "outputs": [
    {
     "name": "stdout",
     "output_type": "stream",
     "text": [
      "* df2.head()\n",
      "   Target Emotions\n",
      "0       0  neutral\n",
      "1       0  neutral\n",
      "2       0  neutral\n",
      "3       0  neutral\n",
      "4       0  neutral\n",
      "\n",
      "* df2.tail()\n",
      "     Target   Emotions\n",
      "225       6  disgusted\n",
      "226       6  disgusted\n",
      "227       6  disgusted\n",
      "228       6  disgusted\n",
      "229       6  disgusted\n",
      "\n",
      "* targets\n",
      "['neutral' 'happy' 'sad' 'fearful' 'angry' 'surprised' 'disgusted']\n",
      "\n"
     ]
    }
   ],
   "source": [
    "df2, targets = encode_target(db, \"Emotions\")\n",
    "print(\"* df2.head()\", df2[[\"Target\", \"Emotions\"]].head(),\n",
    "      sep=\"\\n\", end=\"\\n\\n\")\n",
    "print(\"* df2.tail()\", df2[[\"Target\", \"Emotions\"]].tail(),\n",
    "      sep=\"\\n\", end=\"\\n\\n\")\n",
    "print(\"* targets\", targets, sep=\"\\n\", end=\"\\n\\n\")\n"
   ]
  },
  {
   "cell_type": "code",
   "execution_count": 24,
   "metadata": {},
   "outputs": [
    {
     "name": "stdout",
     "output_type": "stream",
     "text": [
      "* features:\n",
      "['D1', 'D2', 'D3', 'D4', 'D5', 'D6', 'D7', 'A0', 'A1', 'A2', 'A3', 'A4', 'A5']\n"
     ]
    }
   ],
   "source": [
    "features = list(df2.columns[:13])\n",
    "print(\"* features:\", features, sep=\"\\n\")\n",
    "Etype={'neutral': 0, 'happy': 1,\n",
    "        'sad': 2,'fearful': 3,'angry': 4,\n",
    "        'surprised': 5,'disgusted': 6}\n",
    "ERtype={0:'neutral', 1: 'happy',\n",
    "        2: 'sad',3: 'fearful',4:'angry',\n",
    "        5: 'surprised',6: 'disgusted'}"
   ]
  },
  {
   "cell_type": "code",
   "execution_count": 25,
   "metadata": {},
   "outputs": [
    {
     "name": "stdout",
     "output_type": "stream",
     "text": [
      "neutral\n"
     ]
    }
   ],
   "source": [
    "e = ERtype[0]\n",
    "print(e)"
   ]
  },
  {
   "cell_type": "code",
   "execution_count": 26,
   "metadata": {},
   "outputs": [
    {
     "name": "stdout",
     "output_type": "stream",
     "text": [
      "135    surprised\n",
      "186          sad\n",
      "178        happy\n",
      "188      neutral\n",
      "173    surprised\n",
      "178    disgusted\n",
      "141    surprised\n",
      "Name: Emotions, dtype: object\n",
      "[3]\n",
      "[2]\n",
      "[1]\n",
      "[5]\n",
      "[5]\n",
      "[0]\n",
      "[5]\n"
     ]
    }
   ],
   "source": [
    "y = df2[\"Target\"]\n",
    "X = df2[features]\n",
    "dt = DecisionTreeClassifier(min_samples_split=20, random_state=99)\n",
    "dt.fit(X, y)\n",
    "print(db_7['Emotions'])\n",
    "test = db_7[['D1','D2','D3','D4','D5','D6','D7','A0','A1','A2','A3','A4','A5']]\n",
    "for i in range(len(test)):\n",
    "    #print(test.iloc[[i]])\n",
    "    print(dt.predict(test.iloc[[i]]))\n",
    "    #print(clf.predict_proba(test.iloc[[i]]))"
   ]
  },
  {
   "cell_type": "code",
   "execution_count": 27,
   "metadata": {
    "collapsed": true
   },
   "outputs": [],
   "source": [
    "def visualize_tree(tree, feature_names):\n",
    "    \"\"\"Create tree png using graphviz.\n",
    "\n",
    "    Args\n",
    "    ----\n",
    "    tree -- scikit-learn DecsisionTree.\n",
    "    feature_names -- list of feature names.\n",
    "    \"\"\"\n",
    "    with open(\"dt.dotA\", 'w') as f:\n",
    "        export_graphviz(tree, out_file=f,\n",
    "                        feature_names=feature_names)\n",
    "\n",
    "    command = [\"dot\", \"-Tpng\", \"dt.dot\", \"-o\", \"dt.png\"]\n",
    "    try:\n",
    "        subprocess.check_call(command)\n",
    "    except:\n",
    "        exit(\"Could not run dot, ie graphviz, to \"\n",
    "             \"produce visualization\")"
   ]
  },
  {
   "cell_type": "code",
   "execution_count": 28,
   "metadata": {
    "collapsed": true
   },
   "outputs": [],
   "source": [
    "visualize_tree(dt, features)\n",
    "# Aparentemente la grafica no se ve en jupiter pero genera los archivos .dot"
   ]
  },
  {
   "cell_type": "markdown",
   "metadata": {},
   "source": [
    "## Probando con diferentes clasificadores y verificando su score"
   ]
  },
  {
   "cell_type": "code",
   "execution_count": 29,
   "metadata": {
    "collapsed": true
   },
   "outputs": [],
   "source": [
    "import numpy as np\n",
    "import matplotlib.pyplot as plt\n",
    "from matplotlib.colors import ListedColormap\n",
    "from sklearn.model_selection import train_test_split\n",
    "from sklearn.preprocessing import StandardScaler\n",
    "from sklearn.datasets import make_moons, make_circles, make_classification\n",
    "from sklearn.neural_network import MLPClassifier\n",
    "from sklearn.neighbors import KNeighborsClassifier\n",
    "from sklearn.svm import SVC\n",
    "from sklearn.gaussian_process import GaussianProcessClassifier\n",
    "from sklearn.gaussian_process.kernels import RBF\n",
    "from sklearn.tree import DecisionTreeClassifier\n",
    "from sklearn.ensemble import RandomForestClassifier, AdaBoostClassifier\n",
    "from sklearn.naive_bayes import GaussianNB\n",
    "from sklearn.discriminant_analysis import QuadraticDiscriminantAnalysis\n",
    "\n",
    "names =  [\"Nearest Neighbors\", \"Linear SVM\", \"RBF SVM\", \"Gaussian Process\"]\n",
    "names1 = [\"Decision Tree\", \"Random Forest\", \"Neural Net\", \"AdaBoost\"]\n",
    "names2 = [\"Naive Bayes\", \"QDA\"]\n",
    "\n",
    "classifiers = [\n",
    "    KNeighborsClassifier(3),\n",
    "    SVC(kernel=\"linear\", C=0.025),\n",
    "    SVC(gamma=2, C=1),\n",
    "    GaussianProcessClassifier(1.0 * RBF(1.0))]\n",
    "classifiers1 = [DecisionTreeClassifier(max_depth=5),\n",
    "    RandomForestClassifier(max_depth=5, n_estimators=10, max_features=5),\n",
    "    MLPClassifier(alpha=1),\n",
    "    AdaBoostClassifier()]\n",
    "classifiers2 = [GaussianNB(),\n",
    "    QuadraticDiscriminantAnalysis()]"
   ]
  },
  {
   "cell_type": "code",
   "execution_count": 32,
   "metadata": {},
   "outputs": [
    {
     "name": "stdout",
     "output_type": "stream",
     "text": [
      "135    surprised\n",
      "186          sad\n",
      "178        happy\n",
      "188      neutral\n",
      "173    surprised\n",
      "178    disgusted\n",
      "141    surprised\n",
      "Name: Emotions, dtype: object\n",
      "Naive Bayes\n",
      "0.624223602484\n",
      "Comparar: happy con: happy.\n",
      "Comparar: surprised con: surprised.\n",
      "Comparar: disgusted con: disgusted.\n",
      "Comparar: surprised con: surprised.\n",
      "Porcentaje de acierto 57.14285714285714\n",
      "QDA\n",
      "0.726086956522\n",
      "Comparar: happy con: happy.\n",
      "Comparar: surprised con: surprised.\n",
      "Comparar: surprised con: surprised.\n",
      "Porcentaje de acierto 42.857142857142854\n"
     ]
    }
   ],
   "source": [
    "emoT = list(db_7['Emotions'])\n",
    "for name, clf in zip(names2, classifiers2):\n",
    "        print(name)\n",
    "        clf.fit(X, y)\n",
    "        score = clf.score(X, y)\n",
    "        print(score)\n",
    "        con = 0\n",
    "        for i in range(len(test)):\n",
    "            e = clf.predict(test.iloc[[i]])\n",
    "            if ERtype[e[0]] == emoT[i]:\n",
    "                print('Comparar: {} con: {}.'.format(ERtype[e[0]],emoT[i]))\n",
    "                con = con + 1\n",
    "                      \n",
    "                      \n",
    "        print('Porcentaje de acierto', con/len(test)*100)"
   ]
  },
  {
   "cell_type": "code",
   "execution_count": 33,
   "metadata": {},
   "outputs": [
    {
     "name": "stdout",
     "output_type": "stream",
     "text": [
      "Decision Tree\n",
      "0.601242236025\n",
      "Comparar: happy con happy:\n",
      "Comparar: surprised con surprised:\n",
      "Comparar: surprised con surprised:\n",
      "Porcentaje de acierto 42.857142857142854\n",
      "Random Forest\n",
      "0.655900621118\n",
      "Comparar: happy con happy:\n",
      "Comparar: neutral con neutral:\n",
      "Comparar: surprised con surprised:\n",
      "Comparar: surprised con surprised:\n",
      "Porcentaje de acierto 57.14285714285714\n",
      "Neural Net\n",
      "0.593167701863\n",
      "Comparar: happy con happy:\n",
      "Comparar: surprised con surprised:\n",
      "Comparar: surprised con surprised:\n",
      "Porcentaje de acierto 42.857142857142854\n",
      "AdaBoost\n",
      "0.567080745342\n",
      "Comparar: happy con happy:\n",
      "Comparar: surprised con surprised:\n",
      "Comparar: surprised con surprised:\n",
      "Porcentaje de acierto 42.857142857142854\n"
     ]
    }
   ],
   "source": [
    "for name, clf in zip(names1, classifiers1):\n",
    "        print(name)\n",
    "        clf.fit(X, y)\n",
    "        score = clf.score(X, y)\n",
    "        print(score)\n",
    "        con = 0\n",
    "        for i in range(len(test)):\n",
    "            e = clf.predict(test.iloc[[i]])\n",
    "            if ERtype[e[0]] == emoT[i]:\n",
    "                print('Comparar: {} con {}:'.format(ERtype[e[0]],emoT[i]))\n",
    "                con = con + 1\n",
    "                      \n",
    "        print('Porcentaje de acierto', con/len(test)*100)"
   ]
  },
  {
   "cell_type": "code",
   "execution_count": 34,
   "metadata": {},
   "outputs": [
    {
     "name": "stdout",
     "output_type": "stream",
     "text": [
      "Nearest Neighbors\n",
      "0.733540372671\n",
      "Comparar: sad con sad:\n",
      "Comparar: happy con happy:\n",
      "Comparar: neutral con neutral:\n",
      "Comparar: surprised con surprised:\n",
      "Comparar: disgusted con disgusted:\n",
      "Comparar: surprised con surprised:\n",
      "Porcentaje de acierto 85.71428571428571\n",
      "Linear SVM\n",
      "0.632919254658\n",
      "Comparar: happy con happy:\n",
      "Comparar: surprised con surprised:\n",
      "Comparar: surprised con surprised:\n",
      "Porcentaje de acierto 42.857142857142854\n",
      "RBF SVM\n",
      "1.0\n",
      "Comparar: surprised con surprised:\n",
      "Comparar: sad con sad:\n",
      "Comparar: happy con happy:\n",
      "Comparar: neutral con neutral:\n",
      "Comparar: surprised con surprised:\n",
      "Comparar: disgusted con disgusted:\n",
      "Comparar: surprised con surprised:\n",
      "Porcentaje de acierto 100.0\n",
      "Gaussian Process\n",
      "0.69751552795\n",
      "Comparar: happy con happy:\n",
      "Comparar: neutral con neutral:\n",
      "Comparar: surprised con surprised:\n",
      "Comparar: surprised con surprised:\n",
      "Porcentaje de acierto 57.14285714285714\n"
     ]
    }
   ],
   "source": [
    "emoT = list(db_7['Emotions'])\n",
    "for name, clf in zip(names, classifiers):\n",
    "        print(name)\n",
    "        clf.fit(X, y)\n",
    "        score = clf.score(X, y)\n",
    "        print(score)\n",
    "        con = 0\n",
    "        for i in range(len(test)):\n",
    "            e = clf.predict(test.iloc[[i]])\n",
    "            if ERtype[e[0]] == emoT[i]:\n",
    "                print('Comparar: {} con {}:'.format(ERtype[e[0]],emoT[i]))\n",
    "                con = con + 1\n",
    "                \n",
    "        print('Porcentaje de acierto', con/len(test)*100)"
   ]
  },
  {
   "cell_type": "markdown",
   "metadata": {
    "collapsed": true
   },
   "source": [
    "No se está calculando el Gaussian Process?"
   ]
  },
  {
   "cell_type": "code",
   "execution_count": null,
   "metadata": {},
   "outputs": [],
   "source": [
    "print(db_7['Emotions'])"
   ]
  },
  {
   "cell_type": "code",
   "execution_count": null,
   "metadata": {
    "collapsed": true
   },
   "outputs": [],
   "source": []
  }
 ],
 "metadata": {
  "kernelspec": {
   "display_name": "Python 3",
   "language": "python",
   "name": "python3"
  },
  "language_info": {
   "codemirror_mode": {
    "name": "ipython",
    "version": 3
   },
   "file_extension": ".py",
   "mimetype": "text/x-python",
   "name": "python",
   "nbconvert_exporter": "python",
   "pygments_lexer": "ipython3",
   "version": "3.5.2"
  }
 },
 "nbformat": 4,
 "nbformat_minor": 2
}
