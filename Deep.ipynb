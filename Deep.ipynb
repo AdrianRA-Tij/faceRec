{
 "cells": [
  {
   "cell_type": "code",
   "execution_count": 1,
   "metadata": {
    "collapsed": true
   },
   "outputs": [],
   "source": [
    "import glob\n",
    "import os\n",
    "import numpy as np\n",
    "import pandas as pd\n",
    "from sklearn import tree\n",
    "from sklearn.tree import DecisionTreeClassifier, export_graphviz"
   ]
  },
  {
   "cell_type": "code",
   "execution_count": 2,
   "metadata": {},
   "outputs": [
    {
     "name": "stdout",
     "output_type": "stream",
     "text": [
      "1.0\n"
     ]
    }
   ],
   "source": [
    "path = \"/home/jorgher/Documents/faceRec/CFEE/\"\n",
    "files = sorted(glob.glob(path+'*.csv'))\n",
    "files = files[:7]\n",
    "emotions = [\"neutral\",'happy','sad','fearful','angry','surprised','disgusted']\n",
    "dbs = []\n",
    "for i,f in enumerate(files):\n",
    "    db = pd.read_csv(f)\n",
    "    db = db[['D1','D2','D3','D4','D5','D6','D7','A0','A1','A2','A3','A4','A5']]\n",
    "    db['Emotions'] = emotions[i]\n",
    "    dbs.append(db)\n",
    "    \n",
    "db_Train = (pd.concat(dbs[i][:130] for i in range(len(files))))\n",
    "db_Test = (pd.concat(dbs[i][130:230] for i in range(len(files))))\n",
    "db = (pd.concat(dbs[i][:] for i in range(len(files))))\n",
    "X = db_Train[['D1','D2','D3','D4','D5','D6','D7','A0','A1','A2','A3','A4','A5']]\n",
    "Y = db_Train['Emotions']\n",
    "#X_Norm =(X-X.mean())/X.std()\n",
    "#X_Cov = np.cov(X_Norm)\n",
    "clf = tree.DecisionTreeClassifier()\n",
    "clf = clf.fit(X, Y)\n",
    "score = clf.score(X,Y)\n",
    "print(score)"
   ]
  },
  {
   "cell_type": "code",
   "execution_count": 3,
   "metadata": {},
   "outputs": [],
   "source": [
    "# Randomly sample 70% of your dataframe\n",
    "db_0_7 = db_Test.sample(frac=0.7)\n",
    "# Randomly sample 7 elements from your dataframe\n",
    "db_7 = db_Test.sample(n=7)\n",
    "#For either approach above, you can get the rest of the rows by doing:\n",
    "db_rest = db.loc[~db.index.isin(db_0_7.index)]"
   ]
  },
  {
   "cell_type": "code",
   "execution_count": 4,
   "metadata": {},
   "outputs": [
    {
     "data": {
      "text/html": [
       "<div>\n",
       "<style>\n",
       "    .dataframe thead tr:only-child th {\n",
       "        text-align: right;\n",
       "    }\n",
       "\n",
       "    .dataframe thead th {\n",
       "        text-align: left;\n",
       "    }\n",
       "\n",
       "    .dataframe tbody tr th {\n",
       "        vertical-align: top;\n",
       "    }\n",
       "</style>\n",
       "<table border=\"1\" class=\"dataframe\">\n",
       "  <thead>\n",
       "    <tr style=\"text-align: right;\">\n",
       "      <th></th>\n",
       "      <th>D1</th>\n",
       "      <th>D2</th>\n",
       "      <th>D3</th>\n",
       "      <th>D4</th>\n",
       "      <th>D5</th>\n",
       "      <th>D6</th>\n",
       "      <th>D7</th>\n",
       "      <th>A0</th>\n",
       "      <th>A1</th>\n",
       "      <th>A2</th>\n",
       "      <th>A3</th>\n",
       "      <th>A4</th>\n",
       "      <th>A5</th>\n",
       "      <th>Emotions</th>\n",
       "    </tr>\n",
       "  </thead>\n",
       "  <tbody>\n",
       "    <tr>\n",
       "      <th>228</th>\n",
       "      <td>22.022716</td>\n",
       "      <td>25.019992</td>\n",
       "      <td>27.856777</td>\n",
       "      <td>6.000000</td>\n",
       "      <td>7.280110</td>\n",
       "      <td>21.023796</td>\n",
       "      <td>63.031738</td>\n",
       "      <td>1.128952</td>\n",
       "      <td>0.305226</td>\n",
       "      <td>1.169568</td>\n",
       "      <td>0.247447</td>\n",
       "      <td>0.634492</td>\n",
       "      <td>1.139670</td>\n",
       "      <td>disgusted</td>\n",
       "    </tr>\n",
       "    <tr>\n",
       "      <th>219</th>\n",
       "      <td>22.090722</td>\n",
       "      <td>26.019224</td>\n",
       "      <td>27.856777</td>\n",
       "      <td>7.071068</td>\n",
       "      <td>8.062258</td>\n",
       "      <td>19.000000</td>\n",
       "      <td>65.069194</td>\n",
       "      <td>0.826071</td>\n",
       "      <td>0.360164</td>\n",
       "      <td>1.035011</td>\n",
       "      <td>0.270410</td>\n",
       "      <td>0.513799</td>\n",
       "      <td>0.949251</td>\n",
       "      <td>sad</td>\n",
       "    </tr>\n",
       "    <tr>\n",
       "      <th>196</th>\n",
       "      <td>29.068884</td>\n",
       "      <td>25.079872</td>\n",
       "      <td>29.154759</td>\n",
       "      <td>8.062258</td>\n",
       "      <td>8.246211</td>\n",
       "      <td>26.076810</td>\n",
       "      <td>81.221918</td>\n",
       "      <td>0.885398</td>\n",
       "      <td>0.279903</td>\n",
       "      <td>1.095133</td>\n",
       "      <td>0.350306</td>\n",
       "      <td>0.551013</td>\n",
       "      <td>0.900380</td>\n",
       "      <td>happy</td>\n",
       "    </tr>\n",
       "    <tr>\n",
       "      <th>132</th>\n",
       "      <td>11.045361</td>\n",
       "      <td>25.495098</td>\n",
       "      <td>24.351591</td>\n",
       "      <td>8.062258</td>\n",
       "      <td>6.000000</td>\n",
       "      <td>17.117243</td>\n",
       "      <td>56.080300</td>\n",
       "      <td>0.983298</td>\n",
       "      <td>0.381704</td>\n",
       "      <td>1.056733</td>\n",
       "      <td>0.161902</td>\n",
       "      <td>0.594586</td>\n",
       "      <td>0.983298</td>\n",
       "      <td>sad</td>\n",
       "    </tr>\n",
       "    <tr>\n",
       "      <th>225</th>\n",
       "      <td>33.060551</td>\n",
       "      <td>16.763055</td>\n",
       "      <td>20.248457</td>\n",
       "      <td>10.000000</td>\n",
       "      <td>10.198039</td>\n",
       "      <td>28.071338</td>\n",
       "      <td>49.091751</td>\n",
       "      <td>1.496608</td>\n",
       "      <td>0.220044</td>\n",
       "      <td>1.524910</td>\n",
       "      <td>0.528434</td>\n",
       "      <td>1.050200</td>\n",
       "      <td>1.496608</td>\n",
       "      <td>surprised</td>\n",
       "    </tr>\n",
       "    <tr>\n",
       "      <th>135</th>\n",
       "      <td>35.014283</td>\n",
       "      <td>28.000000</td>\n",
       "      <td>31.780497</td>\n",
       "      <td>13.038405</td>\n",
       "      <td>13.038405</td>\n",
       "      <td>27.018512</td>\n",
       "      <td>53.037722</td>\n",
       "      <td>1.379794</td>\n",
       "      <td>0.262076</td>\n",
       "      <td>0.931754</td>\n",
       "      <td>0.399176</td>\n",
       "      <td>1.007594</td>\n",
       "      <td>1.379794</td>\n",
       "      <td>fearful</td>\n",
       "    </tr>\n",
       "    <tr>\n",
       "      <th>195</th>\n",
       "      <td>24.083189</td>\n",
       "      <td>20.000000</td>\n",
       "      <td>22.360680</td>\n",
       "      <td>7.071068</td>\n",
       "      <td>6.082763</td>\n",
       "      <td>22.022716</td>\n",
       "      <td>70.178344</td>\n",
       "      <td>0.919720</td>\n",
       "      <td>0.338075</td>\n",
       "      <td>1.224257</td>\n",
       "      <td>0.312957</td>\n",
       "      <td>0.600615</td>\n",
       "      <td>0.971987</td>\n",
       "      <td>disgusted</td>\n",
       "    </tr>\n",
       "  </tbody>\n",
       "</table>\n",
       "</div>"
      ],
      "text/plain": [
       "            D1         D2         D3         D4         D5         D6  \\\n",
       "228  22.022716  25.019992  27.856777   6.000000   7.280110  21.023796   \n",
       "219  22.090722  26.019224  27.856777   7.071068   8.062258  19.000000   \n",
       "196  29.068884  25.079872  29.154759   8.062258   8.246211  26.076810   \n",
       "132  11.045361  25.495098  24.351591   8.062258   6.000000  17.117243   \n",
       "225  33.060551  16.763055  20.248457  10.000000  10.198039  28.071338   \n",
       "135  35.014283  28.000000  31.780497  13.038405  13.038405  27.018512   \n",
       "195  24.083189  20.000000  22.360680   7.071068   6.082763  22.022716   \n",
       "\n",
       "            D7        A0        A1        A2        A3        A4        A5  \\\n",
       "228  63.031738  1.128952  0.305226  1.169568  0.247447  0.634492  1.139670   \n",
       "219  65.069194  0.826071  0.360164  1.035011  0.270410  0.513799  0.949251   \n",
       "196  81.221918  0.885398  0.279903  1.095133  0.350306  0.551013  0.900380   \n",
       "132  56.080300  0.983298  0.381704  1.056733  0.161902  0.594586  0.983298   \n",
       "225  49.091751  1.496608  0.220044  1.524910  0.528434  1.050200  1.496608   \n",
       "135  53.037722  1.379794  0.262076  0.931754  0.399176  1.007594  1.379794   \n",
       "195  70.178344  0.919720  0.338075  1.224257  0.312957  0.600615  0.971987   \n",
       "\n",
       "      Emotions  \n",
       "228  disgusted  \n",
       "219        sad  \n",
       "196      happy  \n",
       "132        sad  \n",
       "225  surprised  \n",
       "135    fearful  \n",
       "195  disgusted  "
      ]
     },
     "execution_count": 4,
     "metadata": {},
     "output_type": "execute_result"
    }
   ],
   "source": [
    "db_7"
   ]
  },
  {
   "cell_type": "code",
   "execution_count": 5,
   "metadata": {},
   "outputs": [
    {
     "name": "stdout",
     "output_type": "stream",
     "text": [
      "['angry']\n",
      "['sad']\n",
      "['happy']\n",
      "['disgusted']\n",
      "['fearful']\n",
      "['fearful']\n",
      "['disgusted']\n"
     ]
    }
   ],
   "source": [
    "test = db_7[['D1','D2','D3','D4','D5','D6','D7','A0','A1','A2','A3','A4','A5']]\n",
    "for i in range(len(test)):\n",
    "    #print(test.iloc[[i]])\n",
    "    print(clf.predict(test.iloc[[i]]))\n",
    "    #print(clf.predict_proba(test.iloc[[i]]))\n",
    "    \n",
    "   "
   ]
  },
  {
   "cell_type": "markdown",
   "metadata": {},
   "source": [
    "## Generando el arbol"
   ]
  },
  {
   "cell_type": "code",
   "execution_count": 6,
   "metadata": {
    "collapsed": true
   },
   "outputs": [],
   "source": [
    "def encode_target(df, target_column):\n",
    "    \"\"\"Add column to df with integers for the target.\n",
    "\n",
    "    Args\n",
    "    ----\n",
    "    df -- pandas DataFrame.\n",
    "    target_column -- column to map to int, producing\n",
    "                     new Target column.\n",
    "\n",
    "    Returns\n",
    "    -------\n",
    "    df_mod -- modified DataFrame.\n",
    "    targets -- list of target names.\n",
    "    \"\"\"\n",
    "    df_mod = df.copy()\n",
    "    targets = df_mod[target_column].unique()\n",
    "    map_to_int = {name: n for n, name in enumerate(targets)}\n",
    "    df_mod[\"Target\"] = df_mod[target_column].replace(map_to_int)\n",
    "\n",
    "    return (df_mod, targets)\n",
    "    "
   ]
  },
  {
   "cell_type": "code",
   "execution_count": 7,
   "metadata": {},
   "outputs": [
    {
     "name": "stdout",
     "output_type": "stream",
     "text": [
      "* df2.head()\n",
      "   Target Emotions\n",
      "0       0  neutral\n",
      "1       0  neutral\n",
      "2       0  neutral\n",
      "3       0  neutral\n",
      "4       0  neutral\n",
      "\n",
      "* df2.tail()\n",
      "     Target   Emotions\n",
      "225       6  disgusted\n",
      "226       6  disgusted\n",
      "227       6  disgusted\n",
      "228       6  disgusted\n",
      "229       6  disgusted\n",
      "\n",
      "* targets\n",
      "['neutral' 'happy' 'sad' 'fearful' 'angry' 'surprised' 'disgusted']\n",
      "\n"
     ]
    }
   ],
   "source": [
    "df2, targets = encode_target(db, \"Emotions\")\n",
    "print(\"* df2.head()\", df2[[\"Target\", \"Emotions\"]].head(),\n",
    "      sep=\"\\n\", end=\"\\n\\n\")\n",
    "print(\"* df2.tail()\", df2[[\"Target\", \"Emotions\"]].tail(),\n",
    "      sep=\"\\n\", end=\"\\n\\n\")\n",
    "print(\"* targets\", targets, sep=\"\\n\", end=\"\\n\\n\")\n"
   ]
  },
  {
   "cell_type": "code",
   "execution_count": 8,
   "metadata": {},
   "outputs": [
    {
     "name": "stdout",
     "output_type": "stream",
     "text": [
      "* features:\n",
      "['D1', 'D2', 'D3', 'D4', 'D5', 'D6', 'D7', 'A0', 'A1', 'A2', 'A3', 'A4', 'A5']\n"
     ]
    }
   ],
   "source": [
    "features = list(df2.columns[:13])\n",
    "print(\"* features:\", features, sep=\"\\n\")\n",
    "Etype={'neutral': 0, 'happy': 1,\n",
    "        'sad': 2,'fearful': 3,'angry': 4,\n",
    "        'surprised': 5,'disgusted': 6}\n",
    "ERtype={0:'neutral', 1: 'happy',\n",
    "        2: 'sad',3: 'fearful',4:'angry',\n",
    "        5: 'surprised',6: 'disgusted'}"
   ]
  },
  {
   "cell_type": "code",
   "execution_count": 9,
   "metadata": {},
   "outputs": [
    {
     "name": "stdout",
     "output_type": "stream",
     "text": [
      "neutral\n"
     ]
    }
   ],
   "source": [
    "e = ERtype[0]\n",
    "print(e)"
   ]
  },
  {
   "cell_type": "code",
   "execution_count": 10,
   "metadata": {},
   "outputs": [
    {
     "name": "stdout",
     "output_type": "stream",
     "text": [
      "228    disgusted\n",
      "219          sad\n",
      "196        happy\n",
      "132          sad\n",
      "225    surprised\n",
      "135      fearful\n",
      "195    disgusted\n",
      "Name: Emotions, dtype: object\n",
      "[6]\n",
      "[2]\n",
      "[1]\n",
      "[3]\n",
      "[5]\n",
      "[3]\n",
      "[6]\n"
     ]
    }
   ],
   "source": [
    "y = df2[\"Target\"]\n",
    "X = df2[features]\n",
    "dt = DecisionTreeClassifier(min_samples_split=20, random_state=99)\n",
    "dt.fit(X, y)\n",
    "print(db_7['Emotions'])\n",
    "test = db_7[['D1','D2','D3','D4','D5','D6','D7','A0','A1','A2','A3','A4','A5']]\n",
    "for i in range(len(test)):\n",
    "    #print(test.iloc[[i]])\n",
    "    print(dt.predict(test.iloc[[i]]))\n",
    "    #print(clf.predict_proba(test.iloc[[i]]))"
   ]
  },
  {
   "cell_type": "code",
   "execution_count": 11,
   "metadata": {
    "collapsed": true
   },
   "outputs": [],
   "source": [
    "def visualize_tree(tree, feature_names):\n",
    "    \"\"\"Create tree png using graphviz.\n",
    "\n",
    "    Args\n",
    "    ----\n",
    "    tree -- scikit-learn DecsisionTree.\n",
    "    feature_names -- list of feature names.\n",
    "    \"\"\"\n",
    "    with open(\"dt.dotA\", 'w') as f:\n",
    "        export_graphviz(tree, out_file=f,\n",
    "                        feature_names=feature_names)\n",
    "\n",
    "    command = [\"dot\", \"-Tpng\", \"dt.dot\", \"-o\", \"dt.png\"]\n",
    "    try:\n",
    "        subprocess.check_call(command)\n",
    "    except:\n",
    "        exit(\"Could not run dot, ie graphviz, to \"\n",
    "             \"produce visualization\")"
   ]
  },
  {
   "cell_type": "code",
   "execution_count": 12,
   "metadata": {
    "collapsed": true
   },
   "outputs": [],
   "source": [
    "visualize_tree(dt, features)\n",
    "# Aparentemente la grafica no se ve en jupiter pero genera los archivos .dot"
   ]
  },
  {
   "cell_type": "markdown",
   "metadata": {},
   "source": [
    "## Probando con diferentes clasificadores y verificando su score"
   ]
  },
  {
   "cell_type": "code",
   "execution_count": 13,
   "metadata": {
    "collapsed": true
   },
   "outputs": [],
   "source": [
    "import numpy as np\n",
    "import matplotlib.pyplot as plt\n",
    "from matplotlib.colors import ListedColormap\n",
    "from sklearn.model_selection import train_test_split\n",
    "from sklearn.preprocessing import StandardScaler\n",
    "from sklearn.datasets import make_moons, make_circles, make_classification\n",
    "from sklearn.neural_network import MLPClassifier\n",
    "from sklearn.neighbors import KNeighborsClassifier\n",
    "from sklearn.svm import SVC\n",
    "from sklearn.gaussian_process import GaussianProcessClassifier\n",
    "from sklearn.gaussian_process.kernels import RBF\n",
    "from sklearn.tree import DecisionTreeClassifier\n",
    "from sklearn.ensemble import RandomForestClassifier, AdaBoostClassifier\n",
    "from sklearn.naive_bayes import GaussianNB\n",
    "from sklearn.discriminant_analysis import QuadraticDiscriminantAnalysis\n",
    "\n",
    "names =  [\"Nearest Neighbors\", \"Linear SVM\", \"RBF SVM\", \"Gaussian Process\"]\n",
    "names1 = [\"Decision Tree\", \"Random Forest\", \"Neural Net\", \"AdaBoost\"]\n",
    "names2 = [\"Naive Bayes\", \"QDA\"]\n",
    "\n",
    "classifiers = [\n",
    "    KNeighborsClassifier(3),\n",
    "    SVC(kernel=\"linear\", C=0.025),\n",
    "    SVC(gamma=2, C=1),\n",
    "    GaussianProcessClassifier(1.0 * RBF(1.0))]\n",
    "classifiers1 = [DecisionTreeClassifier(max_depth=5),\n",
    "    RandomForestClassifier(max_depth=5, n_estimators=10, max_features=5),\n",
    "    MLPClassifier(alpha=1),\n",
    "    AdaBoostClassifier()]\n",
    "classifiers2 = [GaussianNB(),\n",
    "    QuadraticDiscriminantAnalysis()]"
   ]
  },
  {
   "cell_type": "code",
   "execution_count": 14,
   "metadata": {},
   "outputs": [
    {
     "name": "stdout",
     "output_type": "stream",
     "text": [
      "Naive Bayes\n",
      "0.624223602484\n",
      "[6]\n",
      "[2]\n",
      "[1]\n",
      "[2]\n",
      "[5]\n",
      "[5]\n",
      "[6]\n",
      "QDA\n",
      "0.726086956522\n",
      "[4]\n",
      "[2]\n",
      "[1]\n",
      "[2]\n",
      "[6]\n",
      "[5]\n",
      "[6]\n"
     ]
    }
   ],
   "source": [
    "for name, clf in zip(names2, classifiers2):\n",
    "        print(name)\n",
    "        clf.fit(X, y)\n",
    "        score = clf.score(X, y)\n",
    "        print(score)\n",
    "        for i in range(len(test)):\n",
    "            #print(test.iloc[[i]])\n",
    "            print(clf.predict(test.iloc[[i]]))"
   ]
  },
  {
   "cell_type": "code",
   "execution_count": 15,
   "metadata": {},
   "outputs": [
    {
     "name": "stdout",
     "output_type": "stream",
     "text": [
      "Decision Tree\n",
      "0.601242236025\n",
      "[4]\n",
      "[2]\n",
      "[1]\n",
      "[2]\n",
      "[5]\n",
      "[3]\n",
      "[4]\n",
      "Random Forest\n",
      "0.664596273292\n",
      "[6]\n",
      "[4]\n",
      "[1]\n",
      "[2]\n",
      "[5]\n",
      "[5]\n",
      "[4]\n",
      "Neural Net\n",
      "0.56149068323\n",
      "[6]\n",
      "[2]\n",
      "[6]\n",
      "[2]\n",
      "[5]\n",
      "[5]\n",
      "[1]\n",
      "AdaBoost\n",
      "0.567080745342\n",
      "[6]\n",
      "[1]\n",
      "[1]\n",
      "[2]\n",
      "[5]\n",
      "[5]\n",
      "[1]\n"
     ]
    }
   ],
   "source": [
    "for name, clf in zip(names1, classifiers1):\n",
    "        print(name)\n",
    "        clf.fit(X, y)\n",
    "        score = clf.score(X, y)\n",
    "        print(score)\n",
    "        for i in range(len(test)):\n",
    "            #print(test.iloc[[i]])\n",
    "            print(clf.predict(test.iloc[[i]]))"
   ]
  },
  {
   "cell_type": "code",
   "execution_count": 22,
   "metadata": {},
   "outputs": [
    {
     "name": "stdout",
     "output_type": "stream",
     "text": [
      "Nearest Neighbors\n",
      "0.733540372671\n",
      "neutral\n"
     ]
    },
    {
     "ename": "ValueError",
     "evalue": "The truth value of a Series is ambiguous. Use a.empty, a.bool(), a.item(), a.any() or a.all().",
     "output_type": "error",
     "traceback": [
      "\u001b[0;31m---------------------------------------------------------------------------\u001b[0m",
      "\u001b[0;31mValueError\u001b[0m                                Traceback (most recent call last)",
      "\u001b[0;32m<ipython-input-22-39de02cb6dc6>\u001b[0m in \u001b[0;36m<module>\u001b[0;34m()\u001b[0m\n\u001b[1;32m      8\u001b[0m             \u001b[0me\u001b[0m \u001b[0;34m=\u001b[0m \u001b[0mclf\u001b[0m\u001b[0;34m.\u001b[0m\u001b[0mpredict\u001b[0m\u001b[0;34m(\u001b[0m\u001b[0mtest\u001b[0m\u001b[0;34m.\u001b[0m\u001b[0miloc\u001b[0m\u001b[0;34m[\u001b[0m\u001b[0;34m[\u001b[0m\u001b[0mi\u001b[0m\u001b[0;34m]\u001b[0m\u001b[0;34m]\u001b[0m\u001b[0;34m)\u001b[0m\u001b[0;34m\u001b[0m\u001b[0m\n\u001b[1;32m      9\u001b[0m             \u001b[0mprint\u001b[0m\u001b[0;34m(\u001b[0m\u001b[0mERtype\u001b[0m\u001b[0;34m[\u001b[0m\u001b[0me\u001b[0m\u001b[0;34m[\u001b[0m\u001b[0;36m0\u001b[0m\u001b[0;34m]\u001b[0m\u001b[0;34m]\u001b[0m\u001b[0;34m)\u001b[0m\u001b[0;34m\u001b[0m\u001b[0m\n\u001b[0;32m---> 10\u001b[0;31m             \u001b[0;32mif\u001b[0m \u001b[0mERtype\u001b[0m\u001b[0;34m[\u001b[0m\u001b[0me\u001b[0m\u001b[0;34m[\u001b[0m\u001b[0;36m0\u001b[0m\u001b[0;34m]\u001b[0m\u001b[0;34m]\u001b[0m \u001b[0;34m==\u001b[0m \u001b[0mdb_7\u001b[0m\u001b[0;34m[\u001b[0m\u001b[0;34m'Emotions'\u001b[0m\u001b[0;34m]\u001b[0m\u001b[0;34m:\u001b[0m\u001b[0;34m\u001b[0m\u001b[0m\n\u001b[0m\u001b[1;32m     11\u001b[0m                 \u001b[0mcon\u001b[0m \u001b[0;34m=\u001b[0m \u001b[0mcon\u001b[0m \u001b[0;34m+\u001b[0m \u001b[0;36m1\u001b[0m\u001b[0;34m\u001b[0m\u001b[0m\n\u001b[1;32m     12\u001b[0m \u001b[0;34m\u001b[0m\u001b[0m\n",
      "\u001b[0;32m~/.virtualenvs/cv/lib/python3.5/site-packages/pandas/core/generic.py\u001b[0m in \u001b[0;36m__nonzero__\u001b[0;34m(self)\u001b[0m\n\u001b[1;32m    953\u001b[0m         raise ValueError(\"The truth value of a {0} is ambiguous. \"\n\u001b[1;32m    954\u001b[0m                          \u001b[0;34m\"Use a.empty, a.bool(), a.item(), a.any() or a.all().\"\u001b[0m\u001b[0;34m\u001b[0m\u001b[0m\n\u001b[0;32m--> 955\u001b[0;31m                          .format(self.__class__.__name__))\n\u001b[0m\u001b[1;32m    956\u001b[0m \u001b[0;34m\u001b[0m\u001b[0m\n\u001b[1;32m    957\u001b[0m     \u001b[0m__bool__\u001b[0m \u001b[0;34m=\u001b[0m \u001b[0m__nonzero__\u001b[0m\u001b[0;34m\u001b[0m\u001b[0m\n",
      "\u001b[0;31mValueError\u001b[0m: The truth value of a Series is ambiguous. Use a.empty, a.bool(), a.item(), a.any() or a.all()."
     ]
    }
   ],
   "source": [
    "for name, clf in zip(names, classifiers):\n",
    "        print(name)\n",
    "        clf.fit(X, y)\n",
    "        score = clf.score(X, y)\n",
    "        print(score)\n",
    "        con = 0\n",
    "        for i in range(len(test)):\n",
    "            e = clf.predict(test.iloc[[i]])\n",
    "            print(ERtype[e[0]])\n",
    "            if ERtype[e[0]] == db_7['Emotions']:\n",
    "                con = con + 1\n",
    "                \n",
    "        print('Porcentaje de acierto', con/len(test)*100)"
   ]
  },
  {
   "cell_type": "markdown",
   "metadata": {
    "collapsed": true
   },
   "source": [
    "No se está calculando el Gaussian Process?"
   ]
  },
  {
   "cell_type": "code",
   "execution_count": 21,
   "metadata": {},
   "outputs": [
    {
     "name": "stdout",
     "output_type": "stream",
     "text": [
      "228    disgusted\n",
      "219          sad\n",
      "196        happy\n",
      "132          sad\n",
      "225    surprised\n",
      "135      fearful\n",
      "195    disgusted\n",
      "Name: Emotions, dtype: object\n"
     ]
    }
   ],
   "source": [
    "print(db_7['Emotions'])"
   ]
  },
  {
   "cell_type": "code",
   "execution_count": null,
   "metadata": {
    "collapsed": true
   },
   "outputs": [],
   "source": []
  }
 ],
 "metadata": {
  "kernelspec": {
   "display_name": "Python 3",
   "language": "python",
   "name": "python3"
  },
  "language_info": {
   "codemirror_mode": {
    "name": "ipython",
    "version": 3
   },
   "file_extension": ".py",
   "mimetype": "text/x-python",
   "name": "python",
   "nbconvert_exporter": "python",
   "pygments_lexer": "ipython3",
   "version": "3.5.2"
  }
 },
 "nbformat": 4,
 "nbformat_minor": 2
}
