{
 "cells": [
  {
   "cell_type": "code",
   "execution_count": 3,
   "metadata": {},
   "outputs": [],
   "source": [
    "from keras.models import Sequential\n",
    "from keras.layers.normalization import BatchNormalization\n",
    "from keras.layers.convolutional import Conv2D\n",
    "from keras.layers.convolutional import MaxPooling2D\n",
    "from keras.layers.core import Activation\n",
    "from keras.layers.core import Flatten\n",
    "from keras.layers.core import Dropout\n",
    "from keras.layers.core import Dense\n",
    "from keras import backend as K"
   ]
  },
  {
   "cell_type": "code",
   "execution_count": 4,
   "metadata": {},
   "outputs": [],
   "source": [
    "def build(width, height, depth, classes):\n",
    "\t# initialize the model along with the input shape to be\n",
    "\t# \"channels last\" and the channels dimension itself\n",
    "\tmodel = Sequential()\n",
    "\tinputShape = (height, width, depth)\n",
    "\tchanDim = -1\n",
    " \n",
    "\t# if we are using \"channels first\", update the input shape\n",
    "\t# and channels dimension\n",
    "\tif K.image_data_format() == \"channels_first\":\n",
    "\t\tinputShape = (depth, height, width)\n",
    "\t\tchanDim = 1\n",
    "        \n",
    "\t# CONV => RELU => POOL\n",
    "\tmodel.add(Conv2D(32, (3, 3), padding=\"same\",\n",
    "\t\tinput_shape=inputShape))\n",
    "\tmodel.add(Activation(\"relu\"))\n",
    "\tmodel.add(BatchNormalization(axis=chanDim))\n",
    "\tmodel.add(MaxPooling2D(pool_size=(3, 3)))\n",
    "\tmodel.add(Dropout(0.25))\n",
    "\t# (CONV => RELU) * 2 => POOL\n",
    "\tmodel.add(Conv2D(64, (3, 3), padding=\"same\"))\n",
    "\tmodel.add(Activation(\"relu\"))\n",
    "\tmodel.add(BatchNormalization(axis=chanDim))\n",
    "\tmodel.add(Conv2D(64, (3, 3), padding=\"same\"))\n",
    "\tmodel.add(Activation(\"relu\"))\n",
    "\tmodel.add(BatchNormalization(axis=chanDim))\n",
    "\tmodel.add(MaxPooling2D(pool_size=(2, 2)))\n",
    "\tmodel.add(Dropout(0.25))\n",
    "\t# (CONV => RELU) * 2 => POOL\n",
    "\tmodel.add(Conv2D(128, (3, 3), padding=\"same\"))\n",
    "\tmodel.add(Activation(\"relu\"))\n",
    "\tmodel.add(BatchNormalization(axis=chanDim))\n",
    "\tmodel.add(Conv2D(128, (3, 3), padding=\"same\"))\n",
    "\tmodel.add(Activation(\"relu\"))\n",
    "\tmodel.add(BatchNormalization(axis=chanDim))\n",
    "\tmodel.add(MaxPooling2D(pool_size=(2, 2)))\n",
    "\tmodel.add(Dropout(0.25))\n",
    "\t# first (and only) set of FC => RELU layers\n",
    "\tmodel.add(Flatten())\n",
    "\tmodel.add(Dense(1024))\n",
    "\tmodel.add(Activation(\"relu\"))\n",
    "\tmodel.add(BatchNormalization())\n",
    "\tmodel.add(Dropout(0.5))\n",
    " \n",
    "\t# softmax classifier\n",
    "\tmodel.add(Dense(classes))\n",
    "\tmodel.add(Activation(\"softmax\"))\n",
    " \n",
    "\t# return the constructed network architecture\n",
    "\treturn model"
   ]
  },
  {
   "cell_type": "code",
   "execution_count": null,
   "metadata": {},
   "outputs": [],
   "source": [
    "def buil1(width, height, depth, classes)\n",
    "\n",
    "    num_features = 64\n",
    "    num_labels = 7\n",
    "    inputShape = (width, height, 1)\n",
    "    width, height = 48, 48\n",
    "               \n",
    "    model.add(Conv2D(num_features, kernel_size=(3, 3), activation='relu', input_shape=inputShape, \n",
    "              data_format='channels_last', kernel_regularizer=l2(0.01)))\n",
    "    model.add(Conv2D(num_features, kernel_size=(3, 3), activation='relu', padding='same'))\n",
    "    model.add(BatchNormalization())\n",
    "    model.add(MaxPooling2D(pool_size=(2, 2), strides=(2, 2)))\n",
    "    model.add(Dropout(0.5))\n",
    "\n",
    "    model.add(Conv2D(2*num_features, kernel_size=(3, 3), activation='relu', padding='same'))\n",
    "    model.add(BatchNormalization())\n",
    "    model.add(Conv2D(2*num_features, kernel_size=(3, 3), activation='relu', padding='same'))\n",
    "    model.add(BatchNormalization())\n",
    "    model.add(MaxPooling2D(pool_size=(2, 2), strides=(2, 2)))\n",
    "    model.add(Dropout(0.5))\n",
    "\n",
    "    model.add(Conv2D(2*2*num_features, kernel_size=(3, 3), activation='relu', padding='same'))\n",
    "    model.add(BatchNormalization())\n",
    "    model.add(Conv2D(2*2*num_features, kernel_size=(3, 3), activation='relu', padding='same'))\n",
    "    model.add(BatchNormalization())\n",
    "    model.add(MaxPooling2D(pool_size=(2, 2), strides=(2, 2)))\n",
    "    model.add(Dropout(0.5))\n",
    "\n",
    "    model.add(Conv2D(2*2*2*num_features, kernel_size=(3, 3), activation='relu', padding='same'))\n",
    "    model.add(BatchNormalization() \n",
    "    model.add(Conv2D(2*2*2*num_features, kernel_size=(3, 3), activation='relu', padding='same'))\n",
    "    model.add(BatchNormalization())\n",
    "    model.add(MaxPooling2D(pool_size=(2, 2), strides=(2, 2)))\n",
    "    model.add(Dropout(0.5))\n",
    "\n",
    "    model.add(Flatten())\n",
    "\n",
    "    model.add(Dense(2*2*2*num_features, activation='relu'))\n",
    "    model.add(Dropout(0.4))\n",
    "    model.add(Dense(2*2*num_features, activation='relu'))\n",
    "    model.add(Dropout(0.4))\n",
    "    model.add(Dense(2*num_features, activation='relu'))\n",
    "    model.add(Dropout(0.5))\n",
    "\n",
    "    model.add(Dense(classes, activation='softmax'))\n",
    "              \n",
    "    return model"
   ]
  },
  {
   "cell_type": "code",
   "execution_count": 5,
   "metadata": {},
   "outputs": [],
   "source": [
    "#import the necessary packages\n",
    "from keras.preprocessing.image import ImageDataGenerator\n",
    "from keras.optimizers import Adam\n",
    "from keras.preprocessing.image import img_to_array\n",
    "from keras.models import model_from_json\n",
    "from sklearn.preprocessing import LabelBinarizer\n",
    "from sklearn.model_selection import train_test_split\n",
    "import matplotlib.pyplot as plt\n",
    "from imutils import paths\n",
    "import numpy as np\n",
    "import argparse\n",
    "import random\n",
    "import pickle\n",
    "import cv2\n",
    "import os"
   ]
  },
  {
   "cell_type": "code",
   "execution_count": 6,
   "metadata": {},
   "outputs": [
    {
     "name": "stdout",
     "output_type": "stream",
     "text": [
      "[INFO] loading images...\n"
     ]
    }
   ],
   "source": [
    "# initialize the number of epochs to train for, initial learning rate,\n",
    "# batch size, and image dimensions\n",
    "\n",
    "IMAGE_DIMS = (96, 96, 3)\n",
    " \n",
    "# initialize the data and labels\n",
    "data = []\n",
    "labels = []\n",
    " \n",
    "# grab the image paths and randomly shuffle them\n",
    "print(\"[INFO] loading images...\")\n",
    "path = '/home/jorgel/Documents/CFEE'\n",
    "imagePaths = sorted(list(paths.list_images(path)))\n",
    "random.seed(42)\n",
    "random.shuffle(imagePaths)"
   ]
  },
  {
   "cell_type": "code",
   "execution_count": 7,
   "metadata": {},
   "outputs": [],
   "source": [
    "#loop over the input images\n",
    "for imagePath in imagePaths:\n",
    "    # load the image, pre-process it, and store it in the data list\n",
    "    image = cv2.imread(imagePath)\n",
    "    image = cv2.resize(image, (IMAGE_DIMS[1], IMAGE_DIMS[0]))\n",
    "    image = img_to_array(image)\n",
    "    \n",
    "    data.append(image)\n",
    " \n",
    "    # extract the class label from the image path and update the\n",
    "    # labels list\n",
    "    label = imagePath.split(os.path.sep)[-2]\n",
    "    \n",
    "    labels.append(label)"
   ]
  },
  {
   "cell_type": "code",
   "execution_count": 8,
   "metadata": {},
   "outputs": [
    {
     "name": "stdout",
     "output_type": "stream",
     "text": [
      "[INFO] data matrix: 347.76MB\n",
      "labels [[0 0 0 ... 0 1 0]\n",
      " [0 0 1 ... 0 0 0]\n",
      " [0 0 0 ... 1 0 0]\n",
      " ...\n",
      " [1 0 0 ... 0 0 0]\n",
      " [1 0 0 ... 0 0 0]\n",
      " [0 0 0 ... 0 1 0]]\n"
     ]
    }
   ],
   "source": [
    "# scale the raw pixel intensities to the range [0, 1]\n",
    "data = np.array(data, dtype=\"float\") / 255.0\n",
    "labels = np.array(labels)\n",
    "print(\"[INFO] data matrix: {:.2f}MB\".format(\n",
    "    data.nbytes / (1024 * 1000.0)))\n",
    "data\n",
    " \n",
    "# binarize the labels\n",
    "lb = LabelBinarizer()\n",
    "labels = lb.fit_transform(labels)\n",
    "print(\"labels {}\".format(labels))\n",
    "# partition the data into training and testing splits using 80% of\n",
    "# the data for training and the remaining 20% for testing\n",
    "(trainX, testX, trainY, testY) = train_test_split(data,\n",
    "\tlabels, test_size=0.2, random_state=42)"
   ]
  },
  {
   "cell_type": "code",
   "execution_count": 9,
   "metadata": {},
   "outputs": [
    {
     "name": "stdout",
     "output_type": "stream",
     "text": [
      "Size 1610\n",
      "(1610, 7)\n",
      "(1288, 96, 96, 3) (1288, 96, 96, 3)\n",
      "(322, 96, 96, 3) (322, 7)\n"
     ]
    }
   ],
   "source": [
    "print(\"Size {}\".format(len(labels)))\n",
    "print(labels.shape)\n",
    "print(trainX.shape, trainX.shape)\n",
    "print(testX.shape, testY.shape)"
   ]
  },
  {
   "cell_type": "code",
   "execution_count": 10,
   "metadata": {},
   "outputs": [],
   "source": [
    "# construct the image generator for data augmentation\n",
    "aug = ImageDataGenerator(rotation_range=25, width_shift_range=0.1,height_shift_range=0.1, \n",
    "                         shear_range=0.2, zoom_range=0.2,horizontal_flip=True, fill_mode=\"nearest\")"
   ]
  },
  {
   "cell_type": "code",
   "execution_count": 19,
   "metadata": {},
   "outputs": [
    {
     "name": "stdout",
     "output_type": "stream",
     "text": [
      "[INFO] compiling model...\n"
     ]
    }
   ],
   "source": [
    "EPOCHS = 50\n",
    "INIT_LR = 1e-3\n",
    "BS = 64\n",
    "\n",
    "# initialize the model\n",
    "print(\"[INFO] compiling model...\")\n",
    "model = build(width=IMAGE_DIMS[1], height=IMAGE_DIMS[0],depth=IMAGE_DIMS[2], classes=len(lb.classes_))\n",
    "opt = Adam(lr=INIT_LR, decay=INIT_LR / EPOCHS)\n",
    "model.compile(loss=\"categorical_crossentropy\", optimizer=opt,metrics=[\"accuracy\"])\n"
   ]
  },
  {
   "cell_type": "code",
   "execution_count": 24,
   "metadata": {},
   "outputs": [
    {
     "name": "stdout",
     "output_type": "stream",
     "text": [
      "[INFO] training network...\n",
      "Train on 1288 samples, validate on 322 samples\n",
      "Epoch 1/50\n",
      "1288/1288 [==============================] - 46s 36ms/step - loss: 3.1464 - accuracy: 0.1599 - val_loss: 2.0412 - val_accuracy: 0.1025\n",
      "Epoch 2/50\n",
      "1288/1288 [==============================] - 31s 24ms/step - loss: 2.3779 - accuracy: 0.2345 - val_loss: 2.2908 - val_accuracy: 0.1304\n",
      "Epoch 3/50\n",
      "1288/1288 [==============================] - 33s 25ms/step - loss: 2.0402 - accuracy: 0.2919 - val_loss: 2.7466 - val_accuracy: 0.1304\n",
      "Epoch 4/50\n",
      "1288/1288 [==============================] - 34s 27ms/step - loss: 1.7289 - accuracy: 0.3789 - val_loss: 2.4243 - val_accuracy: 0.1304\n",
      "Epoch 5/50\n",
      "1288/1288 [==============================] - 35s 27ms/step - loss: 1.5609 - accuracy: 0.4519 - val_loss: 2.6261 - val_accuracy: 0.1304\n",
      "Epoch 6/50\n",
      "1288/1288 [==============================] - 33s 25ms/step - loss: 1.4026 - accuracy: 0.5031 - val_loss: 2.7215 - val_accuracy: 0.1335\n",
      "Epoch 7/50\n",
      "1288/1288 [==============================] - 34s 27ms/step - loss: 1.2124 - accuracy: 0.5450 - val_loss: 2.9708 - val_accuracy: 0.1398\n",
      "Epoch 8/50\n",
      "1288/1288 [==============================] - 32s 25ms/step - loss: 1.0486 - accuracy: 0.6002 - val_loss: 3.1749 - val_accuracy: 0.1429\n",
      "Epoch 9/50\n",
      "1288/1288 [==============================] - 33s 26ms/step - loss: 0.9758 - accuracy: 0.6413 - val_loss: 2.9169 - val_accuracy: 0.1429\n",
      "Epoch 10/50\n",
      "1288/1288 [==============================] - 32s 25ms/step - loss: 0.9529 - accuracy: 0.6382 - val_loss: 2.7023 - val_accuracy: 0.2050\n",
      "Epoch 11/50\n",
      "1288/1288 [==============================] - 35s 27ms/step - loss: 0.8340 - accuracy: 0.6793 - val_loss: 3.0955 - val_accuracy: 0.1646\n",
      "Epoch 12/50\n",
      "1288/1288 [==============================] - 34s 27ms/step - loss: 0.7486 - accuracy: 0.7189 - val_loss: 3.3625 - val_accuracy: 0.1988\n",
      "Epoch 13/50\n",
      "1288/1288 [==============================] - 33s 26ms/step - loss: 0.6532 - accuracy: 0.7446 - val_loss: 3.2717 - val_accuracy: 0.1863\n",
      "Epoch 14/50\n",
      "1288/1288 [==============================] - 33s 26ms/step - loss: 0.6130 - accuracy: 0.7748 - val_loss: 4.7119 - val_accuracy: 0.1863\n",
      "Epoch 15/50\n",
      "1288/1288 [==============================] - 33s 25ms/step - loss: 0.5528 - accuracy: 0.7981 - val_loss: 2.7852 - val_accuracy: 0.1832\n",
      "Epoch 16/50\n",
      "1288/1288 [==============================] - 33s 26ms/step - loss: 0.5562 - accuracy: 0.7873 - val_loss: 2.4399 - val_accuracy: 0.2236\n",
      "Epoch 17/50\n",
      "1288/1288 [==============================] - 31s 24ms/step - loss: 0.4682 - accuracy: 0.8222 - val_loss: 4.6551 - val_accuracy: 0.1894\n",
      "Epoch 18/50\n",
      "1288/1288 [==============================] - 31s 24ms/step - loss: 0.4772 - accuracy: 0.8129 - val_loss: 3.1845 - val_accuracy: 0.2484\n",
      "Epoch 19/50\n",
      "1288/1288 [==============================] - 31s 24ms/step - loss: 0.4348 - accuracy: 0.8377 - val_loss: 3.3939 - val_accuracy: 0.3137\n",
      "Epoch 20/50\n",
      "1288/1288 [==============================] - 31s 24ms/step - loss: 0.3746 - accuracy: 0.8556 - val_loss: 2.0092 - val_accuracy: 0.4130\n",
      "Epoch 21/50\n",
      "1288/1288 [==============================] - 57s 44ms/step - loss: 0.3682 - accuracy: 0.8509 - val_loss: 2.5482 - val_accuracy: 0.4037\n",
      "Epoch 22/50\n",
      "1288/1288 [==============================] - 166s 129ms/step - loss: 0.3368 - accuracy: 0.8696 - val_loss: 1.1760 - val_accuracy: 0.5559\n",
      "Epoch 23/50\n",
      "1288/1288 [==============================] - 155s 120ms/step - loss: 0.3551 - accuracy: 0.8719 - val_loss: 2.1353 - val_accuracy: 0.3634\n",
      "Epoch 24/50\n",
      "1288/1288 [==============================] - 30s 23ms/step - loss: 0.3109 - accuracy: 0.8804 - val_loss: 2.0428 - val_accuracy: 0.3571\n",
      "Epoch 25/50\n",
      "1288/1288 [==============================] - 30s 23ms/step - loss: 0.2912 - accuracy: 0.8874 - val_loss: 1.9008 - val_accuracy: 0.4255\n",
      "Epoch 26/50\n",
      "1288/1288 [==============================] - 33s 25ms/step - loss: 0.2795 - accuracy: 0.8998 - val_loss: 2.3311 - val_accuracy: 0.3168\n",
      "Epoch 27/50\n",
      "1288/1288 [==============================] - 32s 25ms/step - loss: 0.3052 - accuracy: 0.8882 - val_loss: 1.5206 - val_accuracy: 0.5280\n",
      "Epoch 28/50\n",
      "1288/1288 [==============================] - 31s 24ms/step - loss: 0.2993 - accuracy: 0.8828 - val_loss: 1.8655 - val_accuracy: 0.4689\n",
      "Epoch 29/50\n",
      "1288/1288 [==============================] - 33s 26ms/step - loss: 0.2877 - accuracy: 0.8952 - val_loss: 2.6040 - val_accuracy: 0.4130\n",
      "Epoch 30/50\n",
      "1288/1288 [==============================] - 32s 25ms/step - loss: 0.2939 - accuracy: 0.8882 - val_loss: 5.1324 - val_accuracy: 0.4099\n",
      "Epoch 31/50\n",
      "1288/1288 [==============================] - 33s 25ms/step - loss: 0.2214 - accuracy: 0.9193 - val_loss: 1.1987 - val_accuracy: 0.6335\n",
      "Epoch 32/50\n",
      "1288/1288 [==============================] - 33s 25ms/step - loss: 0.2653 - accuracy: 0.9092 - val_loss: 1.4392 - val_accuracy: 0.6211\n",
      "Epoch 33/50\n",
      "1288/1288 [==============================] - 31s 24ms/step - loss: 0.2378 - accuracy: 0.9061 - val_loss: 1.5149 - val_accuracy: 0.5994\n",
      "Epoch 34/50\n",
      "1288/1288 [==============================] - 34s 26ms/step - loss: 0.2115 - accuracy: 0.9208 - val_loss: 1.8139 - val_accuracy: 0.5124\n",
      "Epoch 35/50\n",
      "1288/1288 [==============================] - 33s 26ms/step - loss: 0.2131 - accuracy: 0.9270 - val_loss: 2.4271 - val_accuracy: 0.5342\n",
      "Epoch 36/50\n",
      "1288/1288 [==============================] - 35s 27ms/step - loss: 0.1548 - accuracy: 0.9472 - val_loss: 1.2255 - val_accuracy: 0.6522\n",
      "Epoch 37/50\n",
      "1288/1288 [==============================] - 32s 25ms/step - loss: 0.1397 - accuracy: 0.9565 - val_loss: 1.3560 - val_accuracy: 0.6398\n",
      "Epoch 38/50\n",
      "1288/1288 [==============================] - 32s 24ms/step - loss: 0.1352 - accuracy: 0.9457 - val_loss: 1.8595 - val_accuracy: 0.5714\n",
      "Epoch 39/50\n",
      "1288/1288 [==============================] - 33s 26ms/step - loss: 0.1677 - accuracy: 0.9371 - val_loss: 1.4734 - val_accuracy: 0.6398\n",
      "Epoch 40/50\n",
      "1288/1288 [==============================] - 32s 25ms/step - loss: 0.1564 - accuracy: 0.9433 - val_loss: 1.7461 - val_accuracy: 0.6180\n",
      "Epoch 41/50\n",
      "1288/1288 [==============================] - 32s 25ms/step - loss: 0.1504 - accuracy: 0.9542 - val_loss: 2.0548 - val_accuracy: 0.6025\n",
      "Epoch 42/50\n",
      "1288/1288 [==============================] - 33s 26ms/step - loss: 0.1734 - accuracy: 0.9340 - val_loss: 1.9548 - val_accuracy: 0.5621\n",
      "Epoch 43/50\n",
      "1288/1288 [==============================] - 32s 25ms/step - loss: 0.1302 - accuracy: 0.9550 - val_loss: 1.4445 - val_accuracy: 0.6522\n",
      "Epoch 44/50\n",
      "1288/1288 [==============================] - 36s 28ms/step - loss: 0.1183 - accuracy: 0.9565 - val_loss: 3.0163 - val_accuracy: 0.5155\n",
      "Epoch 45/50\n",
      "1288/1288 [==============================] - 38s 30ms/step - loss: 0.1789 - accuracy: 0.9394 - val_loss: 2.1409 - val_accuracy: 0.5155\n",
      "Epoch 46/50\n",
      "1288/1288 [==============================] - 33s 26ms/step - loss: 0.1567 - accuracy: 0.9410 - val_loss: 1.7979 - val_accuracy: 0.6087\n",
      "Epoch 47/50\n",
      "1288/1288 [==============================] - 31s 24ms/step - loss: 0.1797 - accuracy: 0.9309 - val_loss: 1.5822 - val_accuracy: 0.6180\n",
      "Epoch 48/50\n",
      "1288/1288 [==============================] - 34s 26ms/step - loss: 0.2313 - accuracy: 0.9146 - val_loss: 2.9653 - val_accuracy: 0.5559\n",
      "Epoch 49/50\n",
      "1288/1288 [==============================] - 33s 26ms/step - loss: 0.2732 - accuracy: 0.9022 - val_loss: 2.9113 - val_accuracy: 0.4907\n",
      "Epoch 50/50\n",
      "1288/1288 [==============================] - 34s 26ms/step - loss: 0.1697 - accuracy: 0.9425 - val_loss: 1.8189 - val_accuracy: 0.5186\n"
     ]
    }
   ],
   "source": [
    "# train the network\n",
    "print(\"[INFO] training network...\")\n",
    "#H = model.fit_generator(aug.flow(trainX, trainY, batch_size=BS),validation_data=(testX, testY),\n",
    "#                        steps_per_epoch=len(trainX) // BS,epochs=EPOCHS, verbose=1)\n",
    "H = model.fit(trainX, trainY, batch_size=BS,validation_data=(testX, testY),epochs=EPOCHS, verbose=1)"
   ]
  },
  {
   "cell_type": "code",
   "execution_count": 25,
   "metadata": {},
   "outputs": [
    {
     "data": {
      "image/png": "[encoded data removed]",
      "text/plain": [
       "<Figure size 432x288 with 1 Axes>"
      ]
     },
     "metadata": {},
     "output_type": "display_data"
    }
   ],
   "source": [
    "import matplotlib\n",
    "%matplotlib inline\n",
    "#matplotlib.use(\"Agg\") \n",
    "# plot the training loss and accuracy\n",
    "plt.style.use(\"ggplot\")\n",
    "plt.figure()\n",
    "N = EPOCHS\n",
    "plt.plot(np.arange(0, N), H.history[\"loss\"], label=\"train_loss\")\n",
    "plt.plot(np.arange(0, N), H.history[\"val_loss\"], label=\"val_loss\")\n",
    "plt.plot(np.arange(0, N), H.history[\"accuracy\"], label=\"train_acc\")\n",
    "plt.plot(np.arange(0, N), H.history[\"val_accuracy\"], label=\"val_acc\")\n",
    "plt.title(\"Training Loss and Accuracy\")\n",
    "plt.xlabel(\"Epoch #\")\n",
    "plt.ylabel(\"Loss/Accuracy\")\n",
    "plt.legend(loc=\"upper left\")\n",
    "plt.savefig(\"EmoTrain_1.png\")\n",
    "plt.show()"
   ]
  },
  {
   "cell_type": "code",
   "execution_count": 30,
   "metadata": {},
   "outputs": [
    {
     "name": "stdout",
     "output_type": "stream",
     "text": [
      "accuracy: 83.31%\n"
     ]
    }
   ],
   "source": [
    "scores = model.evaluate(trainX, trainY, verbose=0)\n",
    "print(\"%s: %.2f%%\" % (model.metrics_names[1], scores[1]*100))"
   ]
  },
  {
   "cell_type": "code",
   "execution_count": 29,
   "metadata": {},
   "outputs": [
    {
     "name": "stdout",
     "output_type": "stream",
     "text": [
      "(322, 7) (322, 7)\n",
      "(322,) (322,)\n",
      "[[37  0  6  1  1  0  0]\n",
      " [ 4 41  1  2  2  0  2]\n",
      " [32  0 10  0 17  0  1]\n",
      " [11  1  2 12  1 15  0]\n",
      " [ 5  0  5  1 33  0  1]\n",
      " [ 3  0  1  2  1 26  0]\n",
      " [ 7  1  1  0 28  0  8]]\n"
     ]
    },
    {
     "data": {
      "image/png": "[encoded data removed]",
      "text/plain": [
       "<Figure size 432x288 with 2 Axes>"
      ]
     },
     "metadata": {},
     "output_type": "display_data"
    }
   ],
   "source": [
    "import itertools\n",
    "import numpy as np\n",
    "import matplotlib.pyplot as plt\n",
    "from sklearn.metrics import confusion_matrix\n",
    "\n",
    "y_true = testY\n",
    "y_pred = model.predict(testX)\n",
    "print(y_true.shape,y_pred.shape)\n",
    "y_true_m = np.argmax(y_true, axis=1)\n",
    "y_pred_m = np.argmax(y_pred, axis=1)\n",
    "print(y_true_m.shape,y_pred_m.shape)\n",
    "\n",
    "cm = confusion_matrix(y_true_m, y_pred_m)\n",
    "labels = ['Neutral','Happy','Sad','Fearfull','Angry', 'Surprise', 'Disgust']\n",
    "title='Confusion matrix'\n",
    "print(cm)\n",
    "\n",
    "plt.imshow(cm, interpolation='nearest', cmap=plt.cm.Blues)\n",
    "plt.title(title)\n",
    "plt.colorbar()\n",
    "tick_marks = np.arange(len(labels))\n",
    "plt.xticks(tick_marks, labels, rotation=45)\n",
    "plt.yticks(tick_marks, labels)\n",
    "fmt = 'd'\n",
    "thresh = cm.max() / 2.\n",
    "for i, j in itertools.product(range(cm.shape[0]), range(cm.shape[1])):\n",
    "    plt.text(j, i, format(cm[i, j], fmt),\n",
    "            horizontalalignment=\"center\",\n",
    "            color=\"white\" if cm[i, j] > thresh else \"black\")\n",
    "\n",
    "plt.ylabel('True label')\n",
    "plt.xlabel('Predicted label')\n",
    "plt.tight_layout()"
   ]
  },
  {
   "cell_type": "code",
   "execution_count": 31,
   "metadata": {},
   "outputs": [
    {
     "name": "stdout",
     "output_type": "stream",
     "text": [
      "Saved model to disk\n"
     ]
    }
   ],
   "source": [
    "from keras.models import model_from_json\n",
    "# serialize model to JSON\n",
    "model_json = model.to_json()\n",
    "with open(\"EmoClassModel.json\", \"w\") as json_file:\n",
    "    json_file.write(model_json)\n",
    "# serialize weights to HDF5\n",
    "model.save_weights(\"EmoClassWeights.h5\")\n",
    "print(\"Saved model to disk\")"
   ]
  },
  {
   "cell_type": "code",
   "execution_count": 32,
   "metadata": {},
   "outputs": [
    {
     "name": "stdout",
     "output_type": "stream",
     "text": [
      "Loaded model from disk\n",
      "Model Summary:\n",
      "Model: \"sequential_3\"\n",
      "_________________________________________________________________\n",
      "Layer (type)                 Output Shape              Param #   \n",
      "=================================================================\n",
      "conv2d_11 (Conv2D)           (None, 96, 96, 32)        896       \n",
      "_________________________________________________________________\n",
      "activation_15 (Activation)   (None, 96, 96, 32)        0         \n",
      "_________________________________________________________________\n",
      "batch_normalization_13 (Batc (None, 96, 96, 32)        128       \n",
      "_________________________________________________________________\n",
      "max_pooling2d_7 (MaxPooling2 (None, 32, 32, 32)        0         \n",
      "_________________________________________________________________\n",
      "dropout_9 (Dropout)          (None, 32, 32, 32)        0         \n",
      "_________________________________________________________________\n",
      "conv2d_12 (Conv2D)           (None, 32, 32, 64)        18496     \n",
      "_________________________________________________________________\n",
      "activation_16 (Activation)   (None, 32, 32, 64)        0         \n",
      "_________________________________________________________________\n",
      "batch_normalization_14 (Batc (None, 32, 32, 64)        256       \n",
      "_________________________________________________________________\n",
      "conv2d_13 (Conv2D)           (None, 32, 32, 64)        36928     \n",
      "_________________________________________________________________\n",
      "activation_17 (Activation)   (None, 32, 32, 64)        0         \n",
      "_________________________________________________________________\n",
      "batch_normalization_15 (Batc (None, 32, 32, 64)        256       \n",
      "_________________________________________________________________\n",
      "max_pooling2d_8 (MaxPooling2 (None, 16, 16, 64)        0         \n",
      "_________________________________________________________________\n",
      "dropout_10 (Dropout)         (None, 16, 16, 64)        0         \n",
      "_________________________________________________________________\n",
      "conv2d_14 (Conv2D)           (None, 16, 16, 128)       73856     \n",
      "_________________________________________________________________\n",
      "activation_18 (Activation)   (None, 16, 16, 128)       0         \n",
      "_________________________________________________________________\n",
      "batch_normalization_16 (Batc (None, 16, 16, 128)       512       \n",
      "_________________________________________________________________\n",
      "conv2d_15 (Conv2D)           (None, 16, 16, 128)       147584    \n",
      "_________________________________________________________________\n",
      "activation_19 (Activation)   (None, 16, 16, 128)       0         \n",
      "_________________________________________________________________\n",
      "batch_normalization_17 (Batc (None, 16, 16, 128)       512       \n",
      "_________________________________________________________________\n",
      "max_pooling2d_9 (MaxPooling2 (None, 8, 8, 128)         0         \n",
      "_________________________________________________________________\n",
      "dropout_11 (Dropout)         (None, 8, 8, 128)         0         \n",
      "_________________________________________________________________\n",
      "flatten_3 (Flatten)          (None, 8192)              0         \n",
      "_________________________________________________________________\n",
      "dense_5 (Dense)              (None, 1024)              8389632   \n",
      "_________________________________________________________________\n",
      "activation_20 (Activation)   (None, 1024)              0         \n",
      "_________________________________________________________________\n",
      "batch_normalization_18 (Batc (None, 1024)              4096      \n",
      "_________________________________________________________________\n",
      "dropout_12 (Dropout)         (None, 1024)              0         \n",
      "_________________________________________________________________\n",
      "dense_6 (Dense)              (None, 7)                 7175      \n",
      "_________________________________________________________________\n",
      "activation_21 (Activation)   (None, 7)                 0         \n",
      "=================================================================\n",
      "Total params: 8,680,327\n",
      "Trainable params: 8,677,447\n",
      "Non-trainable params: 2,880\n",
      "_________________________________________________________________\n",
      "None\n"
     ]
    }
   ],
   "source": [
    "# load json and create model\n",
    "json_file = open('EmoClassModel.json', 'r')\n",
    "loaded_model_json = json_file.read()\n",
    "json_file.close()\n",
    "loaded_model = model_from_json(loaded_model_json)\n",
    "# load weights into new model\n",
    "loaded_model.load_weights(\"EmoClassWeights.h5\")\n",
    "print(\"Loaded model from disk\")\n",
    "print('Model Summary:')\n",
    "print(loaded_model.summary())"
   ]
  },
  {
   "cell_type": "code",
   "execution_count": 33,
   "metadata": {},
   "outputs": [
    {
     "name": "stdout",
     "output_type": "stream",
     "text": [
      "322/322 [==============================] - 2s 7ms/step\n",
      "accuracy: 51.86%\n"
     ]
    }
   ],
   "source": [
    "# evaluate loaded model on test data\n",
    "loaded_model.compile(loss='categorical_crossentropy', optimizer='rmsprop', metrics=['accuracy'])\n",
    "score = loaded_model.evaluate(testX, testY, verbose=1)\n",
    "print(\"%s: %.2f%%\" % (loaded_model.metrics_names[1], score[1]*100))"
   ]
  },
  {
   "cell_type": "code",
   "execution_count": null,
   "metadata": {},
   "outputs": [],
   "source": []
  }
 ],
 "metadata": {
  "kernelspec": {
   "display_name": "Python 3",
   "language": "python",
   "name": "python3"
  },
  "language_info": {
   "codemirror_mode": {
    "name": "ipython",
    "version": 3
   },
   "file_extension": ".py",
   "mimetype": "text/x-python",
   "name": "python",
   "nbconvert_exporter": "python",
   "pygments_lexer": "ipython3",
   "version": "3.6.8"
  }
 },
 "nbformat": 4,
 "nbformat_minor": 2
}
