{
 "cells": [
  {
   "cell_type": "code",
   "execution_count": 6,
   "metadata": {
    "collapsed": true
   },
   "outputs": [],
   "source": [
    "import glob\n",
    "import os\n",
    "import numpy as np\n",
    "import matplotlib.pyplot as plt\n",
    "import pandas as pd\n",
    "from sklearn import tree\n",
    "from sklearn.tree import DecisionTreeClassifier, export_graphviz\n",
    "from matplotlib.colors import ListedColormap\n",
    "from sklearn.model_selection import train_test_split\n",
    "from sklearn.preprocessing import StandardScaler\n",
    "from sklearn.datasets import make_moons, make_circles, make_classification\n",
    "from sklearn.neural_network import MLPClassifier\n",
    "from sklearn.neighbors import KNeighborsClassifier\n",
    "from sklearn.svm import SVC\n",
    "from sklearn.gaussian_process import GaussianProcessClassifier\n",
    "from sklearn.gaussian_process.kernels import RBF\n",
    "from sklearn.tree import DecisionTreeClassifier\n",
    "from sklearn.ensemble import RandomForestClassifier, AdaBoostClassifier\n",
    "from sklearn.naive_bayes import GaussianNB\n",
    "from sklearn.discriminant_analysis import QuadraticDiscriminantAnalysis"
   ]
  },
  {
   "cell_type": "code",
   "execution_count": 7,
   "metadata": {
    "collapsed": true
   },
   "outputs": [],
   "source": [
    "names = [\"Naive Bayes\", \"QDA\",\"Decision Tree\", \"Random Forest\", \"Neural Net\", \"AdaBoost\",\"Nearest Neighbors\", \"Linear SVM\", \"RBF SVM\"]\n",
    "classifiers =[GaussianNB(),QuadraticDiscriminantAnalysis(),DecisionTreeClassifier(max_depth=5),\n",
    "    RandomForestClassifier(max_depth=5, n_estimators=10, max_features=5),\n",
    "    MLPClassifier(alpha=1),\n",
    "    AdaBoostClassifier(),KNeighborsClassifier(3),\n",
    "    SVC(kernel=\"linear\", C=0.025),\n",
    "    SVC(gamma=2, C=1)] \n",
    "\n",
    "#Pendiente , \"Gaussian Process\" GaussianProcessClassifier(1.0 * RBF(1.0))"
   ]
  },
  {
   "cell_type": "code",
   "execution_count": 8,
   "metadata": {
    "collapsed": true
   },
   "outputs": [],
   "source": [
    "def encode_target(df, target_column):\n",
    "    \"\"\"Add column to df with integers for the target.\n",
    "\n",
    "    Args\n",
    "    ----\n",
    "    df -- pandas DataFrame.\n",
    "    target_column -- column to map to int, producing\n",
    "                     new Target column.\n",
    "\n",
    "    Returns\n",
    "    -------\n",
    "    df_mod -- modified DataFrame.\n",
    "    targets -- list of target names.\n",
    "    \"\"\"\n",
    "    df_mod = df.copy()\n",
    "    targets = df_mod[target_column].unique()\n",
    "    map_to_int = {name: n for n, name in enumerate(targets)}\n",
    "    df_mod[\"Target\"] = df_mod[target_column].replace(map_to_int)\n",
    "\n",
    "    return (df_mod, targets)"
   ]
  },
  {
   "cell_type": "code",
   "execution_count": 49,
   "metadata": {},
   "outputs": [],
   "source": [
    "path = \"/home/jorgher/Documents/faceRec/CFEE/\"\n",
    "files = sorted(glob.glob(path+'*.csv'))\n",
    "files = files[:7]\n",
    "emotions = [\"neutral\",'happy','sad','fearful','angry','surprised','disgusted']\n",
    "dbs = []\n",
    "for i,f in enumerate(files):\n",
    "    db = pd.read_csv(f)\n",
    "    db = db[['D1','D2','D3','D4','D5','D6','D7','A0','A1','A2','A3','A4','A5']]\n",
    "    db['Emotions'] = emotions[i]\n",
    "    dbs.append(db)\n",
    "\n",
    "db = (pd.concat(dbs[i][:] for i in range(len(files))))\n",
    "db_Train, db_Test = train_test_split(db, test_size=0.2)"
   ]
  },
  {
   "cell_type": "code",
   "execution_count": 58,
   "metadata": {},
   "outputs": [],
   "source": [
    "db_7 = db_Test.sample(n=300)\n",
    "test = db_7[['D1','D2','D3','D4','D5','D6','D7','A0','A1','A2','A3','A4','A5']]\n",
    "df2, targets = encode_target(db_Train, \"Emotions\")"
   ]
  },
  {
   "cell_type": "code",
   "execution_count": 59,
   "metadata": {},
   "outputs": [
    {
     "name": "stdout",
     "output_type": "stream",
     "text": [
      "* features:\n",
      "['D1', 'D2', 'D3', 'D4', 'D5', 'D6', 'D7', 'A0', 'A1', 'A2', 'A3', 'A4', 'A5']\n"
     ]
    }
   ],
   "source": [
    "features = list(df2.columns[:13])\n",
    "print(\"* features:\", features, sep=\"\\n\")\n",
    "ERtype={0:'neutral', 1: 'happy',\n",
    "        2: 'sad',3: 'fearful',4:'angry',\n",
    "        5: 'surprised',6: 'disgusted'}\n",
    "y = df2[\"Target\"]\n",
    "X = df2[features]"
   ]
  },
  {
   "cell_type": "code",
   "execution_count": 60,
   "metadata": {},
   "outputs": [
    {
     "name": "stdout",
     "output_type": "stream",
     "text": [
      "Naive Bayes\n",
      "0.616459627329\n",
      "Porcentaje de acierto real. 10.333333333333334\n",
      "QDA\n",
      "0.729037267081\n",
      "Porcentaje de acierto real. 12.666666666666668\n",
      "Decision Tree\n",
      "0.604037267081\n",
      "Porcentaje de acierto real. 11.333333333333332\n",
      "Random Forest\n",
      "0.671583850932\n",
      "Porcentaje de acierto real. 12.666666666666668\n",
      "Neural Net\n",
      "0.578416149068\n",
      "Porcentaje de acierto real. 8.666666666666668\n",
      "AdaBoost\n",
      "0.540372670807\n",
      "Porcentaje de acierto real. 7.000000000000001\n",
      "Nearest Neighbors\n",
      "0.730590062112\n",
      "Porcentaje de acierto real. 13.333333333333334\n",
      "Linear SVM\n",
      "0.625776397516\n",
      "Porcentaje de acierto real. 11.333333333333332\n",
      "RBF SVM\n",
      "1.0\n",
      "Porcentaje de acierto real. 18.0\n"
     ]
    }
   ],
   "source": [
    "emoT = list(db_7['Emotions'])\n",
    "for name, clf in zip(names, classifiers):\n",
    "        print(name)\n",
    "        clf.fit(X, y)\n",
    "        score = clf.score(X, y)\n",
    "        print(score)\n",
    "        con = 0\n",
    "        for i in range(len(test)):\n",
    "            e = clf.predict(test.iloc[[i]])\n",
    "            if ERtype[e[0]] == emoT[i]:\n",
    "                #print('Comparar: {} con: {}.'.format(ERtype[e[0]],emoT[i]))\n",
    "                con = con + 1\n",
    "                      \n",
    "                      \n",
    "        print('Porcentaje de acierto real.', con/len(test)*100)"
   ]
  },
  {
   "cell_type": "code",
   "execution_count": null,
   "metadata": {
    "collapsed": true
   },
   "outputs": [],
   "source": []
  }
 ],
 "metadata": {
  "kernelspec": {
   "display_name": "Python 3",
   "language": "python",
   "name": "python3"
  },
  "language_info": {
   "codemirror_mode": {
    "name": "ipython",
    "version": 3
   },
   "file_extension": ".py",
   "mimetype": "text/x-python",
   "name": "python",
   "nbconvert_exporter": "python",
   "pygments_lexer": "ipython3",
   "version": "3.5.2"
  }
 },
 "nbformat": 4,
 "nbformat_minor": 2
}
